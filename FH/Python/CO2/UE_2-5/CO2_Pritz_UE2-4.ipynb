{
 "cells": [
  {
   "cell_type": "markdown",
   "id": "44d4a80e-4fd1-4cd7-9bda-3b2c97d738fe",
   "metadata": {},
   "source": [
    "# Exercise 2.4\n",
    "Author: Sebastian Pritz"
   ]
  },
  {
   "cell_type": "markdown",
   "id": "fc9e005e-a0fb-42f5-afae-7b342ce11182",
   "metadata": {
    "tags": []
   },
   "source": [
    "## Preparation"
   ]
  },
  {
   "cell_type": "code",
   "execution_count": 1,
   "id": "de231d86-5032-422c-a4cd-4dd75171d620",
   "metadata": {},
   "outputs": [],
   "source": [
    "import pandas as pd\n",
    "import numpy as np\n",
    "import matplotlib.pyplot as plt\n",
    "from sklearn.model_selection import train_test_split, cross_validate, GridSearchCV\n",
    "from sklearn.svm import SVC\n",
    "\n",
    "from pyMLaux import plot_2d_prediction"
   ]
  },
  {
   "cell_type": "code",
   "execution_count": 2,
   "id": "010e688c-269e-4b96-b1ec-5f54313f366c",
   "metadata": {},
   "outputs": [],
   "source": [
    "data_dir = \"src/\""
   ]
  },
  {
   "cell_type": "markdown",
   "id": "0b467844-066e-43c3-9770-d0b4a242b7c4",
   "metadata": {
    "tags": []
   },
   "source": [
    "## Normal Data"
   ]
  },
  {
   "cell_type": "code",
   "execution_count": 3,
   "id": "ed44093c-b7b6-4aa0-a13f-30755cb508b7",
   "metadata": {},
   "outputs": [
    {
     "data": {
      "text/html": [
       "<div>\n",
       "<style scoped>\n",
       "    .dataframe tbody tr th:only-of-type {\n",
       "        vertical-align: middle;\n",
       "    }\n",
       "\n",
       "    .dataframe tbody tr th {\n",
       "        vertical-align: top;\n",
       "    }\n",
       "\n",
       "    .dataframe thead th {\n",
       "        text-align: right;\n",
       "    }\n",
       "</style>\n",
       "<table border=\"1\" class=\"dataframe\">\n",
       "  <thead>\n",
       "    <tr style=\"text-align: right;\">\n",
       "      <th></th>\n",
       "      <th>x1</th>\n",
       "      <th>x2</th>\n",
       "      <th>y</th>\n",
       "    </tr>\n",
       "  </thead>\n",
       "  <tbody>\n",
       "    <tr>\n",
       "      <th>0</th>\n",
       "      <td>0.914806</td>\n",
       "      <td>0.885118</td>\n",
       "      <td>1</td>\n",
       "    </tr>\n",
       "    <tr>\n",
       "      <th>1</th>\n",
       "      <td>0.937075</td>\n",
       "      <td>0.517111</td>\n",
       "      <td>1</td>\n",
       "    </tr>\n",
       "    <tr>\n",
       "      <th>2</th>\n",
       "      <td>0.286140</td>\n",
       "      <td>0.851931</td>\n",
       "      <td>0</td>\n",
       "    </tr>\n",
       "    <tr>\n",
       "      <th>3</th>\n",
       "      <td>0.830448</td>\n",
       "      <td>0.442796</td>\n",
       "      <td>1</td>\n",
       "    </tr>\n",
       "    <tr>\n",
       "      <th>4</th>\n",
       "      <td>0.641746</td>\n",
       "      <td>0.157880</td>\n",
       "      <td>1</td>\n",
       "    </tr>\n",
       "    <tr>\n",
       "      <th>...</th>\n",
       "      <td>...</td>\n",
       "      <td>...</td>\n",
       "      <td>...</td>\n",
       "    </tr>\n",
       "    <tr>\n",
       "      <th>195</th>\n",
       "      <td>0.053129</td>\n",
       "      <td>0.490750</td>\n",
       "      <td>0</td>\n",
       "    </tr>\n",
       "    <tr>\n",
       "      <th>196</th>\n",
       "      <td>0.531874</td>\n",
       "      <td>0.965256</td>\n",
       "      <td>1</td>\n",
       "    </tr>\n",
       "    <tr>\n",
       "      <th>197</th>\n",
       "      <td>0.112308</td>\n",
       "      <td>0.906942</td>\n",
       "      <td>0</td>\n",
       "    </tr>\n",
       "    <tr>\n",
       "      <th>198</th>\n",
       "      <td>0.743188</td>\n",
       "      <td>0.551251</td>\n",
       "      <td>1</td>\n",
       "    </tr>\n",
       "    <tr>\n",
       "      <th>199</th>\n",
       "      <td>0.731315</td>\n",
       "      <td>0.075599</td>\n",
       "      <td>1</td>\n",
       "    </tr>\n",
       "  </tbody>\n",
       "</table>\n",
       "<p>200 rows × 3 columns</p>\n",
       "</div>"
      ],
      "text/plain": [
       "           x1        x2  y\n",
       "0    0.914806  0.885118  1\n",
       "1    0.937075  0.517111  1\n",
       "2    0.286140  0.851931  0\n",
       "3    0.830448  0.442796  1\n",
       "4    0.641746  0.157880  1\n",
       "..        ...       ... ..\n",
       "195  0.053129  0.490750  0\n",
       "196  0.531874  0.965256  1\n",
       "197  0.112308  0.906942  0\n",
       "198  0.743188  0.551251  1\n",
       "199  0.731315  0.075599  1\n",
       "\n",
       "[200 rows x 3 columns]"
      ]
     },
     "execution_count": 3,
     "metadata": {},
     "output_type": "execute_result"
    }
   ],
   "source": [
    "# Read in the data\n",
    "data = pd.read_csv(data_dir+\"Dataset1.csv\")\n",
    "data"
   ]
  },
  {
   "cell_type": "code",
   "execution_count": 4,
   "id": "ecf4d9e9-2099-4cba-b2a9-19529290a596",
   "metadata": {},
   "outputs": [],
   "source": [
    "def apply_grid_search(X, y):\n",
    "    # Apply gridsearch\n",
    "    param_grid = [\n",
    "      {'C': [1, 4, 16, 64, 256], 'kernel': ['linear']},\n",
    "      {'C': [1, 4, 16, 64, 256], 'gamma': [1, 0.01, 0.0001], 'kernel': ['rbf']},\n",
    "     ]\n",
    "\n",
    "    svc_grid_search = GridSearchCV(SVC(), param_grid, cv=10, scoring='accuracy', n_jobs=-1)\n",
    "    svc_grid_search.fit(X_train, y_train)\n",
    "    \n",
    "    return svc_grid_search.best_score_, svc_grid_search.best_estimator_, pd.DataFrame(svc_grid_search.cv_results_)"
   ]
  },
  {
   "cell_type": "code",
   "execution_count": 5,
   "id": "b119f35f-80b5-4605-aaad-0aa92ba04eac",
   "metadata": {
    "tags": []
   },
   "outputs": [
    {
     "name": "stdout",
     "output_type": "stream",
     "text": [
      "1.0 SVC(C=16, gamma=1)\n"
     ]
    },
    {
     "data": {
      "text/plain": [
       "0.95"
      ]
     },
     "execution_count": 5,
     "metadata": {},
     "output_type": "execute_result"
    }
   ],
   "source": [
    "X = data.iloc[:,:-1]\n",
    "y = data.iloc[:,-1]\n",
    "X_train, X_test, y_train, y_test = train_test_split(X, y, test_size=0.3, random_state=1337)\n",
    "score, best_estimator, cv_results = apply_grid_search(X_train, y_train)\n",
    "print(score, best_estimator)\n",
    "best_estimator.score(X_test, y_test)"
   ]
  },
  {
   "cell_type": "code",
   "execution_count": 6,
   "id": "5d02444e-b70e-4177-bbe8-35d4768608ae",
   "metadata": {},
   "outputs": [
    {
     "name": "stderr",
     "output_type": "stream",
     "text": [
      "C:\\Users\\basti\\anaconda3\\envs\\MLTeaching\\lib\\site-packages\\sklearn\\base.py:420: UserWarning: X does not have valid feature names, but SVC was fitted with feature names\n",
      "  warnings.warn(\n"
     ]
    },
    {
     "data": {
      "image/png": "[encoded data removed]",
      "text/plain": [
       "<Figure size 800x800 with 1 Axes>"
      ]
     },
     "metadata": {},
     "output_type": "display_data"
    }
   ],
   "source": [
    "plot_2d_prediction(X, y, best_estimator.decision_function, \n",
    "                   xval=np.linspace(0, 1, 201), yval=np.linspace(0, 1, 201))"
   ]
  },
  {
   "cell_type": "markdown",
   "id": "3b33fa74-9f50-40fa-81ad-89aac65c579e",
   "metadata": {
    "tags": []
   },
   "source": [
    "## Noisy data"
   ]
  },
  {
   "cell_type": "code",
   "execution_count": 7,
   "id": "7276d7fd-8eae-4d08-8c23-45871ac49ef2",
   "metadata": {},
   "outputs": [
    {
     "data": {
      "text/html": [
       "<div>\n",
       "<style scoped>\n",
       "    .dataframe tbody tr th:only-of-type {\n",
       "        vertical-align: middle;\n",
       "    }\n",
       "\n",
       "    .dataframe tbody tr th {\n",
       "        vertical-align: top;\n",
       "    }\n",
       "\n",
       "    .dataframe thead th {\n",
       "        text-align: right;\n",
       "    }\n",
       "</style>\n",
       "<table border=\"1\" class=\"dataframe\">\n",
       "  <thead>\n",
       "    <tr style=\"text-align: right;\">\n",
       "      <th></th>\n",
       "      <th>x1</th>\n",
       "      <th>x2</th>\n",
       "      <th>x3</th>\n",
       "      <th>x4</th>\n",
       "      <th>x5</th>\n",
       "      <th>x6</th>\n",
       "      <th>x7</th>\n",
       "      <th>x8</th>\n",
       "      <th>x9</th>\n",
       "      <th>x10</th>\n",
       "      <th>x11</th>\n",
       "      <th>x12</th>\n",
       "      <th>y</th>\n",
       "    </tr>\n",
       "  </thead>\n",
       "  <tbody>\n",
       "    <tr>\n",
       "      <th>0</th>\n",
       "      <td>0.914806</td>\n",
       "      <td>0.885118</td>\n",
       "      <td>0.375055</td>\n",
       "      <td>0.284770</td>\n",
       "      <td>0.651186</td>\n",
       "      <td>0.736219</td>\n",
       "      <td>0.699472</td>\n",
       "      <td>0.010097</td>\n",
       "      <td>0.192233</td>\n",
       "      <td>0.253310</td>\n",
       "      <td>0.355567</td>\n",
       "      <td>0.684832</td>\n",
       "      <td>1</td>\n",
       "    </tr>\n",
       "    <tr>\n",
       "      <th>1</th>\n",
       "      <td>0.937075</td>\n",
       "      <td>0.517111</td>\n",
       "      <td>0.743134</td>\n",
       "      <td>0.025969</td>\n",
       "      <td>0.146304</td>\n",
       "      <td>0.895315</td>\n",
       "      <td>0.279566</td>\n",
       "      <td>0.422681</td>\n",
       "      <td>0.791806</td>\n",
       "      <td>0.468513</td>\n",
       "      <td>0.003840</td>\n",
       "      <td>0.543668</td>\n",
       "      <td>1</td>\n",
       "    </tr>\n",
       "    <tr>\n",
       "      <th>2</th>\n",
       "      <td>0.286140</td>\n",
       "      <td>0.851931</td>\n",
       "      <td>0.397362</td>\n",
       "      <td>0.115905</td>\n",
       "      <td>0.535645</td>\n",
       "      <td>0.344524</td>\n",
       "      <td>0.149643</td>\n",
       "      <td>0.263230</td>\n",
       "      <td>0.617375</td>\n",
       "      <td>0.804645</td>\n",
       "      <td>0.044673</td>\n",
       "      <td>0.231460</td>\n",
       "      <td>0</td>\n",
       "    </tr>\n",
       "    <tr>\n",
       "      <th>3</th>\n",
       "      <td>0.830448</td>\n",
       "      <td>0.442796</td>\n",
       "      <td>0.474454</td>\n",
       "      <td>0.648627</td>\n",
       "      <td>0.542182</td>\n",
       "      <td>0.717275</td>\n",
       "      <td>0.345648</td>\n",
       "      <td>0.196071</td>\n",
       "      <td>0.604980</td>\n",
       "      <td>0.723759</td>\n",
       "      <td>0.771168</td>\n",
       "      <td>0.444098</td>\n",
       "      <td>1</td>\n",
       "    </tr>\n",
       "    <tr>\n",
       "      <th>4</th>\n",
       "      <td>0.641746</td>\n",
       "      <td>0.157880</td>\n",
       "      <td>0.302353</td>\n",
       "      <td>0.931861</td>\n",
       "      <td>0.577030</td>\n",
       "      <td>0.220521</td>\n",
       "      <td>0.883947</td>\n",
       "      <td>0.287544</td>\n",
       "      <td>0.985824</td>\n",
       "      <td>0.833447</td>\n",
       "      <td>0.017660</td>\n",
       "      <td>0.763388</td>\n",
       "      <td>1</td>\n",
       "    </tr>\n",
       "    <tr>\n",
       "      <th>...</th>\n",
       "      <td>...</td>\n",
       "      <td>...</td>\n",
       "      <td>...</td>\n",
       "      <td>...</td>\n",
       "      <td>...</td>\n",
       "      <td>...</td>\n",
       "      <td>...</td>\n",
       "      <td>...</td>\n",
       "      <td>...</td>\n",
       "      <td>...</td>\n",
       "      <td>...</td>\n",
       "      <td>...</td>\n",
       "      <td>...</td>\n",
       "    </tr>\n",
       "    <tr>\n",
       "      <th>195</th>\n",
       "      <td>0.053129</td>\n",
       "      <td>0.490750</td>\n",
       "      <td>0.831544</td>\n",
       "      <td>0.264399</td>\n",
       "      <td>0.580849</td>\n",
       "      <td>0.636917</td>\n",
       "      <td>0.573821</td>\n",
       "      <td>0.991338</td>\n",
       "      <td>0.510884</td>\n",
       "      <td>0.576342</td>\n",
       "      <td>0.481645</td>\n",
       "      <td>0.508225</td>\n",
       "      <td>0</td>\n",
       "    </tr>\n",
       "    <tr>\n",
       "      <th>196</th>\n",
       "      <td>0.531874</td>\n",
       "      <td>0.965256</td>\n",
       "      <td>0.039422</td>\n",
       "      <td>0.038214</td>\n",
       "      <td>0.253578</td>\n",
       "      <td>0.192396</td>\n",
       "      <td>0.958772</td>\n",
       "      <td>0.583763</td>\n",
       "      <td>0.159350</td>\n",
       "      <td>0.841082</td>\n",
       "      <td>0.165450</td>\n",
       "      <td>0.310631</td>\n",
       "      <td>1</td>\n",
       "    </tr>\n",
       "    <tr>\n",
       "      <th>197</th>\n",
       "      <td>0.112308</td>\n",
       "      <td>0.906942</td>\n",
       "      <td>0.949486</td>\n",
       "      <td>0.653967</td>\n",
       "      <td>0.786904</td>\n",
       "      <td>0.597129</td>\n",
       "      <td>0.505753</td>\n",
       "      <td>0.889178</td>\n",
       "      <td>0.246269</td>\n",
       "      <td>0.223223</td>\n",
       "      <td>0.956225</td>\n",
       "      <td>0.240636</td>\n",
       "      <td>0</td>\n",
       "    </tr>\n",
       "    <tr>\n",
       "      <th>198</th>\n",
       "      <td>0.743188</td>\n",
       "      <td>0.551251</td>\n",
       "      <td>0.130664</td>\n",
       "      <td>0.512717</td>\n",
       "      <td>0.777192</td>\n",
       "      <td>0.079366</td>\n",
       "      <td>0.742545</td>\n",
       "      <td>0.031322</td>\n",
       "      <td>0.166599</td>\n",
       "      <td>0.743682</td>\n",
       "      <td>0.453538</td>\n",
       "      <td>0.754025</td>\n",
       "      <td>1</td>\n",
       "    </tr>\n",
       "    <tr>\n",
       "      <th>199</th>\n",
       "      <td>0.731315</td>\n",
       "      <td>0.075599</td>\n",
       "      <td>0.956662</td>\n",
       "      <td>0.392533</td>\n",
       "      <td>0.191125</td>\n",
       "      <td>0.036472</td>\n",
       "      <td>0.279705</td>\n",
       "      <td>0.056596</td>\n",
       "      <td>0.856740</td>\n",
       "      <td>0.206416</td>\n",
       "      <td>0.686620</td>\n",
       "      <td>0.178784</td>\n",
       "      <td>1</td>\n",
       "    </tr>\n",
       "  </tbody>\n",
       "</table>\n",
       "<p>200 rows × 13 columns</p>\n",
       "</div>"
      ],
      "text/plain": [
       "           x1        x2        x3        x4        x5        x6        x7  \\\n",
       "0    0.914806  0.885118  0.375055  0.284770  0.651186  0.736219  0.699472   \n",
       "1    0.937075  0.517111  0.743134  0.025969  0.146304  0.895315  0.279566   \n",
       "2    0.286140  0.851931  0.397362  0.115905  0.535645  0.344524  0.149643   \n",
       "3    0.830448  0.442796  0.474454  0.648627  0.542182  0.717275  0.345648   \n",
       "4    0.641746  0.157880  0.302353  0.931861  0.577030  0.220521  0.883947   \n",
       "..        ...       ...       ...       ...       ...       ...       ...   \n",
       "195  0.053129  0.490750  0.831544  0.264399  0.580849  0.636917  0.573821   \n",
       "196  0.531874  0.965256  0.039422  0.038214  0.253578  0.192396  0.958772   \n",
       "197  0.112308  0.906942  0.949486  0.653967  0.786904  0.597129  0.505753   \n",
       "198  0.743188  0.551251  0.130664  0.512717  0.777192  0.079366  0.742545   \n",
       "199  0.731315  0.075599  0.956662  0.392533  0.191125  0.036472  0.279705   \n",
       "\n",
       "           x8        x9       x10       x11       x12  y  \n",
       "0    0.010097  0.192233  0.253310  0.355567  0.684832  1  \n",
       "1    0.422681  0.791806  0.468513  0.003840  0.543668  1  \n",
       "2    0.263230  0.617375  0.804645  0.044673  0.231460  0  \n",
       "3    0.196071  0.604980  0.723759  0.771168  0.444098  1  \n",
       "4    0.287544  0.985824  0.833447  0.017660  0.763388  1  \n",
       "..        ...       ...       ...       ...       ... ..  \n",
       "195  0.991338  0.510884  0.576342  0.481645  0.508225  0  \n",
       "196  0.583763  0.159350  0.841082  0.165450  0.310631  1  \n",
       "197  0.889178  0.246269  0.223223  0.956225  0.240636  0  \n",
       "198  0.031322  0.166599  0.743682  0.453538  0.754025  1  \n",
       "199  0.056596  0.856740  0.206416  0.686620  0.178784  1  \n",
       "\n",
       "[200 rows x 13 columns]"
      ]
     },
     "execution_count": 7,
     "metadata": {},
     "output_type": "execute_result"
    }
   ],
   "source": [
    "# Create noisy dataset\n",
    "noisy_data = data.copy(deep=True)\n",
    "for i in range(10):\n",
    "    noisy_data[f\"x{i+3}\"] = np.random.uniform(size=noisy_data.shape[0])\n",
    "\n",
    "cols = list(noisy_data.columns.values)\n",
    "cols.pop(cols.index(\"y\"))\n",
    "noisy_data = noisy_data[cols + [\"y\"]]\n",
    "noisy_data"
   ]
  },
  {
   "cell_type": "code",
   "execution_count": 8,
   "id": "ecc2ad16-5f52-482a-8668-d64d985610d0",
   "metadata": {},
   "outputs": [
    {
     "name": "stdout",
     "output_type": "stream",
     "text": [
      "0.9 SVC(C=4, kernel='linear')\n"
     ]
    },
    {
     "data": {
      "text/plain": [
       "0.7666666666666667"
      ]
     },
     "execution_count": 8,
     "metadata": {},
     "output_type": "execute_result"
    }
   ],
   "source": [
    "X = noisy_data.iloc[:,:-1]\n",
    "y = noisy_data.iloc[:,-1]\n",
    "X_train, X_test, y_train, y_test = train_test_split(X, y, test_size=0.3, random_state=1337)\n",
    "score, best_estimator, cv_results = apply_grid_search(X_train, y_train)\n",
    "print(score, best_estimator)\n",
    "best_estimator.score(X_test, y_test)"
   ]
  },
  {
   "cell_type": "code",
   "execution_count": 9,
   "id": "c4d0469d-e2e9-4a5a-94db-ffdf9240efd3",
   "metadata": {},
   "outputs": [],
   "source": [
    "# Due to there being 12 features now, it cannot be plotted anymore, but the problem surely isn't linearly separable, as was seen in the last plot."
   ]
  },
  {
   "cell_type": "markdown",
   "id": "262ed4e8-b442-40d3-bb02-7cf304772f8a",
   "metadata": {},
   "source": [
    "## Observations"
   ]
  },
  {
   "cell_type": "markdown",
   "id": "2c38f1aa-1956-48ec-945e-803f6e31099b",
   "metadata": {},
   "source": [
    "As can be seen in the attempts above, the noisy data has an almost 17% higher generalization error. This is most likely due to the fact that SVMs cannot deal with noise on their own, because they lack a measure of feature importance and therefor feature selection as a whole is missing. "
   ]
  }
 ],
 "metadata": {
  "kernelspec": {
   "display_name": "Python (MLTeaching)",
   "language": "python",
   "name": "mlteaching"
  },
  "language_info": {
   "codemirror_mode": {
    "name": "ipython",
    "version": 3
   },
   "file_extension": ".py",
   "mimetype": "text/x-python",
   "name": "python",
   "nbconvert_exporter": "python",
   "pygments_lexer": "ipython3",
   "version": "3.8.8"
  }
 },
 "nbformat": 4,
 "nbformat_minor": 5
}
