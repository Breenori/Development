{
 "cells": [
  {
   "cell_type": "markdown",
   "metadata": {
    "id": "-gNz_hHbGxHG"
   },
   "source": [
    "# Support Vector Machines"
   ]
  },
  {
   "cell_type": "markdown",
   "metadata": {
    "id": "hQyIzjvUGxHH"
   },
   "source": [
    "## Setup"
   ]
  },
  {
   "cell_type": "code",
   "execution_count": 1,
   "metadata": {
    "colab": {
     "base_uri": "https://localhost:8080/"
    },
    "executionInfo": {
     "elapsed": 21498,
     "status": "ok",
     "timestamp": 1677138287218,
     "user": {
      "displayName": "Ulrich Bodenhofer",
      "userId": "07009582510819085803"
     },
     "user_tz": -60
    },
    "id": "hr12mAwtG2oQ",
    "outputId": "d6f016bf-25e2-44ce-b9ee-c650d772f084"
   },
   "outputs": [
    {
     "name": "stdout",
     "output_type": "stream",
     "text": [
      "Mounted at /content/drive\n"
     ]
    }
   ],
   "source": [
    "## this is Colab-specific; remove if you are not using Colab\n",
    "from google.colab import drive\n",
    "drive.mount('/content/drive')"
   ]
  },
  {
   "cell_type": "code",
   "execution_count": 2,
   "metadata": {
    "executionInfo": {
     "elapsed": 3,
     "status": "ok",
     "timestamp": 1677138297134,
     "user": {
      "displayName": "Ulrich Bodenhofer",
      "userId": "07009582510819085803"
     },
     "user_tz": -60
    },
    "id": "FVDcQxfSHAuN"
   },
   "outputs": [],
   "source": [
    "## adapt this directory to your needs\n",
    "base_dir = '/content/drive/MyDrive/'\n",
    "notebook_dir = base_dir + 'Colab\\ Notebooks/MLTeaching/'\n",
    "data_dir = base_dir + 'Work/DataSets/'"
   ]
  },
  {
   "cell_type": "code",
   "execution_count": 3,
   "metadata": {
    "colab": {
     "base_uri": "https://localhost:8080/"
    },
    "executionInfo": {
     "elapsed": 13659,
     "status": "ok",
     "timestamp": 1677138315190,
     "user": {
      "displayName": "Ulrich Bodenhofer",
      "userId": "07009582510819085803"
     },
     "user_tz": -60
    },
    "id": "FgLFGNx0DD_0",
    "outputId": "30b33295-baaf-4041-df45-e661caec90fc"
   },
   "outputs": [
    {
     "name": "stdout",
     "output_type": "stream",
     "text": [
      "Looking in indexes: https://pypi.org/simple, https://us-python.pkg.dev/colab-wheels/public/simple/\n",
      "Collecting git+https://github.com/UBod/pyMLaux.git\n",
      "  Cloning https://github.com/UBod/pyMLaux.git to /tmp/pip-req-build-gkl4_war\n",
      "  Running command git clone --filter=blob:none --quiet https://github.com/UBod/pyMLaux.git /tmp/pip-req-build-gkl4_war\n",
      "  Resolved https://github.com/UBod/pyMLaux.git to commit e9defd85bab5f5d89548b7494071561c81ae8517\n",
      "  Preparing metadata (setup.py) ... \u001b[?25l\u001b[?25hdone\n",
      "Requirement already satisfied: numpy in /usr/local/lib/python3.8/dist-packages (from pyMLaux==0.0.5) (1.22.4)\n",
      "Requirement already satisfied: pandas in /usr/local/lib/python3.8/dist-packages (from pyMLaux==0.0.5) (1.3.5)\n",
      "Collecting sklearn\n",
      "  Downloading sklearn-0.0.post1.tar.gz (3.6 kB)\n",
      "  Preparing metadata (setup.py) ... \u001b[?25l\u001b[?25hdone\n",
      "Requirement already satisfied: scipy in /usr/local/lib/python3.8/dist-packages (from pyMLaux==0.0.5) (1.7.3)\n",
      "Requirement already satisfied: matplotlib in /usr/local/lib/python3.8/dist-packages (from pyMLaux==0.0.5) (3.2.2)\n",
      "Requirement already satisfied: opencv-python in /usr/local/lib/python3.8/dist-packages (from pyMLaux==0.0.5) (4.6.0.66)\n",
      "Requirement already satisfied: pyparsing!=2.0.4,!=2.1.2,!=2.1.6,>=2.0.1 in /usr/local/lib/python3.8/dist-packages (from matplotlib->pyMLaux==0.0.5) (3.0.9)\n",
      "Requirement already satisfied: python-dateutil>=2.1 in /usr/local/lib/python3.8/dist-packages (from matplotlib->pyMLaux==0.0.5) (2.8.2)\n",
      "Requirement already satisfied: cycler>=0.10 in /usr/local/lib/python3.8/dist-packages (from matplotlib->pyMLaux==0.0.5) (0.11.0)\n",
      "Requirement already satisfied: kiwisolver>=1.0.1 in /usr/local/lib/python3.8/dist-packages (from matplotlib->pyMLaux==0.0.5) (1.4.4)\n",
      "Requirement already satisfied: pytz>=2017.3 in /usr/local/lib/python3.8/dist-packages (from pandas->pyMLaux==0.0.5) (2022.7.1)\n",
      "Requirement already satisfied: six>=1.5 in /usr/local/lib/python3.8/dist-packages (from python-dateutil>=2.1->matplotlib->pyMLaux==0.0.5) (1.15.0)\n",
      "Building wheels for collected packages: pyMLaux, sklearn\n",
      "  Building wheel for pyMLaux (setup.py) ... \u001b[?25l\u001b[?25hdone\n",
      "  Created wheel for pyMLaux: filename=pyMLaux-0.0.5-py3-none-any.whl size=6795 sha256=96cb2461794b71fe17a076e54faf3fbb6ceda3a5c4c52c7433fb8e1735fcf308\n",
      "  Stored in directory: /tmp/pip-ephem-wheel-cache-2dhs_2q3/wheels/04/d3/4b/95324531ee12976752872ed3ea1a73976f19f607202f6af0c8\n",
      "  Building wheel for sklearn (setup.py) ... \u001b[?25l\u001b[?25hdone\n",
      "  Created wheel for sklearn: filename=sklearn-0.0.post1-py3-none-any.whl size=2344 sha256=6dbca36557151a222e4868f6d80898c9f04362f0af51e019d5aa72a0234186e2\n",
      "  Stored in directory: /root/.cache/pip/wheels/14/25/f7/1cc0956978ae479e75140219088deb7a36f60459df242b1a72\n",
      "Successfully built pyMLaux sklearn\n",
      "Installing collected packages: sklearn, pyMLaux\n",
      "Successfully installed pyMLaux-0.0.5 sklearn-0.0.post1\n",
      "Looking in indexes: https://pypi.org/simple, https://us-python.pkg.dev/colab-wheels/public/simple/\n",
      "Collecting Bio\n",
      "  Downloading bio-1.5.3-py3-none-any.whl (272 kB)\n",
      "\u001b[2K     \u001b[90m━━━━━━━━━━━━━━━━━━━━━━━━━━━━━━━━━━━━━━\u001b[0m \u001b[32m272.6/272.6 KB\u001b[0m \u001b[31m13.8 MB/s\u001b[0m eta \u001b[36m0:00:00\u001b[0m\n",
      "\u001b[?25hCollecting strkernel\n",
      "  Downloading strkernel-0.2-py3-none-any.whl (21 kB)\n",
      "Collecting mygene\n",
      "  Downloading mygene-3.2.2-py2.py3-none-any.whl (5.4 kB)\n",
      "Requirement already satisfied: tqdm in /usr/local/lib/python3.8/dist-packages (from Bio) (4.64.1)\n",
      "Requirement already satisfied: requests in /usr/local/lib/python3.8/dist-packages (from Bio) (2.25.1)\n",
      "Collecting biopython>=1.80\n",
      "  Downloading biopython-1.81-cp38-cp38-manylinux_2_17_x86_64.manylinux2014_x86_64.whl (3.1 MB)\n",
      "\u001b[2K     \u001b[90m━━━━━━━━━━━━━━━━━━━━━━━━━━━━━━━━━━━━━━━━\u001b[0m \u001b[32m3.1/3.1 MB\u001b[0m \u001b[31m83.8 MB/s\u001b[0m eta \u001b[36m0:00:00\u001b[0m\n",
      "\u001b[?25hRequirement already satisfied: scipy in /usr/local/lib/python3.8/dist-packages (from strkernel) (1.7.3)\n",
      "Requirement already satisfied: numpy in /usr/local/lib/python3.8/dist-packages (from strkernel) (1.22.4)\n",
      "Collecting biothings-client>=0.2.6\n",
      "  Downloading biothings_client-0.2.6-py2.py3-none-any.whl (37 kB)\n",
      "Requirement already satisfied: urllib3<1.27,>=1.21.1 in /usr/local/lib/python3.8/dist-packages (from requests->Bio) (1.24.3)\n",
      "Requirement already satisfied: chardet<5,>=3.0.2 in /usr/local/lib/python3.8/dist-packages (from requests->Bio) (4.0.0)\n",
      "Requirement already satisfied: certifi>=2017.4.17 in /usr/local/lib/python3.8/dist-packages (from requests->Bio) (2022.12.7)\n",
      "Requirement already satisfied: idna<3,>=2.5 in /usr/local/lib/python3.8/dist-packages (from requests->Bio) (2.10)\n",
      "Installing collected packages: biopython, strkernel, biothings-client, mygene, Bio\n",
      "Successfully installed Bio-1.5.3 biopython-1.81 biothings-client-0.2.6 mygene-3.2.2 strkernel-0.2\n"
     ]
    }
   ],
   "source": [
    "## if using Colab, you need to run this every time you start a notebook\n",
    "## on a local installation, you only need to run this once (or install the\n",
    "## packages outside of the notebook once and for all)\n",
    "!pip install git+https://github.com/UBod/pyMLaux.git\n",
    "!pip install Bio strkernel"
   ]
  },
  {
   "cell_type": "code",
   "execution_count": 4,
   "metadata": {
    "executionInfo": {
     "elapsed": 3118,
     "status": "ok",
     "timestamp": 1677138326031,
     "user": {
      "displayName": "Ulrich Bodenhofer",
      "userId": "07009582510819085803"
     },
     "user_tz": -60
    },
    "id": "tJFTSVJZGxHL"
   },
   "outputs": [],
   "source": [
    "import pandas as pd\n",
    "import numpy as np\n",
    "import matplotlib.pyplot as plt\n",
    "\n",
    "from sklearn.svm import SVC\n",
    "from sklearn.neighbors import KNeighborsClassifier\n",
    "from sklearn.ensemble import RandomForestClassifier\n",
    "from sklearn.model_selection import train_test_split, LeaveOneOut, cross_validate, GridSearchCV\n",
    "from sklearn import metrics\n",
    "\n",
    "from xgboost import XGBClassifier\n",
    "\n",
    "from Bio.Seq import Seq\n",
    "from strkernel.gappy_kernel import gappypair_kernel as gk\n",
    "\n",
    "from pyMLaux import plot_2d_prediction, show_img_data"
   ]
  },
  {
   "cell_type": "markdown",
   "metadata": {
    "id": "g-t4qFnEGxHL"
   },
   "source": [
    "## Simple Example (Fish Data)\n",
    "\n"
   ]
  },
  {
   "cell_type": "code",
   "execution_count": 5,
   "metadata": {
    "executionInfo": {
     "elapsed": 1564,
     "status": "ok",
     "timestamp": 1677138334229,
     "user": {
      "displayName": "Ulrich Bodenhofer",
      "userId": "07009582510819085803"
     },
     "user_tz": -60
    },
    "id": "1QTwQPeVGxHM"
   },
   "outputs": [],
   "source": [
    "fish_data_raw = pd.read_csv(data_dir + 'fish.csv', sep=',')\n",
    "fish_data = {'data': np.array(fish_data_raw.iloc[:, :-1]),\n",
    "             'target': (np.array(fish_data_raw.iloc[:, -1]) + 1) / 2,\n",
    "             'feature_names': fish_data_raw.columns[:-1],\n",
    "             'target_names': ['Salmon', 'Sea bass']}"
   ]
  },
  {
   "cell_type": "code",
   "execution_count": 6,
   "metadata": {
    "colab": {
     "base_uri": "https://localhost:8080/"
    },
    "executionInfo": {
     "elapsed": 4,
     "status": "ok",
     "timestamp": 1677138336947,
     "user": {
      "displayName": "Ulrich Bodenhofer",
      "userId": "07009582510819085803"
     },
     "user_tz": -60
    },
    "id": "ee4GNTyWYqpm",
    "outputId": "127e4eeb-15cf-46e8-f4dc-46d09e3d5fed"
   },
   "outputs": [
    {
     "data": {
      "text/plain": [
       "SVC(C=100000, kernel='linear')"
      ]
     },
     "execution_count": 6,
     "metadata": {},
     "output_type": "execute_result"
    }
   ],
   "source": [
    "svm_model1 = SVC(kernel='linear', C=100000)\n",
    "svm_model1.fit(X=fish_data['data'], y=fish_data['target'])"
   ]
  },
  {
   "cell_type": "code",
   "execution_count": 7,
   "metadata": {
    "colab": {
     "base_uri": "https://localhost:8080/",
     "height": 487
    },
    "executionInfo": {
     "elapsed": 406,
     "status": "ok",
     "timestamp": 1677138340805,
     "user": {
      "displayName": "Ulrich Bodenhofer",
      "userId": "07009582510819085803"
     },
     "user_tz": -60
    },
    "id": "oIIX00nzY4z9",
    "outputId": "c07ddd32-147c-4ae0-b0d7-8202052103fa"
   },
   "outputs": [
    {
     "data": {
      "image/png": "[encoded data removed]",
      "text/plain": [
       "<Figure size 576x576 with 1 Axes>"
      ]
     },
     "metadata": {
      "needs_background": "light"
     },
     "output_type": "display_data"
    }
   ],
   "source": [
    "plot_2d_prediction(fish_data['data'], fish_data['target'], svm_model1.decision_function, \n",
    "                   xval=np.linspace(0, 1, 201), yval=np.linspace(0, 1, 201))"
   ]
  },
  {
   "cell_type": "code",
   "execution_count": 8,
   "metadata": {
    "colab": {
     "base_uri": "https://localhost:8080/"
    },
    "executionInfo": {
     "elapsed": 320,
     "status": "ok",
     "timestamp": 1677138345086,
     "user": {
      "displayName": "Ulrich Bodenhofer",
      "userId": "07009582510819085803"
     },
     "user_tz": -60
    },
    "id": "NacghnZLGxHN",
    "outputId": "164fa569-44d3-45d7-e3cb-56285916fcc2"
   },
   "outputs": [
    {
     "data": {
      "text/plain": [
       "SVC(C=12, gamma=1.8)"
      ]
     },
     "execution_count": 8,
     "metadata": {},
     "output_type": "execute_result"
    }
   ],
   "source": [
    "svm_model2 = SVC(kernel='rbf', C=12, gamma=1.8)\n",
    "svm_model2.fit(X=fish_data['data'], y=fish_data['target'])"
   ]
  },
  {
   "cell_type": "code",
   "execution_count": 9,
   "metadata": {
    "colab": {
     "base_uri": "https://localhost:8080/",
     "height": 487
    },
    "executionInfo": {
     "elapsed": 410,
     "status": "ok",
     "timestamp": 1677138348120,
     "user": {
      "displayName": "Ulrich Bodenhofer",
      "userId": "07009582510819085803"
     },
     "user_tz": -60
    },
    "id": "A-5rWQfQGxHN",
    "outputId": "cf46e460-ec95-4f9c-aab4-0b0886f76a4b"
   },
   "outputs": [
    {
     "data": {
      "image/png": "[encoded data removed]",
      "text/plain": [
       "<Figure size 576x576 with 1 Axes>"
      ]
     },
     "metadata": {
      "needs_background": "light"
     },
     "output_type": "display_data"
    }
   ],
   "source": [
    "plot_2d_prediction(fish_data['data'], fish_data['target'], svm_model2.decision_function, \n",
    "                   xval=np.linspace(0, 1, 101), yval=np.linspace(0, 1, 101))"
   ]
  },
  {
   "cell_type": "code",
   "execution_count": 10,
   "metadata": {
    "colab": {
     "base_uri": "https://localhost:8080/"
    },
    "executionInfo": {
     "elapsed": 333,
     "status": "ok",
     "timestamp": 1677138351505,
     "user": {
      "displayName": "Ulrich Bodenhofer",
      "userId": "07009582510819085803"
     },
     "user_tz": -60
    },
    "id": "KTlwsQQYGxHO",
    "outputId": "4cfecba3-01cf-47c0-b482-2083903f9ec3"
   },
   "outputs": [
    {
     "data": {
      "text/plain": [
       "SVC(C=1000000, gamma=20)"
      ]
     },
     "execution_count": 10,
     "metadata": {},
     "output_type": "execute_result"
    }
   ],
   "source": [
    "svm_model3 = SVC(kernel='rbf', C=1000000, gamma=20)\n",
    "svm_model3.fit(X=fish_data['data'], y=fish_data['target'])"
   ]
  },
  {
   "cell_type": "code",
   "execution_count": 11,
   "metadata": {
    "colab": {
     "base_uri": "https://localhost:8080/",
     "height": 487
    },
    "executionInfo": {
     "elapsed": 7,
     "status": "ok",
     "timestamp": 1677138354816,
     "user": {
      "displayName": "Ulrich Bodenhofer",
      "userId": "07009582510819085803"
     },
     "user_tz": -60
    },
    "id": "kxAe6YA_GxHO",
    "outputId": "38bd6669-21e9-4af5-9ca6-dc1defcea0d6"
   },
   "outputs": [
    {
     "data": {
      "image/png": "[encoded data removed]",
      "text/plain": [
       "<Figure size 576x576 with 1 Axes>"
      ]
     },
     "metadata": {
      "needs_background": "light"
     },
     "output_type": "display_data"
    }
   ],
   "source": [
    "plot_2d_prediction(fish_data['data'], fish_data['target'], svm_model3.decision_function, \n",
    "                   xval=np.linspace(0, 1, 101), yval=np.linspace(0, 1, 101))"
   ]
  },
  {
   "cell_type": "markdown",
   "metadata": {
    "id": "sm4YnNvfGxHS"
   },
   "source": [
    "## Simple Digit Recognition Example "
   ]
  },
  {
   "cell_type": "code",
   "execution_count": 12,
   "metadata": {
    "executionInfo": {
     "elapsed": 797,
     "status": "ok",
     "timestamp": 1677138360087,
     "user": {
      "displayName": "Ulrich Bodenhofer",
      "userId": "07009582510819085803"
     },
     "user_tz": -60
    },
    "id": "JjcaxUbqGxHS"
   },
   "outputs": [],
   "source": [
    "dig_train_raw = pd.read_csv(data_dir + '/Digits_training.csv', sep=',')\n",
    "dig_train = {'data': np.array(dig_train_raw.iloc[:, :-1]),\n",
    "             'target': np.array(dig_train_raw.iloc[:, -1]),\n",
    "             'feature_names': dig_train_raw.columns[:-1],\n",
    "             'target_names': [str(i) for i in range(0, 10)]}"
   ]
  },
  {
   "cell_type": "code",
   "execution_count": 13,
   "metadata": {
    "executionInfo": {
     "elapsed": 920,
     "status": "ok",
     "timestamp": 1677138363472,
     "user": {
      "displayName": "Ulrich Bodenhofer",
      "userId": "07009582510819085803"
     },
     "user_tz": -60
    },
    "id": "sf6xQRW5GxHT"
   },
   "outputs": [],
   "source": [
    "dig_test_raw = pd.read_csv(data_dir + '/Digits_test.csv', sep=',')\n",
    "dig_test = {'data': np.array(dig_test_raw.iloc[:, :-1]),\n",
    "            'target': np.array(dig_test_raw.iloc[:, -1]),\n",
    "            'feature_names': dig_test_raw.columns[:-1],\n",
    "            'target_names': [str(i) for i in range(0, 10)]}"
   ]
  },
  {
   "cell_type": "code",
   "execution_count": 14,
   "metadata": {
    "colab": {
     "base_uri": "https://localhost:8080/",
     "height": 252
    },
    "executionInfo": {
     "elapsed": 1022,
     "status": "ok",
     "timestamp": 1677138367835,
     "user": {
      "displayName": "Ulrich Bodenhofer",
      "userId": "07009582510819085803"
     },
     "user_tz": -60
    },
    "id": "sAb2F8LBGxHT",
    "outputId": "1ef0168d-22f2-4aed-da48-d5100d34a236"
   },
   "outputs": [
    {
     "data": {
      "image/png": "[encoded data removed]",
      "text/plain": [
       "<Figure size 288x288 with 30 Axes>"
      ]
     },
     "metadata": {
      "needs_background": "light"
     },
     "output_type": "display_data"
    }
   ],
   "source": [
    "show_img_data(dig_train['data'].reshape((dig_train['data'].shape[0], 6, 4, 1)), figsize=(4, 4), interpolation=None)"
   ]
  },
  {
   "cell_type": "code",
   "execution_count": 15,
   "metadata": {
    "colab": {
     "base_uri": "https://localhost:8080/"
    },
    "executionInfo": {
     "elapsed": 319,
     "status": "ok",
     "timestamp": 1677138371084,
     "user": {
      "displayName": "Ulrich Bodenhofer",
      "userId": "07009582510819085803"
     },
     "user_tz": -60
    },
    "id": "wI4oSNP1GxHT",
    "outputId": "53d3cf3a-3028-4e12-e1fd-b63d79f62fcf"
   },
   "outputs": [
    {
     "data": {
      "text/plain": [
       "array([[8, 5, 1, 0, 6, 0],\n",
       "       [3, 2, 3, 4, 9, 5],\n",
       "       [3, 3, 1, 6, 4, 7],\n",
       "       [5, 0, 1, 0, 2, 0],\n",
       "       [2, 6, 5, 2, 7, 2]])"
      ]
     },
     "execution_count": 15,
     "metadata": {},
     "output_type": "execute_result"
    }
   ],
   "source": [
    "dig_train['target'][range(0, 30)].reshape(5, 6)"
   ]
  },
  {
   "cell_type": "markdown",
   "metadata": {
    "id": "uSyr7dYEGxHV"
   },
   "source": [
    "### Try Linear SVM"
   ]
  },
  {
   "cell_type": "code",
   "execution_count": 16,
   "metadata": {
    "executionInfo": {
     "elapsed": 340,
     "status": "ok",
     "timestamp": 1677138395069,
     "user": {
      "displayName": "Ulrich Bodenhofer",
      "userId": "07009582510819085803"
     },
     "user_tz": -60
    },
    "id": "rUGdrm5KGxHW"
   },
   "outputs": [],
   "source": [
    "parameters = {'C': [2**i for i in range(-5, 6)]}\n",
    "svmL_models = GridSearchCV(SVC(kernel='linear'), parameters, cv=10, n_jobs=-1)"
   ]
  },
  {
   "cell_type": "code",
   "execution_count": 17,
   "metadata": {
    "colab": {
     "base_uri": "https://localhost:8080/"
    },
    "executionInfo": {
     "elapsed": 16272,
     "status": "ok",
     "timestamp": 1677138414215,
     "user": {
      "displayName": "Ulrich Bodenhofer",
      "userId": "07009582510819085803"
     },
     "user_tz": -60
    },
    "id": "iN2eflwkGxHW",
    "outputId": "9eb9ce02-09ec-4ab6-fb41-f28520223bfe"
   },
   "outputs": [
    {
     "data": {
      "text/plain": [
       "GridSearchCV(cv=10, estimator=SVC(kernel='linear'), n_jobs=-1,\n",
       "             param_grid={'C': [0.03125, 0.0625, 0.125, 0.25, 0.5, 1, 2, 4, 8,\n",
       "                               16, 32]})"
      ]
     },
     "execution_count": 17,
     "metadata": {},
     "output_type": "execute_result"
    }
   ],
   "source": [
    "svmL_models.fit(dig_train['data'], dig_train['target'])"
   ]
  },
  {
   "cell_type": "code",
   "execution_count": 18,
   "metadata": {
    "colab": {
     "base_uri": "https://localhost:8080/",
     "height": 527
    },
    "executionInfo": {
     "elapsed": 407,
     "status": "ok",
     "timestamp": 1677138417763,
     "user": {
      "displayName": "Ulrich Bodenhofer",
      "userId": "07009582510819085803"
     },
     "user_tz": -60
    },
    "id": "9KeQMFYfGxHX",
    "outputId": "b9dced16-e119-4824-ecc6-1f9b5ac75cf8"
   },
   "outputs": [
    {
     "data": {
      "text/html": [
       "\n",
       "  <div id=\"df-6c276005-a160-4591-8cc6-23a2ae0f9e06\">\n",
       "    <div class=\"colab-df-container\">\n",
       "      <div>\n",
       "<style scoped>\n",
       "    .dataframe tbody tr th:only-of-type {\n",
       "        vertical-align: middle;\n",
       "    }\n",
       "\n",
       "    .dataframe tbody tr th {\n",
       "        vertical-align: top;\n",
       "    }\n",
       "\n",
       "    .dataframe thead th {\n",
       "        text-align: right;\n",
       "    }\n",
       "</style>\n",
       "<table border=\"1\" class=\"dataframe\">\n",
       "  <thead>\n",
       "    <tr style=\"text-align: right;\">\n",
       "      <th></th>\n",
       "      <th>mean_fit_time</th>\n",
       "      <th>std_fit_time</th>\n",
       "      <th>mean_score_time</th>\n",
       "      <th>std_score_time</th>\n",
       "      <th>param_C</th>\n",
       "      <th>params</th>\n",
       "      <th>split0_test_score</th>\n",
       "      <th>split1_test_score</th>\n",
       "      <th>split2_test_score</th>\n",
       "      <th>split3_test_score</th>\n",
       "      <th>split4_test_score</th>\n",
       "      <th>split5_test_score</th>\n",
       "      <th>split6_test_score</th>\n",
       "      <th>split7_test_score</th>\n",
       "      <th>split8_test_score</th>\n",
       "      <th>split9_test_score</th>\n",
       "      <th>mean_test_score</th>\n",
       "      <th>std_test_score</th>\n",
       "      <th>rank_test_score</th>\n",
       "    </tr>\n",
       "  </thead>\n",
       "  <tbody>\n",
       "    <tr>\n",
       "      <th>0</th>\n",
       "      <td>0.332923</td>\n",
       "      <td>0.011235</td>\n",
       "      <td>0.039669</td>\n",
       "      <td>0.008839</td>\n",
       "      <td>0.03125</td>\n",
       "      <td>{'C': 0.03125}</td>\n",
       "      <td>0.790000</td>\n",
       "      <td>0.803333</td>\n",
       "      <td>0.856667</td>\n",
       "      <td>0.850000</td>\n",
       "      <td>0.856667</td>\n",
       "      <td>0.860000</td>\n",
       "      <td>0.856667</td>\n",
       "      <td>0.860000</td>\n",
       "      <td>0.863333</td>\n",
       "      <td>0.860000</td>\n",
       "      <td>0.845667</td>\n",
       "      <td>0.024902</td>\n",
       "      <td>11</td>\n",
       "    </tr>\n",
       "    <tr>\n",
       "      <th>1</th>\n",
       "      <td>0.341146</td>\n",
       "      <td>0.099860</td>\n",
       "      <td>0.043090</td>\n",
       "      <td>0.013595</td>\n",
       "      <td>0.0625</td>\n",
       "      <td>{'C': 0.0625}</td>\n",
       "      <td>0.810000</td>\n",
       "      <td>0.813333</td>\n",
       "      <td>0.880000</td>\n",
       "      <td>0.850000</td>\n",
       "      <td>0.880000</td>\n",
       "      <td>0.866667</td>\n",
       "      <td>0.883333</td>\n",
       "      <td>0.876667</td>\n",
       "      <td>0.870000</td>\n",
       "      <td>0.883333</td>\n",
       "      <td>0.861333</td>\n",
       "      <td>0.026592</td>\n",
       "      <td>10</td>\n",
       "    </tr>\n",
       "    <tr>\n",
       "      <th>2</th>\n",
       "      <td>0.369984</td>\n",
       "      <td>0.055319</td>\n",
       "      <td>0.046972</td>\n",
       "      <td>0.014540</td>\n",
       "      <td>0.125</td>\n",
       "      <td>{'C': 0.125}</td>\n",
       "      <td>0.826667</td>\n",
       "      <td>0.826667</td>\n",
       "      <td>0.893333</td>\n",
       "      <td>0.866667</td>\n",
       "      <td>0.893333</td>\n",
       "      <td>0.873333</td>\n",
       "      <td>0.900000</td>\n",
       "      <td>0.866667</td>\n",
       "      <td>0.873333</td>\n",
       "      <td>0.896667</td>\n",
       "      <td>0.871667</td>\n",
       "      <td>0.025441</td>\n",
       "      <td>9</td>\n",
       "    </tr>\n",
       "    <tr>\n",
       "      <th>3</th>\n",
       "      <td>0.181063</td>\n",
       "      <td>0.006752</td>\n",
       "      <td>0.022485</td>\n",
       "      <td>0.000410</td>\n",
       "      <td>0.25</td>\n",
       "      <td>{'C': 0.25}</td>\n",
       "      <td>0.850000</td>\n",
       "      <td>0.850000</td>\n",
       "      <td>0.903333</td>\n",
       "      <td>0.876667</td>\n",
       "      <td>0.900000</td>\n",
       "      <td>0.893333</td>\n",
       "      <td>0.920000</td>\n",
       "      <td>0.870000</td>\n",
       "      <td>0.886667</td>\n",
       "      <td>0.920000</td>\n",
       "      <td>0.887000</td>\n",
       "      <td>0.024058</td>\n",
       "      <td>8</td>\n",
       "    </tr>\n",
       "    <tr>\n",
       "      <th>4</th>\n",
       "      <td>0.167032</td>\n",
       "      <td>0.006256</td>\n",
       "      <td>0.020240</td>\n",
       "      <td>0.000724</td>\n",
       "      <td>0.5</td>\n",
       "      <td>{'C': 0.5}</td>\n",
       "      <td>0.870000</td>\n",
       "      <td>0.853333</td>\n",
       "      <td>0.900000</td>\n",
       "      <td>0.886667</td>\n",
       "      <td>0.903333</td>\n",
       "      <td>0.893333</td>\n",
       "      <td>0.930000</td>\n",
       "      <td>0.876667</td>\n",
       "      <td>0.890000</td>\n",
       "      <td>0.923333</td>\n",
       "      <td>0.892667</td>\n",
       "      <td>0.022050</td>\n",
       "      <td>4</td>\n",
       "    </tr>\n",
       "    <tr>\n",
       "      <th>5</th>\n",
       "      <td>0.164157</td>\n",
       "      <td>0.005369</td>\n",
       "      <td>0.017534</td>\n",
       "      <td>0.000321</td>\n",
       "      <td>1</td>\n",
       "      <td>{'C': 1}</td>\n",
       "      <td>0.866667</td>\n",
       "      <td>0.853333</td>\n",
       "      <td>0.903333</td>\n",
       "      <td>0.886667</td>\n",
       "      <td>0.890000</td>\n",
       "      <td>0.896667</td>\n",
       "      <td>0.923333</td>\n",
       "      <td>0.870000</td>\n",
       "      <td>0.890000</td>\n",
       "      <td>0.926667</td>\n",
       "      <td>0.890667</td>\n",
       "      <td>0.022301</td>\n",
       "      <td>6</td>\n",
       "    </tr>\n",
       "    <tr>\n",
       "      <th>6</th>\n",
       "      <td>0.172366</td>\n",
       "      <td>0.005208</td>\n",
       "      <td>0.015901</td>\n",
       "      <td>0.000264</td>\n",
       "      <td>2</td>\n",
       "      <td>{'C': 2}</td>\n",
       "      <td>0.863333</td>\n",
       "      <td>0.870000</td>\n",
       "      <td>0.893333</td>\n",
       "      <td>0.900000</td>\n",
       "      <td>0.893333</td>\n",
       "      <td>0.896667</td>\n",
       "      <td>0.916667</td>\n",
       "      <td>0.873333</td>\n",
       "      <td>0.883333</td>\n",
       "      <td>0.926667</td>\n",
       "      <td>0.891667</td>\n",
       "      <td>0.019047</td>\n",
       "      <td>5</td>\n",
       "    </tr>\n",
       "    <tr>\n",
       "      <th>7</th>\n",
       "      <td>0.191936</td>\n",
       "      <td>0.017270</td>\n",
       "      <td>0.014708</td>\n",
       "      <td>0.000976</td>\n",
       "      <td>4</td>\n",
       "      <td>{'C': 4}</td>\n",
       "      <td>0.873333</td>\n",
       "      <td>0.866667</td>\n",
       "      <td>0.893333</td>\n",
       "      <td>0.896667</td>\n",
       "      <td>0.903333</td>\n",
       "      <td>0.890000</td>\n",
       "      <td>0.916667</td>\n",
       "      <td>0.886667</td>\n",
       "      <td>0.880000</td>\n",
       "      <td>0.930000</td>\n",
       "      <td>0.893667</td>\n",
       "      <td>0.018285</td>\n",
       "      <td>2</td>\n",
       "    </tr>\n",
       "    <tr>\n",
       "      <th>8</th>\n",
       "      <td>0.205024</td>\n",
       "      <td>0.005220</td>\n",
       "      <td>0.013609</td>\n",
       "      <td>0.000293</td>\n",
       "      <td>8</td>\n",
       "      <td>{'C': 8}</td>\n",
       "      <td>0.873333</td>\n",
       "      <td>0.883333</td>\n",
       "      <td>0.890000</td>\n",
       "      <td>0.900000</td>\n",
       "      <td>0.903333</td>\n",
       "      <td>0.886667</td>\n",
       "      <td>0.916667</td>\n",
       "      <td>0.880000</td>\n",
       "      <td>0.886667</td>\n",
       "      <td>0.920000</td>\n",
       "      <td>0.894000</td>\n",
       "      <td>0.014742</td>\n",
       "      <td>1</td>\n",
       "    </tr>\n",
       "    <tr>\n",
       "      <th>9</th>\n",
       "      <td>0.238789</td>\n",
       "      <td>0.010334</td>\n",
       "      <td>0.012806</td>\n",
       "      <td>0.000192</td>\n",
       "      <td>16</td>\n",
       "      <td>{'C': 16}</td>\n",
       "      <td>0.883333</td>\n",
       "      <td>0.870000</td>\n",
       "      <td>0.893333</td>\n",
       "      <td>0.896667</td>\n",
       "      <td>0.893333</td>\n",
       "      <td>0.903333</td>\n",
       "      <td>0.913333</td>\n",
       "      <td>0.870000</td>\n",
       "      <td>0.883333</td>\n",
       "      <td>0.923333</td>\n",
       "      <td>0.893000</td>\n",
       "      <td>0.016428</td>\n",
       "      <td>3</td>\n",
       "    </tr>\n",
       "    <tr>\n",
       "      <th>10</th>\n",
       "      <td>0.301305</td>\n",
       "      <td>0.021390</td>\n",
       "      <td>0.012149</td>\n",
       "      <td>0.001327</td>\n",
       "      <td>32</td>\n",
       "      <td>{'C': 32}</td>\n",
       "      <td>0.890000</td>\n",
       "      <td>0.853333</td>\n",
       "      <td>0.883333</td>\n",
       "      <td>0.883333</td>\n",
       "      <td>0.893333</td>\n",
       "      <td>0.890000</td>\n",
       "      <td>0.913333</td>\n",
       "      <td>0.876667</td>\n",
       "      <td>0.876667</td>\n",
       "      <td>0.916667</td>\n",
       "      <td>0.887667</td>\n",
       "      <td>0.017324</td>\n",
       "      <td>7</td>\n",
       "    </tr>\n",
       "  </tbody>\n",
       "</table>\n",
       "</div>\n",
       "      <button class=\"colab-df-convert\" onclick=\"convertToInteractive('df-6c276005-a160-4591-8cc6-23a2ae0f9e06')\"\n",
       "              title=\"Convert this dataframe to an interactive table.\"\n",
       "              style=\"display:none;\">\n",
       "        \n",
       "  <svg xmlns=\"http://www.w3.org/2000/svg\" height=\"24px\"viewBox=\"0 0 24 24\"\n",
       "       width=\"24px\">\n",
       "    <path d=\"M0 0h24v24H0V0z\" fill=\"none\"/>\n",
       "    <path d=\"M18.56 5.44l.94 2.06.94-2.06 2.06-.94-2.06-.94-.94-2.06-.94 2.06-2.06.94zm-11 1L8.5 8.5l.94-2.06 2.06-.94-2.06-.94L8.5 2.5l-.94 2.06-2.06.94zm10 10l.94 2.06.94-2.06 2.06-.94-2.06-.94-.94-2.06-.94 2.06-2.06.94z\"/><path d=\"M17.41 7.96l-1.37-1.37c-.4-.4-.92-.59-1.43-.59-.52 0-1.04.2-1.43.59L10.3 9.45l-7.72 7.72c-.78.78-.78 2.05 0 2.83L4 21.41c.39.39.9.59 1.41.59.51 0 1.02-.2 1.41-.59l7.78-7.78 2.81-2.81c.8-.78.8-2.07 0-2.86zM5.41 20L4 18.59l7.72-7.72 1.47 1.35L5.41 20z\"/>\n",
       "  </svg>\n",
       "      </button>\n",
       "      \n",
       "  <style>\n",
       "    .colab-df-container {\n",
       "      display:flex;\n",
       "      flex-wrap:wrap;\n",
       "      gap: 12px;\n",
       "    }\n",
       "\n",
       "    .colab-df-convert {\n",
       "      background-color: #E8F0FE;\n",
       "      border: none;\n",
       "      border-radius: 50%;\n",
       "      cursor: pointer;\n",
       "      display: none;\n",
       "      fill: #1967D2;\n",
       "      height: 32px;\n",
       "      padding: 0 0 0 0;\n",
       "      width: 32px;\n",
       "    }\n",
       "\n",
       "    .colab-df-convert:hover {\n",
       "      background-color: #E2EBFA;\n",
       "      box-shadow: 0px 1px 2px rgba(60, 64, 67, 0.3), 0px 1px 3px 1px rgba(60, 64, 67, 0.15);\n",
       "      fill: #174EA6;\n",
       "    }\n",
       "\n",
       "    [theme=dark] .colab-df-convert {\n",
       "      background-color: #3B4455;\n",
       "      fill: #D2E3FC;\n",
       "    }\n",
       "\n",
       "    [theme=dark] .colab-df-convert:hover {\n",
       "      background-color: #434B5C;\n",
       "      box-shadow: 0px 1px 3px 1px rgba(0, 0, 0, 0.15);\n",
       "      filter: drop-shadow(0px 1px 2px rgba(0, 0, 0, 0.3));\n",
       "      fill: #FFFFFF;\n",
       "    }\n",
       "  </style>\n",
       "\n",
       "      <script>\n",
       "        const buttonEl =\n",
       "          document.querySelector('#df-6c276005-a160-4591-8cc6-23a2ae0f9e06 button.colab-df-convert');\n",
       "        buttonEl.style.display =\n",
       "          google.colab.kernel.accessAllowed ? 'block' : 'none';\n",
       "\n",
       "        async function convertToInteractive(key) {\n",
       "          const element = document.querySelector('#df-6c276005-a160-4591-8cc6-23a2ae0f9e06');\n",
       "          const dataTable =\n",
       "            await google.colab.kernel.invokeFunction('convertToInteractive',\n",
       "                                                     [key], {});\n",
       "          if (!dataTable) return;\n",
       "\n",
       "          const docLinkHtml = 'Like what you see? Visit the ' +\n",
       "            '<a target=\"_blank\" href=https://colab.research.google.com/notebooks/data_table.ipynb>data table notebook</a>'\n",
       "            + ' to learn more about interactive tables.';\n",
       "          element.innerHTML = '';\n",
       "          dataTable['output_type'] = 'display_data';\n",
       "          await google.colab.output.renderOutput(dataTable, element);\n",
       "          const docLink = document.createElement('div');\n",
       "          docLink.innerHTML = docLinkHtml;\n",
       "          element.appendChild(docLink);\n",
       "        }\n",
       "      </script>\n",
       "    </div>\n",
       "  </div>\n",
       "  "
      ],
      "text/plain": [
       "    mean_fit_time  std_fit_time  mean_score_time  std_score_time  param_C  \\\n",
       "0        0.332923      0.011235         0.039669        0.008839  0.03125   \n",
       "1        0.341146      0.099860         0.043090        0.013595   0.0625   \n",
       "2        0.369984      0.055319         0.046972        0.014540    0.125   \n",
       "3        0.181063      0.006752         0.022485        0.000410     0.25   \n",
       "4        0.167032      0.006256         0.020240        0.000724      0.5   \n",
       "5        0.164157      0.005369         0.017534        0.000321        1   \n",
       "6        0.172366      0.005208         0.015901        0.000264        2   \n",
       "7        0.191936      0.017270         0.014708        0.000976        4   \n",
       "8        0.205024      0.005220         0.013609        0.000293        8   \n",
       "9        0.238789      0.010334         0.012806        0.000192       16   \n",
       "10       0.301305      0.021390         0.012149        0.001327       32   \n",
       "\n",
       "            params  split0_test_score  split1_test_score  split2_test_score  \\\n",
       "0   {'C': 0.03125}           0.790000           0.803333           0.856667   \n",
       "1    {'C': 0.0625}           0.810000           0.813333           0.880000   \n",
       "2     {'C': 0.125}           0.826667           0.826667           0.893333   \n",
       "3      {'C': 0.25}           0.850000           0.850000           0.903333   \n",
       "4       {'C': 0.5}           0.870000           0.853333           0.900000   \n",
       "5         {'C': 1}           0.866667           0.853333           0.903333   \n",
       "6         {'C': 2}           0.863333           0.870000           0.893333   \n",
       "7         {'C': 4}           0.873333           0.866667           0.893333   \n",
       "8         {'C': 8}           0.873333           0.883333           0.890000   \n",
       "9        {'C': 16}           0.883333           0.870000           0.893333   \n",
       "10       {'C': 32}           0.890000           0.853333           0.883333   \n",
       "\n",
       "    split3_test_score  split4_test_score  split5_test_score  \\\n",
       "0            0.850000           0.856667           0.860000   \n",
       "1            0.850000           0.880000           0.866667   \n",
       "2            0.866667           0.893333           0.873333   \n",
       "3            0.876667           0.900000           0.893333   \n",
       "4            0.886667           0.903333           0.893333   \n",
       "5            0.886667           0.890000           0.896667   \n",
       "6            0.900000           0.893333           0.896667   \n",
       "7            0.896667           0.903333           0.890000   \n",
       "8            0.900000           0.903333           0.886667   \n",
       "9            0.896667           0.893333           0.903333   \n",
       "10           0.883333           0.893333           0.890000   \n",
       "\n",
       "    split6_test_score  split7_test_score  split8_test_score  \\\n",
       "0            0.856667           0.860000           0.863333   \n",
       "1            0.883333           0.876667           0.870000   \n",
       "2            0.900000           0.866667           0.873333   \n",
       "3            0.920000           0.870000           0.886667   \n",
       "4            0.930000           0.876667           0.890000   \n",
       "5            0.923333           0.870000           0.890000   \n",
       "6            0.916667           0.873333           0.883333   \n",
       "7            0.916667           0.886667           0.880000   \n",
       "8            0.916667           0.880000           0.886667   \n",
       "9            0.913333           0.870000           0.883333   \n",
       "10           0.913333           0.876667           0.876667   \n",
       "\n",
       "    split9_test_score  mean_test_score  std_test_score  rank_test_score  \n",
       "0            0.860000         0.845667        0.024902               11  \n",
       "1            0.883333         0.861333        0.026592               10  \n",
       "2            0.896667         0.871667        0.025441                9  \n",
       "3            0.920000         0.887000        0.024058                8  \n",
       "4            0.923333         0.892667        0.022050                4  \n",
       "5            0.926667         0.890667        0.022301                6  \n",
       "6            0.926667         0.891667        0.019047                5  \n",
       "7            0.930000         0.893667        0.018285                2  \n",
       "8            0.920000         0.894000        0.014742                1  \n",
       "9            0.923333         0.893000        0.016428                3  \n",
       "10           0.916667         0.887667        0.017324                7  "
      ]
     },
     "execution_count": 18,
     "metadata": {},
     "output_type": "execute_result"
    }
   ],
   "source": [
    "pd.DataFrame(svmL_models.cv_results_)"
   ]
  },
  {
   "cell_type": "code",
   "execution_count": 19,
   "metadata": {
    "colab": {
     "base_uri": "https://localhost:8080/"
    },
    "executionInfo": {
     "elapsed": 356,
     "status": "ok",
     "timestamp": 1677138421654,
     "user": {
      "displayName": "Ulrich Bodenhofer",
      "userId": "07009582510819085803"
     },
     "user_tz": -60
    },
    "id": "a-ZKYy5sGxHX",
    "outputId": "6bdf406b-96b6-43cd-c709-bbebf7fb446e"
   },
   "outputs": [
    {
     "data": {
      "text/plain": [
       "0.8939999999999999"
      ]
     },
     "execution_count": 19,
     "metadata": {},
     "output_type": "execute_result"
    }
   ],
   "source": [
    "svmL_models.best_score_"
   ]
  },
  {
   "cell_type": "code",
   "execution_count": 20,
   "metadata": {
    "colab": {
     "base_uri": "https://localhost:8080/"
    },
    "executionInfo": {
     "elapsed": 348,
     "status": "ok",
     "timestamp": 1677138424638,
     "user": {
      "displayName": "Ulrich Bodenhofer",
      "userId": "07009582510819085803"
     },
     "user_tz": -60
    },
    "id": "JMwuSx8vGxHX",
    "outputId": "355066b4-d340-4178-a8cb-87f734f10ab7"
   },
   "outputs": [
    {
     "data": {
      "text/plain": [
       "{'C': 8}"
      ]
     },
     "execution_count": 20,
     "metadata": {},
     "output_type": "execute_result"
    }
   ],
   "source": [
    "svmL_models.best_params_"
   ]
  },
  {
   "cell_type": "code",
   "execution_count": 21,
   "metadata": {
    "colab": {
     "base_uri": "https://localhost:8080/"
    },
    "executionInfo": {
     "elapsed": 314,
     "status": "ok",
     "timestamp": 1677138427486,
     "user": {
      "displayName": "Ulrich Bodenhofer",
      "userId": "07009582510819085803"
     },
     "user_tz": -60
    },
    "id": "FESEaOGBGxHX",
    "outputId": "66180c2e-753c-444e-9a2b-21a2ab690e99"
   },
   "outputs": [
    {
     "data": {
      "text/plain": [
       "0.8962075848303394"
      ]
     },
     "execution_count": 21,
     "metadata": {},
     "output_type": "execute_result"
    }
   ],
   "source": [
    "svmL_models.best_estimator_.score(dig_test['data'], dig_test['target'])"
   ]
  },
  {
   "cell_type": "markdown",
   "metadata": {
    "id": "k9Zh4cmyGxHY"
   },
   "source": [
    "### Try RBF SVM"
   ]
  },
  {
   "cell_type": "code",
   "execution_count": 22,
   "metadata": {
    "executionInfo": {
     "elapsed": 501,
     "status": "ok",
     "timestamp": 1677138436455,
     "user": {
      "displayName": "Ulrich Bodenhofer",
      "userId": "07009582510819085803"
     },
     "user_tz": -60
    },
    "id": "y1aEd2SyGxHY"
   },
   "outputs": [],
   "source": [
    "parameters = {'C': [2**i for i in range(-5, 6)], 'gamma': [2**i for i in range(-5, 6)]}\n",
    "svmR_models = GridSearchCV(SVC(kernel='rbf'), parameters, cv=10, n_jobs=-1)"
   ]
  },
  {
   "cell_type": "code",
   "execution_count": 23,
   "metadata": {
    "colab": {
     "base_uri": "https://localhost:8080/"
    },
    "executionInfo": {
     "elapsed": 586057,
     "status": "ok",
     "timestamp": 1677139026482,
     "user": {
      "displayName": "Ulrich Bodenhofer",
      "userId": "07009582510819085803"
     },
     "user_tz": -60
    },
    "id": "0bFTB7eCGxHZ",
    "outputId": "e5aed679-ec59-4b82-94ed-6eeed967fe03"
   },
   "outputs": [
    {
     "data": {
      "text/plain": [
       "GridSearchCV(cv=10, estimator=SVC(), n_jobs=-1,\n",
       "             param_grid={'C': [0.03125, 0.0625, 0.125, 0.25, 0.5, 1, 2, 4, 8,\n",
       "                               16, 32],\n",
       "                         'gamma': [0.03125, 0.0625, 0.125, 0.25, 0.5, 1, 2, 4,\n",
       "                                   8, 16, 32]})"
      ]
     },
     "execution_count": 23,
     "metadata": {},
     "output_type": "execute_result"
    }
   ],
   "source": [
    "svmR_models.fit(dig_train['data'], dig_train['target'])"
   ]
  },
  {
   "cell_type": "code",
   "execution_count": 24,
   "metadata": {
    "colab": {
     "base_uri": "https://localhost:8080/"
    },
    "executionInfo": {
     "elapsed": 347,
     "status": "ok",
     "timestamp": 1677139032994,
     "user": {
      "displayName": "Ulrich Bodenhofer",
      "userId": "07009582510819085803"
     },
     "user_tz": -60
    },
    "id": "HM5Xu3VxGxHZ",
    "outputId": "6be953f3-02d0-492c-8ada-4ae06da81553"
   },
   "outputs": [
    {
     "data": {
      "text/plain": [
       "0.9543333333333335"
      ]
     },
     "execution_count": 24,
     "metadata": {},
     "output_type": "execute_result"
    }
   ],
   "source": [
    "svmR_models.best_score_"
   ]
  },
  {
   "cell_type": "code",
   "execution_count": 25,
   "metadata": {
    "colab": {
     "base_uri": "https://localhost:8080/"
    },
    "executionInfo": {
     "elapsed": 9,
     "status": "ok",
     "timestamp": 1677139035486,
     "user": {
      "displayName": "Ulrich Bodenhofer",
      "userId": "07009582510819085803"
     },
     "user_tz": -60
    },
    "id": "RB6JGOtYGxHa",
    "outputId": "ef4d7451-c9e6-400c-bc8a-6e74aeaed85e"
   },
   "outputs": [
    {
     "data": {
      "text/plain": [
       "{'C': 4, 'gamma': 0.5}"
      ]
     },
     "execution_count": 25,
     "metadata": {},
     "output_type": "execute_result"
    }
   ],
   "source": [
    "svmR_models.best_params_"
   ]
  },
  {
   "cell_type": "code",
   "execution_count": 26,
   "metadata": {
    "colab": {
     "base_uri": "https://localhost:8080/"
    },
    "executionInfo": {
     "elapsed": 353,
     "status": "ok",
     "timestamp": 1677139038356,
     "user": {
      "displayName": "Ulrich Bodenhofer",
      "userId": "07009582510819085803"
     },
     "user_tz": -60
    },
    "id": "BS0dDsfaGxHa",
    "outputId": "9b731600-f9b7-483a-8a4f-d8697476b749"
   },
   "outputs": [
    {
     "data": {
      "text/plain": [
       "0.9615768463073853"
      ]
     },
     "execution_count": 26,
     "metadata": {},
     "output_type": "execute_result"
    }
   ],
   "source": [
    "svmR_models.best_estimator_.score(dig_test['data'], dig_test['target'])"
   ]
  },
  {
   "cell_type": "markdown",
   "metadata": {
    "id": "1gDbvIFxEXUI"
   },
   "source": [
    "## Sequence Classification Example"
   ]
  },
  {
   "cell_type": "code",
   "execution_count": 27,
   "metadata": {
    "colab": {
     "base_uri": "https://localhost:8080/",
     "height": 423
    },
    "executionInfo": {
     "elapsed": 912,
     "status": "ok",
     "timestamp": 1677139051019,
     "user": {
      "displayName": "Ulrich Bodenhofer",
      "userId": "07009582510819085803"
     },
     "user_tz": -60
    },
    "id": "OBiWaWxPEYW6",
    "outputId": "24400583-cfe7-42cf-8692-5c619685c4b3"
   },
   "outputs": [
    {
     "data": {
      "text/html": [
       "\n",
       "  <div id=\"df-99b5a175-0261-4cab-8c26-4acbf894f0d7\">\n",
       "    <div class=\"colab-df-container\">\n",
       "      <div>\n",
       "<style scoped>\n",
       "    .dataframe tbody tr th:only-of-type {\n",
       "        vertical-align: middle;\n",
       "    }\n",
       "\n",
       "    .dataframe tbody tr th {\n",
       "        vertical-align: top;\n",
       "    }\n",
       "\n",
       "    .dataframe thead th {\n",
       "        text-align: right;\n",
       "    }\n",
       "</style>\n",
       "<table border=\"1\" class=\"dataframe\">\n",
       "  <thead>\n",
       "    <tr style=\"text-align: right;\">\n",
       "      <th></th>\n",
       "      <th>Sequence</th>\n",
       "      <th>Class</th>\n",
       "    </tr>\n",
       "  </thead>\n",
       "  <tbody>\n",
       "    <tr>\n",
       "      <th>0</th>\n",
       "      <td>TACTAGCAATACGCTTGCGTTCGGTGGTTAAGTATGTATAATGCGC...</td>\n",
       "      <td>1</td>\n",
       "    </tr>\n",
       "    <tr>\n",
       "      <th>1</th>\n",
       "      <td>TGCTATCCTGACAGTTGTCACGCTGATTGGTGTCGTTACAATCTAA...</td>\n",
       "      <td>1</td>\n",
       "    </tr>\n",
       "    <tr>\n",
       "      <th>2</th>\n",
       "      <td>GTACTAGAGAACTAGTGCATTAGCTTATTTTTTTGTTATCATGCTA...</td>\n",
       "      <td>1</td>\n",
       "    </tr>\n",
       "    <tr>\n",
       "      <th>3</th>\n",
       "      <td>AATTGTGATGTGTATCGAAGTGTGTTGCGGAGTAGATGTTAGAATA...</td>\n",
       "      <td>1</td>\n",
       "    </tr>\n",
       "    <tr>\n",
       "      <th>4</th>\n",
       "      <td>TCGATAATTAACTATTGACGAAAAGCTGAAAACCACTAGAATGCGC...</td>\n",
       "      <td>1</td>\n",
       "    </tr>\n",
       "    <tr>\n",
       "      <th>...</th>\n",
       "      <td>...</td>\n",
       "      <td>...</td>\n",
       "    </tr>\n",
       "    <tr>\n",
       "      <th>101</th>\n",
       "      <td>CCTCAATGGCCTCTAAACGGGTCTTGAGGGGTTTTTTGCTGAAAGG...</td>\n",
       "      <td>-1</td>\n",
       "    </tr>\n",
       "    <tr>\n",
       "      <th>102</th>\n",
       "      <td>GTATTCTCAACAAGATTAACCGACAGATTCAATCTCGTGGATGGAC...</td>\n",
       "      <td>-1</td>\n",
       "    </tr>\n",
       "    <tr>\n",
       "      <th>103</th>\n",
       "      <td>CGCGACTACGATGAGATGCCTGAGTGCTTCCGTTACTGGATTGTCA...</td>\n",
       "      <td>-1</td>\n",
       "    </tr>\n",
       "    <tr>\n",
       "      <th>104</th>\n",
       "      <td>CTCGTCCTCAATGGCCTCTAAACGGGTCTTGAGGGGTTTTTTGCTG...</td>\n",
       "      <td>-1</td>\n",
       "    </tr>\n",
       "    <tr>\n",
       "      <th>105</th>\n",
       "      <td>TAACATTAATAAATAAGGAGGCTCTAATGGCACTCATTAGCCAATC...</td>\n",
       "      <td>-1</td>\n",
       "    </tr>\n",
       "  </tbody>\n",
       "</table>\n",
       "<p>106 rows × 2 columns</p>\n",
       "</div>\n",
       "      <button class=\"colab-df-convert\" onclick=\"convertToInteractive('df-99b5a175-0261-4cab-8c26-4acbf894f0d7')\"\n",
       "              title=\"Convert this dataframe to an interactive table.\"\n",
       "              style=\"display:none;\">\n",
       "        \n",
       "  <svg xmlns=\"http://www.w3.org/2000/svg\" height=\"24px\"viewBox=\"0 0 24 24\"\n",
       "       width=\"24px\">\n",
       "    <path d=\"M0 0h24v24H0V0z\" fill=\"none\"/>\n",
       "    <path d=\"M18.56 5.44l.94 2.06.94-2.06 2.06-.94-2.06-.94-.94-2.06-.94 2.06-2.06.94zm-11 1L8.5 8.5l.94-2.06 2.06-.94-2.06-.94L8.5 2.5l-.94 2.06-2.06.94zm10 10l.94 2.06.94-2.06 2.06-.94-2.06-.94-.94-2.06-.94 2.06-2.06.94z\"/><path d=\"M17.41 7.96l-1.37-1.37c-.4-.4-.92-.59-1.43-.59-.52 0-1.04.2-1.43.59L10.3 9.45l-7.72 7.72c-.78.78-.78 2.05 0 2.83L4 21.41c.39.39.9.59 1.41.59.51 0 1.02-.2 1.41-.59l7.78-7.78 2.81-2.81c.8-.78.8-2.07 0-2.86zM5.41 20L4 18.59l7.72-7.72 1.47 1.35L5.41 20z\"/>\n",
       "  </svg>\n",
       "      </button>\n",
       "      \n",
       "  <style>\n",
       "    .colab-df-container {\n",
       "      display:flex;\n",
       "      flex-wrap:wrap;\n",
       "      gap: 12px;\n",
       "    }\n",
       "\n",
       "    .colab-df-convert {\n",
       "      background-color: #E8F0FE;\n",
       "      border: none;\n",
       "      border-radius: 50%;\n",
       "      cursor: pointer;\n",
       "      display: none;\n",
       "      fill: #1967D2;\n",
       "      height: 32px;\n",
       "      padding: 0 0 0 0;\n",
       "      width: 32px;\n",
       "    }\n",
       "\n",
       "    .colab-df-convert:hover {\n",
       "      background-color: #E2EBFA;\n",
       "      box-shadow: 0px 1px 2px rgba(60, 64, 67, 0.3), 0px 1px 3px 1px rgba(60, 64, 67, 0.15);\n",
       "      fill: #174EA6;\n",
       "    }\n",
       "\n",
       "    [theme=dark] .colab-df-convert {\n",
       "      background-color: #3B4455;\n",
       "      fill: #D2E3FC;\n",
       "    }\n",
       "\n",
       "    [theme=dark] .colab-df-convert:hover {\n",
       "      background-color: #434B5C;\n",
       "      box-shadow: 0px 1px 3px 1px rgba(0, 0, 0, 0.15);\n",
       "      filter: drop-shadow(0px 1px 2px rgba(0, 0, 0, 0.3));\n",
       "      fill: #FFFFFF;\n",
       "    }\n",
       "  </style>\n",
       "\n",
       "      <script>\n",
       "        const buttonEl =\n",
       "          document.querySelector('#df-99b5a175-0261-4cab-8c26-4acbf894f0d7 button.colab-df-convert');\n",
       "        buttonEl.style.display =\n",
       "          google.colab.kernel.accessAllowed ? 'block' : 'none';\n",
       "\n",
       "        async function convertToInteractive(key) {\n",
       "          const element = document.querySelector('#df-99b5a175-0261-4cab-8c26-4acbf894f0d7');\n",
       "          const dataTable =\n",
       "            await google.colab.kernel.invokeFunction('convertToInteractive',\n",
       "                                                     [key], {});\n",
       "          if (!dataTable) return;\n",
       "\n",
       "          const docLinkHtml = 'Like what you see? Visit the ' +\n",
       "            '<a target=\"_blank\" href=https://colab.research.google.com/notebooks/data_table.ipynb>data table notebook</a>'\n",
       "            + ' to learn more about interactive tables.';\n",
       "          element.innerHTML = '';\n",
       "          dataTable['output_type'] = 'display_data';\n",
       "          await google.colab.output.renderOutput(dataTable, element);\n",
       "          const docLink = document.createElement('div');\n",
       "          docLink.innerHTML = docLinkHtml;\n",
       "          element.appendChild(docLink);\n",
       "        }\n",
       "      </script>\n",
       "    </div>\n",
       "  </div>\n",
       "  "
      ],
      "text/plain": [
       "                                              Sequence  Class\n",
       "0    TACTAGCAATACGCTTGCGTTCGGTGGTTAAGTATGTATAATGCGC...      1\n",
       "1    TGCTATCCTGACAGTTGTCACGCTGATTGGTGTCGTTACAATCTAA...      1\n",
       "2    GTACTAGAGAACTAGTGCATTAGCTTATTTTTTTGTTATCATGCTA...      1\n",
       "3    AATTGTGATGTGTATCGAAGTGTGTTGCGGAGTAGATGTTAGAATA...      1\n",
       "4    TCGATAATTAACTATTGACGAAAAGCTGAAAACCACTAGAATGCGC...      1\n",
       "..                                                 ...    ...\n",
       "101  CCTCAATGGCCTCTAAACGGGTCTTGAGGGGTTTTTTGCTGAAAGG...     -1\n",
       "102  GTATTCTCAACAAGATTAACCGACAGATTCAATCTCGTGGATGGAC...     -1\n",
       "103  CGCGACTACGATGAGATGCCTGAGTGCTTCCGTTACTGGATTGTCA...     -1\n",
       "104  CTCGTCCTCAATGGCCTCTAAACGGGTCTTGAGGGGTTTTTTGCTG...     -1\n",
       "105  TAACATTAATAAATAAGGAGGCTCTAATGGCACTCATTAGCCAATC...     -1\n",
       "\n",
       "[106 rows x 2 columns]"
      ]
     },
     "execution_count": 27,
     "metadata": {},
     "output_type": "execute_result"
    }
   ],
   "source": [
    "seq_data_raw = pd.read_csv(data_dir + 'promoters.csv', sep=',')\n",
    "seq_data_raw"
   ]
  },
  {
   "cell_type": "code",
   "execution_count": 28,
   "metadata": {
    "executionInfo": {
     "elapsed": 340,
     "status": "ok",
     "timestamp": 1677139063593,
     "user": {
      "displayName": "Ulrich Bodenhofer",
      "userId": "07009582510819085803"
     },
     "user_tz": -60
    },
    "id": "v3vr_nhZEgbu"
   },
   "outputs": [],
   "source": [
    "seq_input = [Seq(x) for x in seq_data_raw['Sequence']]\n",
    "seq_features = gk(seq_input, k=6, g=0, t=0, sparse=False)"
   ]
  },
  {
   "cell_type": "code",
   "execution_count": 29,
   "metadata": {
    "executionInfo": {
     "elapsed": 359,
     "status": "ok",
     "timestamp": 1677139068592,
     "user": {
      "displayName": "Ulrich Bodenhofer",
      "userId": "07009582510819085803"
     },
     "user_tz": -60
    },
    "id": "sA09H1InEjWI"
   },
   "outputs": [],
   "source": [
    "seq_data = {'data': seq_features,\n",
    "            'target': (np.array(seq_data_raw.iloc[:, -1]) + 1) / 2,\n",
    "            'target_names': ['Non-promoter', 'Promoter']}"
   ]
  },
  {
   "cell_type": "code",
   "execution_count": 30,
   "metadata": {
    "executionInfo": {
     "elapsed": 2307,
     "status": "ok",
     "timestamp": 1677139074870,
     "user": {
      "displayName": "Ulrich Bodenhofer",
      "userId": "07009582510819085803"
     },
     "user_tz": -60
    },
    "id": "0WKV3kfTEulS"
   },
   "outputs": [],
   "source": [
    "seq_model = SVC(kernel='linear', C=8)\n",
    "cv_result = cross_validate(seq_model, seq_data['data'], seq_data['target'], cv=LeaveOneOut(), n_jobs=-1,\n",
    "                           scoring=['accuracy'])"
   ]
  },
  {
   "cell_type": "code",
   "execution_count": 31,
   "metadata": {
    "colab": {
     "base_uri": "https://localhost:8080/",
     "height": 423
    },
    "executionInfo": {
     "elapsed": 367,
     "status": "ok",
     "timestamp": 1677139077925,
     "user": {
      "displayName": "Ulrich Bodenhofer",
      "userId": "07009582510819085803"
     },
     "user_tz": -60
    },
    "id": "4PfYPQxhFCib",
    "outputId": "2988abcf-dbfe-4e14-d687-403855b368cd"
   },
   "outputs": [
    {
     "data": {
      "text/html": [
       "\n",
       "  <div id=\"df-08bd94ce-33e6-4c27-956e-c94264b7b86e\">\n",
       "    <div class=\"colab-df-container\">\n",
       "      <div>\n",
       "<style scoped>\n",
       "    .dataframe tbody tr th:only-of-type {\n",
       "        vertical-align: middle;\n",
       "    }\n",
       "\n",
       "    .dataframe tbody tr th {\n",
       "        vertical-align: top;\n",
       "    }\n",
       "\n",
       "    .dataframe thead th {\n",
       "        text-align: right;\n",
       "    }\n",
       "</style>\n",
       "<table border=\"1\" class=\"dataframe\">\n",
       "  <thead>\n",
       "    <tr style=\"text-align: right;\">\n",
       "      <th></th>\n",
       "      <th>fit_time</th>\n",
       "      <th>score_time</th>\n",
       "      <th>test_accuracy</th>\n",
       "    </tr>\n",
       "  </thead>\n",
       "  <tbody>\n",
       "    <tr>\n",
       "      <th>0</th>\n",
       "      <td>0.026716</td>\n",
       "      <td>0.001210</td>\n",
       "      <td>1.0</td>\n",
       "    </tr>\n",
       "    <tr>\n",
       "      <th>1</th>\n",
       "      <td>0.024672</td>\n",
       "      <td>0.000963</td>\n",
       "      <td>1.0</td>\n",
       "    </tr>\n",
       "    <tr>\n",
       "      <th>2</th>\n",
       "      <td>0.019700</td>\n",
       "      <td>0.001049</td>\n",
       "      <td>1.0</td>\n",
       "    </tr>\n",
       "    <tr>\n",
       "      <th>3</th>\n",
       "      <td>0.020222</td>\n",
       "      <td>0.001057</td>\n",
       "      <td>1.0</td>\n",
       "    </tr>\n",
       "    <tr>\n",
       "      <th>4</th>\n",
       "      <td>0.025965</td>\n",
       "      <td>0.001031</td>\n",
       "      <td>1.0</td>\n",
       "    </tr>\n",
       "    <tr>\n",
       "      <th>...</th>\n",
       "      <td>...</td>\n",
       "      <td>...</td>\n",
       "      <td>...</td>\n",
       "    </tr>\n",
       "    <tr>\n",
       "      <th>101</th>\n",
       "      <td>0.030934</td>\n",
       "      <td>0.000755</td>\n",
       "      <td>1.0</td>\n",
       "    </tr>\n",
       "    <tr>\n",
       "      <th>102</th>\n",
       "      <td>0.031305</td>\n",
       "      <td>0.000694</td>\n",
       "      <td>1.0</td>\n",
       "    </tr>\n",
       "    <tr>\n",
       "      <th>103</th>\n",
       "      <td>0.029672</td>\n",
       "      <td>0.000760</td>\n",
       "      <td>1.0</td>\n",
       "    </tr>\n",
       "    <tr>\n",
       "      <th>104</th>\n",
       "      <td>0.025575</td>\n",
       "      <td>0.000770</td>\n",
       "      <td>1.0</td>\n",
       "    </tr>\n",
       "    <tr>\n",
       "      <th>105</th>\n",
       "      <td>0.015527</td>\n",
       "      <td>0.000743</td>\n",
       "      <td>1.0</td>\n",
       "    </tr>\n",
       "  </tbody>\n",
       "</table>\n",
       "<p>106 rows × 3 columns</p>\n",
       "</div>\n",
       "      <button class=\"colab-df-convert\" onclick=\"convertToInteractive('df-08bd94ce-33e6-4c27-956e-c94264b7b86e')\"\n",
       "              title=\"Convert this dataframe to an interactive table.\"\n",
       "              style=\"display:none;\">\n",
       "        \n",
       "  <svg xmlns=\"http://www.w3.org/2000/svg\" height=\"24px\"viewBox=\"0 0 24 24\"\n",
       "       width=\"24px\">\n",
       "    <path d=\"M0 0h24v24H0V0z\" fill=\"none\"/>\n",
       "    <path d=\"M18.56 5.44l.94 2.06.94-2.06 2.06-.94-2.06-.94-.94-2.06-.94 2.06-2.06.94zm-11 1L8.5 8.5l.94-2.06 2.06-.94-2.06-.94L8.5 2.5l-.94 2.06-2.06.94zm10 10l.94 2.06.94-2.06 2.06-.94-2.06-.94-.94-2.06-.94 2.06-2.06.94z\"/><path d=\"M17.41 7.96l-1.37-1.37c-.4-.4-.92-.59-1.43-.59-.52 0-1.04.2-1.43.59L10.3 9.45l-7.72 7.72c-.78.78-.78 2.05 0 2.83L4 21.41c.39.39.9.59 1.41.59.51 0 1.02-.2 1.41-.59l7.78-7.78 2.81-2.81c.8-.78.8-2.07 0-2.86zM5.41 20L4 18.59l7.72-7.72 1.47 1.35L5.41 20z\"/>\n",
       "  </svg>\n",
       "      </button>\n",
       "      \n",
       "  <style>\n",
       "    .colab-df-container {\n",
       "      display:flex;\n",
       "      flex-wrap:wrap;\n",
       "      gap: 12px;\n",
       "    }\n",
       "\n",
       "    .colab-df-convert {\n",
       "      background-color: #E8F0FE;\n",
       "      border: none;\n",
       "      border-radius: 50%;\n",
       "      cursor: pointer;\n",
       "      display: none;\n",
       "      fill: #1967D2;\n",
       "      height: 32px;\n",
       "      padding: 0 0 0 0;\n",
       "      width: 32px;\n",
       "    }\n",
       "\n",
       "    .colab-df-convert:hover {\n",
       "      background-color: #E2EBFA;\n",
       "      box-shadow: 0px 1px 2px rgba(60, 64, 67, 0.3), 0px 1px 3px 1px rgba(60, 64, 67, 0.15);\n",
       "      fill: #174EA6;\n",
       "    }\n",
       "\n",
       "    [theme=dark] .colab-df-convert {\n",
       "      background-color: #3B4455;\n",
       "      fill: #D2E3FC;\n",
       "    }\n",
       "\n",
       "    [theme=dark] .colab-df-convert:hover {\n",
       "      background-color: #434B5C;\n",
       "      box-shadow: 0px 1px 3px 1px rgba(0, 0, 0, 0.15);\n",
       "      filter: drop-shadow(0px 1px 2px rgba(0, 0, 0, 0.3));\n",
       "      fill: #FFFFFF;\n",
       "    }\n",
       "  </style>\n",
       "\n",
       "      <script>\n",
       "        const buttonEl =\n",
       "          document.querySelector('#df-08bd94ce-33e6-4c27-956e-c94264b7b86e button.colab-df-convert');\n",
       "        buttonEl.style.display =\n",
       "          google.colab.kernel.accessAllowed ? 'block' : 'none';\n",
       "\n",
       "        async function convertToInteractive(key) {\n",
       "          const element = document.querySelector('#df-08bd94ce-33e6-4c27-956e-c94264b7b86e');\n",
       "          const dataTable =\n",
       "            await google.colab.kernel.invokeFunction('convertToInteractive',\n",
       "                                                     [key], {});\n",
       "          if (!dataTable) return;\n",
       "\n",
       "          const docLinkHtml = 'Like what you see? Visit the ' +\n",
       "            '<a target=\"_blank\" href=https://colab.research.google.com/notebooks/data_table.ipynb>data table notebook</a>'\n",
       "            + ' to learn more about interactive tables.';\n",
       "          element.innerHTML = '';\n",
       "          dataTable['output_type'] = 'display_data';\n",
       "          await google.colab.output.renderOutput(dataTable, element);\n",
       "          const docLink = document.createElement('div');\n",
       "          docLink.innerHTML = docLinkHtml;\n",
       "          element.appendChild(docLink);\n",
       "        }\n",
       "      </script>\n",
       "    </div>\n",
       "  </div>\n",
       "  "
      ],
      "text/plain": [
       "     fit_time  score_time  test_accuracy\n",
       "0    0.026716    0.001210            1.0\n",
       "1    0.024672    0.000963            1.0\n",
       "2    0.019700    0.001049            1.0\n",
       "3    0.020222    0.001057            1.0\n",
       "4    0.025965    0.001031            1.0\n",
       "..        ...         ...            ...\n",
       "101  0.030934    0.000755            1.0\n",
       "102  0.031305    0.000694            1.0\n",
       "103  0.029672    0.000760            1.0\n",
       "104  0.025575    0.000770            1.0\n",
       "105  0.015527    0.000743            1.0\n",
       "\n",
       "[106 rows x 3 columns]"
      ]
     },
     "execution_count": 31,
     "metadata": {},
     "output_type": "execute_result"
    }
   ],
   "source": [
    "pd.DataFrame(cv_result)"
   ]
  },
  {
   "cell_type": "code",
   "execution_count": 32,
   "metadata": {
    "colab": {
     "base_uri": "https://localhost:8080/"
    },
    "executionInfo": {
     "elapsed": 343,
     "status": "ok",
     "timestamp": 1677139083177,
     "user": {
      "displayName": "Ulrich Bodenhofer",
      "userId": "07009582510819085803"
     },
     "user_tz": -60
    },
    "id": "czw_Ivz-FHMb",
    "outputId": "ccdefe9b-891d-4e33-f2fb-a1954a3c192d"
   },
   "outputs": [
    {
     "data": {
      "text/plain": [
       "fit_time         0.028814\n",
       "score_time       0.001625\n",
       "test_accuracy    0.990566\n",
       "dtype: float64"
      ]
     },
     "execution_count": 32,
     "metadata": {},
     "output_type": "execute_result"
    }
   ],
   "source": [
    "pd.DataFrame(cv_result).mean(axis=0)"
   ]
  },
  {
   "cell_type": "code",
   "execution_count": 33,
   "metadata": {
    "colab": {
     "base_uri": "https://localhost:8080/"
    },
    "executionInfo": {
     "elapsed": 2499,
     "status": "ok",
     "timestamp": 1677139108663,
     "user": {
      "displayName": "Ulrich Bodenhofer",
      "userId": "07009582510819085803"
     },
     "user_tz": -60
    },
    "id": "LKX8xvG_R5F3",
    "outputId": "4cf269f9-8d0a-45e7-e5c0-96258b7398ff"
   },
   "outputs": [
    {
     "name": "stdout",
     "output_type": "stream",
     "text": [
      "[NbConvertApp] Converting notebook SVM.ipynb to html\n",
      "[NbConvertApp] Writing 444754 bytes to SVM.html\n"
     ]
    }
   ],
   "source": [
    "!cd $notebook_dir; jupyter nbconvert --to html SVM.ipynb"
   ]
  }
 ],
 "metadata": {
  "colab": {
   "provenance": []
  },
  "kernelspec": {
   "display_name": "Python 3 (ipykernel)",
   "language": "python",
   "name": "python3"
  },
  "language_info": {
   "codemirror_mode": {
    "name": "ipython",
    "version": 3
   },
   "file_extension": ".py",
   "mimetype": "text/x-python",
   "name": "python",
   "nbconvert_exporter": "python",
   "pygments_lexer": "ipython3",
   "version": "3.8.8"
  }
 },
 "nbformat": 4,
 "nbformat_minor": 4
}
