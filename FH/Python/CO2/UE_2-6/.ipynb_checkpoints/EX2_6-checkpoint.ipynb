{
  "nbformat": 4,
  "nbformat_minor": 0,
  "metadata": {
    "colab": {
      "provenance": []
    },
    "kernelspec": {
      "name": "python3",
      "display_name": "Python 3"
    },
    "language_info": {
      "name": "python"
    }
  },
  "cells": [
    {
      "cell_type": "code",
      "execution_count": 1,
      "metadata": {
        "colab": {
          "base_uri": "https://localhost:8080/"
        },
        "id": "BbgMphSQpoBx",
        "outputId": "4c97118e-04ab-459f-f974-d8c93caada5e"
      },
      "outputs": [
        {
          "output_type": "stream",
          "name": "stdout",
          "text": [
            "Mounted at /content/gdrive\n"
          ]
        }
      ],
      "source": [
        "from google.colab import drive\n",
        "drive.mount('/content/gdrive')"
      ]
    },
    {
      "cell_type": "code",
      "source": [
        "!cd /content/gdrive/MyDrive/FH/SS23; ls"
      ],
      "metadata": {
        "colab": {
          "base_uri": "https://localhost:8080/"
        },
        "id": "yVCKHXPTq7cv",
        "outputId": "c439c751-936c-461d-8b22-22cc2e06c7b5"
      },
      "execution_count": 2,
      "outputs": [
        {
          "output_type": "stream",
          "name": "stdout",
          "text": [
            "'energydata_complete (1).csv'   energydata_complete.csv\n"
          ]
        }
      ]
    },
    {
      "cell_type": "code",
      "source": [
        "data_dir = \"/content/gdrive/MyDrive/FH/SS23/\""
      ],
      "metadata": {
        "id": "29xGMzWBq4Q6"
      },
      "execution_count": 3,
      "outputs": []
    },
    {
      "cell_type": "code",
      "source": [
        "## if using Colab, you need to run this every time you start a notebook\n",
        "## on a local installation, you only need to run this once (or install the\n",
        "## packages outside of the notebook once and for all)\n",
        "!pip install git+https://github.com/UBod/pyMLaux.git"
      ],
      "metadata": {
        "colab": {
          "base_uri": "https://localhost:8080/"
        },
        "id": "wvysNua2R-F5",
        "outputId": "3e013ece-d551-472f-8403-23096c9711a6"
      },
      "execution_count": 19,
      "outputs": [
        {
          "output_type": "stream",
          "name": "stdout",
          "text": [
            "Looking in indexes: https://pypi.org/simple, https://us-python.pkg.dev/colab-wheels/public/simple/\n",
            "Collecting git+https://github.com/UBod/pyMLaux.git\n",
            "  Cloning https://github.com/UBod/pyMLaux.git to /tmp/pip-req-build-ldzh4k4x\n",
            "  Running command git clone --filter=blob:none --quiet https://github.com/UBod/pyMLaux.git /tmp/pip-req-build-ldzh4k4x\n",
            "  Resolved https://github.com/UBod/pyMLaux.git to commit 0d297605dc3f4e3f98b035eccd03ea6ea34b6265\n",
            "  Preparing metadata (setup.py) ... \u001b[?25l\u001b[?25hdone\n",
            "Requirement already satisfied: numpy in /usr/local/lib/python3.10/dist-packages (from pyMLaux==0.0.6) (1.22.4)\n",
            "Requirement already satisfied: pandas in /usr/local/lib/python3.10/dist-packages (from pyMLaux==0.0.6) (1.5.3)\n",
            "Requirement already satisfied: scikit-learn in /usr/local/lib/python3.10/dist-packages (from pyMLaux==0.0.6) (1.2.2)\n",
            "Requirement already satisfied: matplotlib in /usr/local/lib/python3.10/dist-packages (from pyMLaux==0.0.6) (3.7.1)\n",
            "Requirement already satisfied: opencv-python in /usr/local/lib/python3.10/dist-packages (from pyMLaux==0.0.6) (4.7.0.72)\n",
            "Requirement already satisfied: contourpy>=1.0.1 in /usr/local/lib/python3.10/dist-packages (from matplotlib->pyMLaux==0.0.6) (1.0.7)\n",
            "Requirement already satisfied: cycler>=0.10 in /usr/local/lib/python3.10/dist-packages (from matplotlib->pyMLaux==0.0.6) (0.11.0)\n",
            "Requirement already satisfied: fonttools>=4.22.0 in /usr/local/lib/python3.10/dist-packages (from matplotlib->pyMLaux==0.0.6) (4.39.3)\n",
            "Requirement already satisfied: kiwisolver>=1.0.1 in /usr/local/lib/python3.10/dist-packages (from matplotlib->pyMLaux==0.0.6) (1.4.4)\n",
            "Requirement already satisfied: packaging>=20.0 in /usr/local/lib/python3.10/dist-packages (from matplotlib->pyMLaux==0.0.6) (23.1)\n",
            "Requirement already satisfied: pillow>=6.2.0 in /usr/local/lib/python3.10/dist-packages (from matplotlib->pyMLaux==0.0.6) (8.4.0)\n",
            "Requirement already satisfied: pyparsing>=2.3.1 in /usr/local/lib/python3.10/dist-packages (from matplotlib->pyMLaux==0.0.6) (3.0.9)\n",
            "Requirement already satisfied: python-dateutil>=2.7 in /usr/local/lib/python3.10/dist-packages (from matplotlib->pyMLaux==0.0.6) (2.8.2)\n",
            "Requirement already satisfied: pytz>=2020.1 in /usr/local/lib/python3.10/dist-packages (from pandas->pyMLaux==0.0.6) (2022.7.1)\n",
            "Requirement already satisfied: scipy>=1.3.2 in /usr/local/lib/python3.10/dist-packages (from scikit-learn->pyMLaux==0.0.6) (1.10.1)\n",
            "Requirement already satisfied: joblib>=1.1.1 in /usr/local/lib/python3.10/dist-packages (from scikit-learn->pyMLaux==0.0.6) (1.2.0)\n",
            "Requirement already satisfied: threadpoolctl>=2.0.0 in /usr/local/lib/python3.10/dist-packages (from scikit-learn->pyMLaux==0.0.6) (3.1.0)\n",
            "Requirement already satisfied: six>=1.5 in /usr/local/lib/python3.10/dist-packages (from python-dateutil>=2.7->matplotlib->pyMLaux==0.0.6) (1.16.0)\n",
            "Building wheels for collected packages: pyMLaux\n",
            "  Building wheel for pyMLaux (setup.py) ... \u001b[?25l\u001b[?25hdone\n",
            "  Created wheel for pyMLaux: filename=pyMLaux-0.0.6-py3-none-any.whl size=6780 sha256=7b8a4538f11946ac6fe37c0a045bef213429277f20ff59ea1560d4c52328c279\n",
            "  Stored in directory: /tmp/pip-ephem-wheel-cache-84kv6g4a/wheels/53/7c/8e/707f45969871484f44ca858446dfdb44bc59698484796806c1\n",
            "Successfully built pyMLaux\n",
            "Installing collected packages: pyMLaux\n",
            "Successfully installed pyMLaux-0.0.6\n"
          ]
        }
      ]
    },
    {
      "cell_type": "code",
      "source": [
        "import pandas as pd\n",
        "import numpy as np\n",
        "import matplotlib.pyplot as plt\n",
        "from sklearn.svm import NuSVR\n",
        "from sklearn.model_selection import train_test_split, GridSearchCV\n",
        "from sklearn.pipeline import make_pipeline\n",
        "from sklearn.preprocessing import StandardScaler\n",
        "from pyMLaux import evaluate_regression_result"
      ],
      "metadata": {
        "id": "YVk2vdPRqufk"
      },
      "execution_count": 20,
      "outputs": []
    },
    {
      "cell_type": "code",
      "source": [
        "energy_data = pd.read_csv(data_dir+\"energydata_complete.csv\")\n",
        "energy_data.drop(['rv1', 'rv2'], axis=1, inplace=True)\n",
        "energy_data['date'] = pd.to_datetime(energy_data['date'])\n",
        "energy_data.set_index('date', inplace=True)\n",
        "energy_data.head()"
      ],
      "metadata": {
        "colab": {
          "base_uri": "https://localhost:8080/",
          "height": 267
        },
        "id": "LC2GnZFUq1ot",
        "outputId": "f1fa5819-47ba-44fa-816d-5feec654e570"
      },
      "execution_count": 5,
      "outputs": [
        {
          "output_type": "execute_result",
          "data": {
            "text/plain": [
              "                     Appliances  lights     T1       RH_1    T2       RH_2  \\\n",
              "date                                                                         \n",
              "2016-01-11 17:00:00          60      30  19.89  47.596667  19.2  44.790000   \n",
              "2016-01-11 17:10:00          60      30  19.89  46.693333  19.2  44.722500   \n",
              "2016-01-11 17:20:00          50      30  19.89  46.300000  19.2  44.626667   \n",
              "2016-01-11 17:30:00          50      40  19.89  46.066667  19.2  44.590000   \n",
              "2016-01-11 17:40:00          60      40  19.89  46.333333  19.2  44.530000   \n",
              "\n",
              "                        T3       RH_3         T4       RH_4  ...    T8  \\\n",
              "date                                                         ...         \n",
              "2016-01-11 17:00:00  19.79  44.730000  19.000000  45.566667  ...  18.2   \n",
              "2016-01-11 17:10:00  19.79  44.790000  19.000000  45.992500  ...  18.2   \n",
              "2016-01-11 17:20:00  19.79  44.933333  18.926667  45.890000  ...  18.2   \n",
              "2016-01-11 17:30:00  19.79  45.000000  18.890000  45.723333  ...  18.1   \n",
              "2016-01-11 17:40:00  19.79  45.000000  18.890000  45.530000  ...  18.1   \n",
              "\n",
              "                          RH_8         T9   RH_9     T_out  Press_mm_hg  \\\n",
              "date                                                                      \n",
              "2016-01-11 17:00:00  48.900000  17.033333  45.53  6.600000        733.5   \n",
              "2016-01-11 17:10:00  48.863333  17.066667  45.56  6.483333        733.6   \n",
              "2016-01-11 17:20:00  48.730000  17.000000  45.50  6.366667        733.7   \n",
              "2016-01-11 17:30:00  48.590000  17.000000  45.40  6.250000        733.8   \n",
              "2016-01-11 17:40:00  48.590000  17.000000  45.40  6.133333        733.9   \n",
              "\n",
              "                     RH_out  Windspeed  Visibility  Tdewpoint  \n",
              "date                                                           \n",
              "2016-01-11 17:00:00    92.0   7.000000   63.000000        5.3  \n",
              "2016-01-11 17:10:00    92.0   6.666667   59.166667        5.2  \n",
              "2016-01-11 17:20:00    92.0   6.333333   55.333333        5.1  \n",
              "2016-01-11 17:30:00    92.0   6.000000   51.500000        5.0  \n",
              "2016-01-11 17:40:00    92.0   5.666667   47.666667        4.9  \n",
              "\n",
              "[5 rows x 26 columns]"
            ],
            "text/html": [
              "\n",
              "  <div id=\"df-1b7c6eff-58b4-4f4c-a922-d97c52d1d084\">\n",
              "    <div class=\"colab-df-container\">\n",
              "      <div>\n",
              "<style scoped>\n",
              "    .dataframe tbody tr th:only-of-type {\n",
              "        vertical-align: middle;\n",
              "    }\n",
              "\n",
              "    .dataframe tbody tr th {\n",
              "        vertical-align: top;\n",
              "    }\n",
              "\n",
              "    .dataframe thead th {\n",
              "        text-align: right;\n",
              "    }\n",
              "</style>\n",
              "<table border=\"1\" class=\"dataframe\">\n",
              "  <thead>\n",
              "    <tr style=\"text-align: right;\">\n",
              "      <th></th>\n",
              "      <th>Appliances</th>\n",
              "      <th>lights</th>\n",
              "      <th>T1</th>\n",
              "      <th>RH_1</th>\n",
              "      <th>T2</th>\n",
              "      <th>RH_2</th>\n",
              "      <th>T3</th>\n",
              "      <th>RH_3</th>\n",
              "      <th>T4</th>\n",
              "      <th>RH_4</th>\n",
              "      <th>...</th>\n",
              "      <th>T8</th>\n",
              "      <th>RH_8</th>\n",
              "      <th>T9</th>\n",
              "      <th>RH_9</th>\n",
              "      <th>T_out</th>\n",
              "      <th>Press_mm_hg</th>\n",
              "      <th>RH_out</th>\n",
              "      <th>Windspeed</th>\n",
              "      <th>Visibility</th>\n",
              "      <th>Tdewpoint</th>\n",
              "    </tr>\n",
              "    <tr>\n",
              "      <th>date</th>\n",
              "      <th></th>\n",
              "      <th></th>\n",
              "      <th></th>\n",
              "      <th></th>\n",
              "      <th></th>\n",
              "      <th></th>\n",
              "      <th></th>\n",
              "      <th></th>\n",
              "      <th></th>\n",
              "      <th></th>\n",
              "      <th></th>\n",
              "      <th></th>\n",
              "      <th></th>\n",
              "      <th></th>\n",
              "      <th></th>\n",
              "      <th></th>\n",
              "      <th></th>\n",
              "      <th></th>\n",
              "      <th></th>\n",
              "      <th></th>\n",
              "      <th></th>\n",
              "    </tr>\n",
              "  </thead>\n",
              "  <tbody>\n",
              "    <tr>\n",
              "      <th>2016-01-11 17:00:00</th>\n",
              "      <td>60</td>\n",
              "      <td>30</td>\n",
              "      <td>19.89</td>\n",
              "      <td>47.596667</td>\n",
              "      <td>19.2</td>\n",
              "      <td>44.790000</td>\n",
              "      <td>19.79</td>\n",
              "      <td>44.730000</td>\n",
              "      <td>19.000000</td>\n",
              "      <td>45.566667</td>\n",
              "      <td>...</td>\n",
              "      <td>18.2</td>\n",
              "      <td>48.900000</td>\n",
              "      <td>17.033333</td>\n",
              "      <td>45.53</td>\n",
              "      <td>6.600000</td>\n",
              "      <td>733.5</td>\n",
              "      <td>92.0</td>\n",
              "      <td>7.000000</td>\n",
              "      <td>63.000000</td>\n",
              "      <td>5.3</td>\n",
              "    </tr>\n",
              "    <tr>\n",
              "      <th>2016-01-11 17:10:00</th>\n",
              "      <td>60</td>\n",
              "      <td>30</td>\n",
              "      <td>19.89</td>\n",
              "      <td>46.693333</td>\n",
              "      <td>19.2</td>\n",
              "      <td>44.722500</td>\n",
              "      <td>19.79</td>\n",
              "      <td>44.790000</td>\n",
              "      <td>19.000000</td>\n",
              "      <td>45.992500</td>\n",
              "      <td>...</td>\n",
              "      <td>18.2</td>\n",
              "      <td>48.863333</td>\n",
              "      <td>17.066667</td>\n",
              "      <td>45.56</td>\n",
              "      <td>6.483333</td>\n",
              "      <td>733.6</td>\n",
              "      <td>92.0</td>\n",
              "      <td>6.666667</td>\n",
              "      <td>59.166667</td>\n",
              "      <td>5.2</td>\n",
              "    </tr>\n",
              "    <tr>\n",
              "      <th>2016-01-11 17:20:00</th>\n",
              "      <td>50</td>\n",
              "      <td>30</td>\n",
              "      <td>19.89</td>\n",
              "      <td>46.300000</td>\n",
              "      <td>19.2</td>\n",
              "      <td>44.626667</td>\n",
              "      <td>19.79</td>\n",
              "      <td>44.933333</td>\n",
              "      <td>18.926667</td>\n",
              "      <td>45.890000</td>\n",
              "      <td>...</td>\n",
              "      <td>18.2</td>\n",
              "      <td>48.730000</td>\n",
              "      <td>17.000000</td>\n",
              "      <td>45.50</td>\n",
              "      <td>6.366667</td>\n",
              "      <td>733.7</td>\n",
              "      <td>92.0</td>\n",
              "      <td>6.333333</td>\n",
              "      <td>55.333333</td>\n",
              "      <td>5.1</td>\n",
              "    </tr>\n",
              "    <tr>\n",
              "      <th>2016-01-11 17:30:00</th>\n",
              "      <td>50</td>\n",
              "      <td>40</td>\n",
              "      <td>19.89</td>\n",
              "      <td>46.066667</td>\n",
              "      <td>19.2</td>\n",
              "      <td>44.590000</td>\n",
              "      <td>19.79</td>\n",
              "      <td>45.000000</td>\n",
              "      <td>18.890000</td>\n",
              "      <td>45.723333</td>\n",
              "      <td>...</td>\n",
              "      <td>18.1</td>\n",
              "      <td>48.590000</td>\n",
              "      <td>17.000000</td>\n",
              "      <td>45.40</td>\n",
              "      <td>6.250000</td>\n",
              "      <td>733.8</td>\n",
              "      <td>92.0</td>\n",
              "      <td>6.000000</td>\n",
              "      <td>51.500000</td>\n",
              "      <td>5.0</td>\n",
              "    </tr>\n",
              "    <tr>\n",
              "      <th>2016-01-11 17:40:00</th>\n",
              "      <td>60</td>\n",
              "      <td>40</td>\n",
              "      <td>19.89</td>\n",
              "      <td>46.333333</td>\n",
              "      <td>19.2</td>\n",
              "      <td>44.530000</td>\n",
              "      <td>19.79</td>\n",
              "      <td>45.000000</td>\n",
              "      <td>18.890000</td>\n",
              "      <td>45.530000</td>\n",
              "      <td>...</td>\n",
              "      <td>18.1</td>\n",
              "      <td>48.590000</td>\n",
              "      <td>17.000000</td>\n",
              "      <td>45.40</td>\n",
              "      <td>6.133333</td>\n",
              "      <td>733.9</td>\n",
              "      <td>92.0</td>\n",
              "      <td>5.666667</td>\n",
              "      <td>47.666667</td>\n",
              "      <td>4.9</td>\n",
              "    </tr>\n",
              "  </tbody>\n",
              "</table>\n",
              "<p>5 rows × 26 columns</p>\n",
              "</div>\n",
              "      <button class=\"colab-df-convert\" onclick=\"convertToInteractive('df-1b7c6eff-58b4-4f4c-a922-d97c52d1d084')\"\n",
              "              title=\"Convert this dataframe to an interactive table.\"\n",
              "              style=\"display:none;\">\n",
              "        \n",
              "  <svg xmlns=\"http://www.w3.org/2000/svg\" height=\"24px\"viewBox=\"0 0 24 24\"\n",
              "       width=\"24px\">\n",
              "    <path d=\"M0 0h24v24H0V0z\" fill=\"none\"/>\n",
              "    <path d=\"M18.56 5.44l.94 2.06.94-2.06 2.06-.94-2.06-.94-.94-2.06-.94 2.06-2.06.94zm-11 1L8.5 8.5l.94-2.06 2.06-.94-2.06-.94L8.5 2.5l-.94 2.06-2.06.94zm10 10l.94 2.06.94-2.06 2.06-.94-2.06-.94-.94-2.06-.94 2.06-2.06.94z\"/><path d=\"M17.41 7.96l-1.37-1.37c-.4-.4-.92-.59-1.43-.59-.52 0-1.04.2-1.43.59L10.3 9.45l-7.72 7.72c-.78.78-.78 2.05 0 2.83L4 21.41c.39.39.9.59 1.41.59.51 0 1.02-.2 1.41-.59l7.78-7.78 2.81-2.81c.8-.78.8-2.07 0-2.86zM5.41 20L4 18.59l7.72-7.72 1.47 1.35L5.41 20z\"/>\n",
              "  </svg>\n",
              "      </button>\n",
              "      \n",
              "  <style>\n",
              "    .colab-df-container {\n",
              "      display:flex;\n",
              "      flex-wrap:wrap;\n",
              "      gap: 12px;\n",
              "    }\n",
              "\n",
              "    .colab-df-convert {\n",
              "      background-color: #E8F0FE;\n",
              "      border: none;\n",
              "      border-radius: 50%;\n",
              "      cursor: pointer;\n",
              "      display: none;\n",
              "      fill: #1967D2;\n",
              "      height: 32px;\n",
              "      padding: 0 0 0 0;\n",
              "      width: 32px;\n",
              "    }\n",
              "\n",
              "    .colab-df-convert:hover {\n",
              "      background-color: #E2EBFA;\n",
              "      box-shadow: 0px 1px 2px rgba(60, 64, 67, 0.3), 0px 1px 3px 1px rgba(60, 64, 67, 0.15);\n",
              "      fill: #174EA6;\n",
              "    }\n",
              "\n",
              "    [theme=dark] .colab-df-convert {\n",
              "      background-color: #3B4455;\n",
              "      fill: #D2E3FC;\n",
              "    }\n",
              "\n",
              "    [theme=dark] .colab-df-convert:hover {\n",
              "      background-color: #434B5C;\n",
              "      box-shadow: 0px 1px 3px 1px rgba(0, 0, 0, 0.15);\n",
              "      filter: drop-shadow(0px 1px 2px rgba(0, 0, 0, 0.3));\n",
              "      fill: #FFFFFF;\n",
              "    }\n",
              "  </style>\n",
              "\n",
              "      <script>\n",
              "        const buttonEl =\n",
              "          document.querySelector('#df-1b7c6eff-58b4-4f4c-a922-d97c52d1d084 button.colab-df-convert');\n",
              "        buttonEl.style.display =\n",
              "          google.colab.kernel.accessAllowed ? 'block' : 'none';\n",
              "\n",
              "        async function convertToInteractive(key) {\n",
              "          const element = document.querySelector('#df-1b7c6eff-58b4-4f4c-a922-d97c52d1d084');\n",
              "          const dataTable =\n",
              "            await google.colab.kernel.invokeFunction('convertToInteractive',\n",
              "                                                     [key], {});\n",
              "          if (!dataTable) return;\n",
              "\n",
              "          const docLinkHtml = 'Like what you see? Visit the ' +\n",
              "            '<a target=\"_blank\" href=https://colab.research.google.com/notebooks/data_table.ipynb>data table notebook</a>'\n",
              "            + ' to learn more about interactive tables.';\n",
              "          element.innerHTML = '';\n",
              "          dataTable['output_type'] = 'display_data';\n",
              "          await google.colab.output.renderOutput(dataTable, element);\n",
              "          const docLink = document.createElement('div');\n",
              "          docLink.innerHTML = docLinkHtml;\n",
              "          element.appendChild(docLink);\n",
              "        }\n",
              "      </script>\n",
              "    </div>\n",
              "  </div>\n",
              "  "
            ]
          },
          "metadata": {},
          "execution_count": 5
        }
      ]
    },
    {
      "cell_type": "code",
      "source": [
        "energy_data_plus = energy_data.copy()\n",
        "hour = pd.to_datetime(energy_data_plus.index).hour\n",
        "doy = pd.to_datetime(energy_data_plus.index).day_of_year\n",
        "dow = pd.to_datetime(energy_data_plus.index).day_of_week\n",
        "energy_data_plus = pd.concat([energy_data_plus,\n",
        "                              pd.DataFrame({'hour': hour, 'day_of_week': dow, 'day_of_year': doy}, index=energy_data_plus.index)],\n",
        "                             axis=1)\n",
        "energy_data_plus.tail()"
      ],
      "metadata": {
        "colab": {
          "base_uri": "https://localhost:8080/",
          "height": 267
        },
        "id": "FeIRaBc5wu67",
        "outputId": "0f39e8e9-eac1-408e-fefb-c982205d81b5"
      },
      "execution_count": 8,
      "outputs": [
        {
          "output_type": "execute_result",
          "data": {
            "text/plain": [
              "                     Appliances  lights         T1       RH_1         T2  \\\n",
              "date                                                                       \n",
              "2016-05-27 17:20:00         100       0  25.566667  46.560000  25.890000   \n",
              "2016-05-27 17:30:00          90       0  25.500000  46.500000  25.754000   \n",
              "2016-05-27 17:40:00         270      10  25.500000  46.596667  25.628571   \n",
              "2016-05-27 17:50:00         420      10  25.500000  46.990000  25.414000   \n",
              "2016-05-27 18:00:00         430      10  25.500000  46.600000  25.264286   \n",
              "\n",
              "                          RH_2         T3       RH_3    T4       RH_4  ...  \\\n",
              "date                                                                   ...   \n",
              "2016-05-27 17:20:00  42.025714  27.200000  41.163333  24.7  45.590000  ...   \n",
              "2016-05-27 17:30:00  42.080000  27.133333  41.223333  24.7  45.590000  ...   \n",
              "2016-05-27 17:40:00  42.768571  27.050000  41.690000  24.7  45.730000  ...   \n",
              "2016-05-27 17:50:00  43.036000  26.890000  41.290000  24.7  45.790000  ...   \n",
              "2016-05-27 18:00:00  42.971429  26.823333  41.156667  24.7  45.963333  ...   \n",
              "\n",
              "                        RH_9      T_out  Press_mm_hg     RH_out  Windspeed  \\\n",
              "date                                                                         \n",
              "2016-05-27 17:20:00  46.7900  22.733333        755.2  55.666667   3.333333   \n",
              "2016-05-27 17:30:00  46.7900  22.600000        755.2  56.000000   3.500000   \n",
              "2016-05-27 17:40:00  46.7900  22.466667        755.2  56.333333   3.666667   \n",
              "2016-05-27 17:50:00  46.8175  22.333333        755.2  56.666667   3.833333   \n",
              "2016-05-27 18:00:00  46.8450  22.200000        755.2  57.000000   4.000000   \n",
              "\n",
              "                     Visibility  Tdewpoint  hour  day_of_week  day_of_year  \n",
              "date                                                                        \n",
              "2016-05-27 17:20:00   23.666667  13.333333    17            4          148  \n",
              "2016-05-27 17:30:00   24.500000  13.300000    17            4          148  \n",
              "2016-05-27 17:40:00   25.333333  13.266667    17            4          148  \n",
              "2016-05-27 17:50:00   26.166667  13.233333    17            4          148  \n",
              "2016-05-27 18:00:00   27.000000  13.200000    18            4          148  \n",
              "\n",
              "[5 rows x 29 columns]"
            ],
            "text/html": [
              "\n",
              "  <div id=\"df-ea7d7bc6-af70-472c-863d-d2ef309a1626\">\n",
              "    <div class=\"colab-df-container\">\n",
              "      <div>\n",
              "<style scoped>\n",
              "    .dataframe tbody tr th:only-of-type {\n",
              "        vertical-align: middle;\n",
              "    }\n",
              "\n",
              "    .dataframe tbody tr th {\n",
              "        vertical-align: top;\n",
              "    }\n",
              "\n",
              "    .dataframe thead th {\n",
              "        text-align: right;\n",
              "    }\n",
              "</style>\n",
              "<table border=\"1\" class=\"dataframe\">\n",
              "  <thead>\n",
              "    <tr style=\"text-align: right;\">\n",
              "      <th></th>\n",
              "      <th>Appliances</th>\n",
              "      <th>lights</th>\n",
              "      <th>T1</th>\n",
              "      <th>RH_1</th>\n",
              "      <th>T2</th>\n",
              "      <th>RH_2</th>\n",
              "      <th>T3</th>\n",
              "      <th>RH_3</th>\n",
              "      <th>T4</th>\n",
              "      <th>RH_4</th>\n",
              "      <th>...</th>\n",
              "      <th>RH_9</th>\n",
              "      <th>T_out</th>\n",
              "      <th>Press_mm_hg</th>\n",
              "      <th>RH_out</th>\n",
              "      <th>Windspeed</th>\n",
              "      <th>Visibility</th>\n",
              "      <th>Tdewpoint</th>\n",
              "      <th>hour</th>\n",
              "      <th>day_of_week</th>\n",
              "      <th>day_of_year</th>\n",
              "    </tr>\n",
              "    <tr>\n",
              "      <th>date</th>\n",
              "      <th></th>\n",
              "      <th></th>\n",
              "      <th></th>\n",
              "      <th></th>\n",
              "      <th></th>\n",
              "      <th></th>\n",
              "      <th></th>\n",
              "      <th></th>\n",
              "      <th></th>\n",
              "      <th></th>\n",
              "      <th></th>\n",
              "      <th></th>\n",
              "      <th></th>\n",
              "      <th></th>\n",
              "      <th></th>\n",
              "      <th></th>\n",
              "      <th></th>\n",
              "      <th></th>\n",
              "      <th></th>\n",
              "      <th></th>\n",
              "      <th></th>\n",
              "    </tr>\n",
              "  </thead>\n",
              "  <tbody>\n",
              "    <tr>\n",
              "      <th>2016-05-27 17:20:00</th>\n",
              "      <td>100</td>\n",
              "      <td>0</td>\n",
              "      <td>25.566667</td>\n",
              "      <td>46.560000</td>\n",
              "      <td>25.890000</td>\n",
              "      <td>42.025714</td>\n",
              "      <td>27.200000</td>\n",
              "      <td>41.163333</td>\n",
              "      <td>24.7</td>\n",
              "      <td>45.590000</td>\n",
              "      <td>...</td>\n",
              "      <td>46.7900</td>\n",
              "      <td>22.733333</td>\n",
              "      <td>755.2</td>\n",
              "      <td>55.666667</td>\n",
              "      <td>3.333333</td>\n",
              "      <td>23.666667</td>\n",
              "      <td>13.333333</td>\n",
              "      <td>17</td>\n",
              "      <td>4</td>\n",
              "      <td>148</td>\n",
              "    </tr>\n",
              "    <tr>\n",
              "      <th>2016-05-27 17:30:00</th>\n",
              "      <td>90</td>\n",
              "      <td>0</td>\n",
              "      <td>25.500000</td>\n",
              "      <td>46.500000</td>\n",
              "      <td>25.754000</td>\n",
              "      <td>42.080000</td>\n",
              "      <td>27.133333</td>\n",
              "      <td>41.223333</td>\n",
              "      <td>24.7</td>\n",
              "      <td>45.590000</td>\n",
              "      <td>...</td>\n",
              "      <td>46.7900</td>\n",
              "      <td>22.600000</td>\n",
              "      <td>755.2</td>\n",
              "      <td>56.000000</td>\n",
              "      <td>3.500000</td>\n",
              "      <td>24.500000</td>\n",
              "      <td>13.300000</td>\n",
              "      <td>17</td>\n",
              "      <td>4</td>\n",
              "      <td>148</td>\n",
              "    </tr>\n",
              "    <tr>\n",
              "      <th>2016-05-27 17:40:00</th>\n",
              "      <td>270</td>\n",
              "      <td>10</td>\n",
              "      <td>25.500000</td>\n",
              "      <td>46.596667</td>\n",
              "      <td>25.628571</td>\n",
              "      <td>42.768571</td>\n",
              "      <td>27.050000</td>\n",
              "      <td>41.690000</td>\n",
              "      <td>24.7</td>\n",
              "      <td>45.730000</td>\n",
              "      <td>...</td>\n",
              "      <td>46.7900</td>\n",
              "      <td>22.466667</td>\n",
              "      <td>755.2</td>\n",
              "      <td>56.333333</td>\n",
              "      <td>3.666667</td>\n",
              "      <td>25.333333</td>\n",
              "      <td>13.266667</td>\n",
              "      <td>17</td>\n",
              "      <td>4</td>\n",
              "      <td>148</td>\n",
              "    </tr>\n",
              "    <tr>\n",
              "      <th>2016-05-27 17:50:00</th>\n",
              "      <td>420</td>\n",
              "      <td>10</td>\n",
              "      <td>25.500000</td>\n",
              "      <td>46.990000</td>\n",
              "      <td>25.414000</td>\n",
              "      <td>43.036000</td>\n",
              "      <td>26.890000</td>\n",
              "      <td>41.290000</td>\n",
              "      <td>24.7</td>\n",
              "      <td>45.790000</td>\n",
              "      <td>...</td>\n",
              "      <td>46.8175</td>\n",
              "      <td>22.333333</td>\n",
              "      <td>755.2</td>\n",
              "      <td>56.666667</td>\n",
              "      <td>3.833333</td>\n",
              "      <td>26.166667</td>\n",
              "      <td>13.233333</td>\n",
              "      <td>17</td>\n",
              "      <td>4</td>\n",
              "      <td>148</td>\n",
              "    </tr>\n",
              "    <tr>\n",
              "      <th>2016-05-27 18:00:00</th>\n",
              "      <td>430</td>\n",
              "      <td>10</td>\n",
              "      <td>25.500000</td>\n",
              "      <td>46.600000</td>\n",
              "      <td>25.264286</td>\n",
              "      <td>42.971429</td>\n",
              "      <td>26.823333</td>\n",
              "      <td>41.156667</td>\n",
              "      <td>24.7</td>\n",
              "      <td>45.963333</td>\n",
              "      <td>...</td>\n",
              "      <td>46.8450</td>\n",
              "      <td>22.200000</td>\n",
              "      <td>755.2</td>\n",
              "      <td>57.000000</td>\n",
              "      <td>4.000000</td>\n",
              "      <td>27.000000</td>\n",
              "      <td>13.200000</td>\n",
              "      <td>18</td>\n",
              "      <td>4</td>\n",
              "      <td>148</td>\n",
              "    </tr>\n",
              "  </tbody>\n",
              "</table>\n",
              "<p>5 rows × 29 columns</p>\n",
              "</div>\n",
              "      <button class=\"colab-df-convert\" onclick=\"convertToInteractive('df-ea7d7bc6-af70-472c-863d-d2ef309a1626')\"\n",
              "              title=\"Convert this dataframe to an interactive table.\"\n",
              "              style=\"display:none;\">\n",
              "        \n",
              "  <svg xmlns=\"http://www.w3.org/2000/svg\" height=\"24px\"viewBox=\"0 0 24 24\"\n",
              "       width=\"24px\">\n",
              "    <path d=\"M0 0h24v24H0V0z\" fill=\"none\"/>\n",
              "    <path d=\"M18.56 5.44l.94 2.06.94-2.06 2.06-.94-2.06-.94-.94-2.06-.94 2.06-2.06.94zm-11 1L8.5 8.5l.94-2.06 2.06-.94-2.06-.94L8.5 2.5l-.94 2.06-2.06.94zm10 10l.94 2.06.94-2.06 2.06-.94-2.06-.94-.94-2.06-.94 2.06-2.06.94z\"/><path d=\"M17.41 7.96l-1.37-1.37c-.4-.4-.92-.59-1.43-.59-.52 0-1.04.2-1.43.59L10.3 9.45l-7.72 7.72c-.78.78-.78 2.05 0 2.83L4 21.41c.39.39.9.59 1.41.59.51 0 1.02-.2 1.41-.59l7.78-7.78 2.81-2.81c.8-.78.8-2.07 0-2.86zM5.41 20L4 18.59l7.72-7.72 1.47 1.35L5.41 20z\"/>\n",
              "  </svg>\n",
              "      </button>\n",
              "      \n",
              "  <style>\n",
              "    .colab-df-container {\n",
              "      display:flex;\n",
              "      flex-wrap:wrap;\n",
              "      gap: 12px;\n",
              "    }\n",
              "\n",
              "    .colab-df-convert {\n",
              "      background-color: #E8F0FE;\n",
              "      border: none;\n",
              "      border-radius: 50%;\n",
              "      cursor: pointer;\n",
              "      display: none;\n",
              "      fill: #1967D2;\n",
              "      height: 32px;\n",
              "      padding: 0 0 0 0;\n",
              "      width: 32px;\n",
              "    }\n",
              "\n",
              "    .colab-df-convert:hover {\n",
              "      background-color: #E2EBFA;\n",
              "      box-shadow: 0px 1px 2px rgba(60, 64, 67, 0.3), 0px 1px 3px 1px rgba(60, 64, 67, 0.15);\n",
              "      fill: #174EA6;\n",
              "    }\n",
              "\n",
              "    [theme=dark] .colab-df-convert {\n",
              "      background-color: #3B4455;\n",
              "      fill: #D2E3FC;\n",
              "    }\n",
              "\n",
              "    [theme=dark] .colab-df-convert:hover {\n",
              "      background-color: #434B5C;\n",
              "      box-shadow: 0px 1px 3px 1px rgba(0, 0, 0, 0.15);\n",
              "      filter: drop-shadow(0px 1px 2px rgba(0, 0, 0, 0.3));\n",
              "      fill: #FFFFFF;\n",
              "    }\n",
              "  </style>\n",
              "\n",
              "      <script>\n",
              "        const buttonEl =\n",
              "          document.querySelector('#df-ea7d7bc6-af70-472c-863d-d2ef309a1626 button.colab-df-convert');\n",
              "        buttonEl.style.display =\n",
              "          google.colab.kernel.accessAllowed ? 'block' : 'none';\n",
              "\n",
              "        async function convertToInteractive(key) {\n",
              "          const element = document.querySelector('#df-ea7d7bc6-af70-472c-863d-d2ef309a1626');\n",
              "          const dataTable =\n",
              "            await google.colab.kernel.invokeFunction('convertToInteractive',\n",
              "                                                     [key], {});\n",
              "          if (!dataTable) return;\n",
              "\n",
              "          const docLinkHtml = 'Like what you see? Visit the ' +\n",
              "            '<a target=\"_blank\" href=https://colab.research.google.com/notebooks/data_table.ipynb>data table notebook</a>'\n",
              "            + ' to learn more about interactive tables.';\n",
              "          element.innerHTML = '';\n",
              "          dataTable['output_type'] = 'display_data';\n",
              "          await google.colab.output.renderOutput(dataTable, element);\n",
              "          const docLink = document.createElement('div');\n",
              "          docLink.innerHTML = docLinkHtml;\n",
              "          element.appendChild(docLink);\n",
              "        }\n",
              "      </script>\n",
              "    </div>\n",
              "  </div>\n",
              "  "
            ]
          },
          "metadata": {},
          "execution_count": 8
        }
      ]
    },
    {
      "cell_type": "code",
      "source": [
        "y_appl = np.array(energy_data['Appliances'])\n",
        "y_light = np.array(energy_data['lights'])\n",
        "X = np.array(energy_data.iloc[:, 2:])"
      ],
      "metadata": {
        "id": "v-zfxJARrZVp"
      },
      "execution_count": 9,
      "outputs": []
    },
    {
      "cell_type": "code",
      "source": [
        "X_train, X_test, y_train, y_test = train_test_split(X, y_appl, test_size=0.3, random_state=4232)"
      ],
      "metadata": {
        "id": "cn10UwSFsvHH"
      },
      "execution_count": 11,
      "outputs": []
    },
    {
      "cell_type": "markdown",
      "source": [
        "## RBF SVR (Appliances)"
      ],
      "metadata": {
        "id": "3ect5b00vCqR"
      }
    },
    {
      "cell_type": "code",
      "source": [
        "# Normalize --> What? Whole dataset? No. --> Normalization-Bias. Same with Feature Selection.\n",
        "pipeline = make_pipeline(StandardScaler(), NuSVR(kernel='rbf', nu=0.2))\n",
        "parameters = {'nusvr__C': [2**i for i in range(0,13,4)], 'nusvr__gamma': [4**i for i in range(-3,4)]}\n",
        "svmR_models = GridSearchCV(pipeline, parameters, cv=3, n_jobs=-1, scoring=\"r2\", verbose=3)\n",
        "svmR_models.fit(X_train, y_train)"
      ],
      "metadata": {
        "id": "1RetnUggtURB",
        "colab": {
          "base_uri": "https://localhost:8080/"
        },
        "outputId": "37f21ab3-b764-4eb9-86b5-3991f1e3c535"
      },
      "execution_count": null,
      "outputs": [
        {
          "output_type": "stream",
          "name": "stdout",
          "text": [
            "Fitting 3 folds for each of 28 candidates, totalling 84 fits\n"
          ]
        }
      ]
    },
    {
      "cell_type": "code",
      "source": [
        "svmR_models.best_score_"
      ],
      "metadata": {
        "colab": {
          "base_uri": "https://localhost:8080/"
        },
        "id": "oPf7zdFPRf1X",
        "outputId": "7060edfa-98bb-48db-f1ee-b0e0308f52ed"
      },
      "execution_count": 14,
      "outputs": [
        {
          "output_type": "execute_result",
          "data": {
            "text/plain": [
              "0.13503360580121357"
            ]
          },
          "metadata": {},
          "execution_count": 14
        }
      ]
    },
    {
      "cell_type": "code",
      "source": [
        "svmR_models.best_params_"
      ],
      "metadata": {
        "colab": {
          "base_uri": "https://localhost:8080/"
        },
        "id": "X1Z6eV69RjZ7",
        "outputId": "c35c614f-e23f-45f0-b713-02fed2db5f26"
      },
      "execution_count": 15,
      "outputs": [
        {
          "output_type": "execute_result",
          "data": {
            "text/plain": [
              "{'nusvr__C': 8, 'nusvr__gamma': 0.25}"
            ]
          },
          "metadata": {},
          "execution_count": 15
        }
      ]
    },
    {
      "cell_type": "code",
      "source": [
        "svmR_models.best_estimator_.score(X_test, y_test)"
      ],
      "metadata": {
        "colab": {
          "base_uri": "https://localhost:8080/"
        },
        "id": "VLmMIAFVRntL",
        "outputId": "5142f8f1-0723-4099-ca96-f27ca539ca81"
      },
      "execution_count": 16,
      "outputs": [
        {
          "output_type": "execute_result",
          "data": {
            "text/plain": [
              "0.1640399134568753"
            ]
          },
          "metadata": {},
          "execution_count": 16
        }
      ]
    },
    {
      "cell_type": "code",
      "source": [
        "pred = svmR_models.best_estimator_.predict(X_test)"
      ],
      "metadata": {
        "id": "9nek7BNORpXb"
      },
      "execution_count": 17,
      "outputs": []
    },
    {
      "cell_type": "code",
      "source": [
        "evaluate_regression_result(y_test, pred)"
      ],
      "metadata": {
        "colab": {
          "base_uri": "https://localhost:8080/"
        },
        "id": "_COUYVgmRmdz",
        "outputId": "edc5ea72-df1a-4225-a4eb-dfbec2a7ed1d"
      },
      "execution_count": 21,
      "outputs": [
        {
          "output_type": "stream",
          "name": "stdout",
          "text": [
            "Mean squared error (MSE): 8728.52\n",
            "Root mean squared error (RMSE): 93.43\n",
            "Mean absolute error (MAE): 60.03\n",
            "Coefficient of determination (R2): 0.16\n",
            "Correlation coefficient (Pearson): 0.54 (p = 0.0)\n"
          ]
        }
      ]
    },
    {
      "cell_type": "code",
      "source": [
        "lower, upper = min(y_test), max(y_test)\n",
        "fig = plt.figure(figsize=(5, 5))\n",
        "ax = fig.add_axes([0, 0, 1, 1])\n",
        "ax.scatter(y_test, pred, alpha=0.02)\n",
        "ax.plot((lower, upper), (lower, upper), linewidth=2, linestyle='dashed', color='darkred')\n",
        "ax.set_xlim(lower, upper)\n",
        "ax.set_ylim(lower, upper)\n",
        "ax.set_xlabel('True value')\n",
        "ax.set_ylabel('Prediction')\n",
        "plt.show()"
      ],
      "metadata": {
        "id": "YEEuYG7xuatN"
      },
      "execution_count": null,
      "outputs": []
    },
    {
      "cell_type": "markdown",
      "source": [
        "### Linear SVR (Appliances)"
      ],
      "metadata": {
        "id": "14N2BvFzUS9B"
      }
    },
    {
      "cell_type": "code",
      "source": [
        "pipe2 = make_pipeline(StandardScaler(), NuSVR(kernel='linear', nu=0.2))"
      ],
      "metadata": {
        "id": "iZtI2gOiULwu"
      },
      "execution_count": null,
      "outputs": []
    },
    {
      "cell_type": "code",
      "source": [
        "parameters = {'nusvr__C': [2**i for i in range(0, 8)]}\n",
        "svmR_models = GridSearchCV(pipe2, parameters, cv=3, n_jobs=-1, scoring='r2', verbose=3)"
      ],
      "metadata": {
        "id": "XxsJP6KHURl1"
      },
      "execution_count": null,
      "outputs": []
    },
    {
      "cell_type": "code",
      "source": [
        "svmR_models.fit(X_train, y_train)"
      ],
      "metadata": {
        "id": "kb9x5xQSUeOz"
      },
      "execution_count": null,
      "outputs": []
    },
    {
      "cell_type": "code",
      "source": [
        "svmR_models.best_score_"
      ],
      "metadata": {
        "id": "cKbrhEsDUjiE"
      },
      "execution_count": null,
      "outputs": []
    },
    {
      "cell_type": "code",
      "source": [
        "svmR_models.best_params_"
      ],
      "metadata": {
        "id": "w-TEF02aUlfJ"
      },
      "execution_count": null,
      "outputs": []
    },
    {
      "cell_type": "code",
      "source": [
        "svmR_models.best_estimator_.score(X_test, y_test)"
      ],
      "metadata": {
        "id": "PBYOkZmKUmrC"
      },
      "execution_count": null,
      "outputs": []
    },
    {
      "cell_type": "code",
      "source": [
        "pred = svmR_models.best_estimator_.predict(X_test)"
      ],
      "metadata": {
        "id": "UwjHP3BlUnmB"
      },
      "execution_count": null,
      "outputs": []
    },
    {
      "cell_type": "code",
      "source": [
        "evaluate_regression_result(y_test, pred)"
      ],
      "metadata": {
        "id": "wlAwqIMBUt_7"
      },
      "execution_count": null,
      "outputs": []
    },
    {
      "cell_type": "code",
      "source": [
        "X_train.shape"
      ],
      "metadata": {
        "id": "ndjGhT-jUvqQ"
      },
      "execution_count": null,
      "outputs": []
    },
    {
      "cell_type": "code",
      "source": [
        "lower, upper = min(y_test), max(y_test)\n",
        "fig = plt.figure(figsize=(5, 5))\n",
        "ax = fig.add_axes([0, 0, 1, 1])\n",
        "ax.scatter(y_test, pred, alpha=0.3)\n",
        "ax.plot((lower, upper), (lower, upper), linewidth=2, linestyle='dashed', color='darkred')\n",
        "ax.set_xlim(lower, upper)\n",
        "ax.set_ylim(lower, upper)\n",
        "ax.set_xlabel('True value')\n",
        "ax.set_ylabel('Prediction')\n",
        "plt.show()"
      ],
      "metadata": {
        "id": "-blsKQ8XUw_c"
      },
      "execution_count": null,
      "outputs": []
    },
    {
      "cell_type": "markdown",
      "source": [
        "### Random Forest (Appliances)"
      ],
      "metadata": {
        "id": "92kWHM16U3FC"
      }
    },
    {
      "cell_type": "code",
      "source": [
        "rf_model = RandomForestRegressor(n_estimators=1000, n_jobs=-1)"
      ],
      "metadata": {
        "id": "01uXtevcU6ZC"
      },
      "execution_count": null,
      "outputs": []
    },
    {
      "cell_type": "code",
      "source": [
        "rf_model.fit(X_train, y_train)"
      ],
      "metadata": {
        "id": "2NmwdLq0U7L_"
      },
      "execution_count": null,
      "outputs": []
    },
    {
      "cell_type": "code",
      "source": [
        "pred = rf_model.predict(X_test)"
      ],
      "metadata": {
        "id": "6ngZ6h2KU8Kn"
      },
      "execution_count": null,
      "outputs": []
    },
    {
      "cell_type": "code",
      "source": [
        "X_test.shape"
      ],
      "metadata": {
        "id": "-6UCAb59U9aR"
      },
      "execution_count": null,
      "outputs": []
    },
    {
      "cell_type": "code",
      "source": [
        "evaluate_regression_result(y_test, pred)"
      ],
      "metadata": {
        "id": "tX3ChYxQU-bF"
      },
      "execution_count": null,
      "outputs": []
    },
    {
      "cell_type": "code",
      "source": [
        "lower, upper = min(y_test), max(y_test)\n",
        "fig = plt.figure(figsize=(5, 5))\n",
        "ax = fig.add_axes([0, 0, 1, 1])\n",
        "ax.scatter(y_test, pred, alpha=0.1)\n",
        "ax.plot((lower, upper), (lower, upper), linewidth=2, linestyle='dashed', color='darkred')\n",
        "ax.set_xlim(lower, upper)\n",
        "ax.set_ylim(lower, upper)\n",
        "ax.set_xlabel('True value')\n",
        "ax.set_ylabel('Prediction')\n",
        "plt.show()"
      ],
      "metadata": {
        "id": "GFuIS3AQU_g5"
      },
      "execution_count": null,
      "outputs": []
    }
  ]
}