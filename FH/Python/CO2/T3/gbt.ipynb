{
 "cells": [
  {
   "cell_type": "code",
   "execution_count": 43,
   "id": "01480d31-9702-411b-9525-99a71018bc57",
   "metadata": {},
   "outputs": [],
   "source": [
    "import pandas as pd\n",
    "import numpy as np\n",
    "import matplotlib.pyplot as plt\n",
    "import plotly.express as px\n",
    "import seaborn as sns\n",
    "from sklearn.model_selection import train_test_split, GridSearchCV\n",
    "from sklearn.ensemble import GradientBoostingRegressor\n",
    "from sklearn.metrics import mean_absolute_error, mean_squared_error, r2_score"
   ]
  },
  {
   "cell_type": "code",
   "execution_count": 17,
   "id": "a456811a-4bb7-4a1d-bcbe-41cd6f14dd2a",
   "metadata": {},
   "outputs": [],
   "source": [
    "training = pd.read_csv(\"splits/training.csv\")\n",
    "training.drop([\"index_number\"], axis=1, inplace=True)\n",
    "training\n",
    "\n",
    "#training, val = train_test_split(training, test_size=0.2, random_state=1337)\n",
    "\n",
    "X_train = training.iloc[:, :4]\n",
    "y_train = training.iloc[:, -1]\n",
    "#X_val = val.iloc[:, :4] \n",
    "#y_val = val.iloc[:, -1]"
   ]
  },
  {
   "cell_type": "code",
   "execution_count": null,
   "id": "465f0bad-8ad3-4964-89e8-1ad50fcb7966",
   "metadata": {},
   "outputs": [
    {
     "name": "stdout",
     "output_type": "stream",
     "text": [
      "Fitting 5 folds for each of 90 candidates, totalling 450 fits\n"
     ]
    }
   ],
   "source": [
    "parameters = {\n",
    "               \"criterion\": [\"friedman_mse\"],\n",
    "              \"loss\":[\"squared_error\"],\n",
    "              \"max_features\":[\"log2\",\"sqrt\"],\n",
    "              'learning_rate': [0.01,0.1,0.5],\n",
    "              'max_depth': [3, 4, 5, 6, 7],\n",
    "              'n_estimators': [250, 500, 1000]\n",
    "              }\n",
    "\n",
    "gbr = GradientBoostingRegressor()\n",
    "gs = GridSearchCV(gbr, parameters, n_jobs=-1,cv = 5, verbose=1)\n",
    "\n",
    "gs.fit(X_train, y_train)"
   ]
  },
  {
   "cell_type": "code",
   "execution_count": 71,
   "id": "755283fa-b314-4084-a11c-e070778d724d",
   "metadata": {},
   "outputs": [
    {
     "data": {
      "text/plain": [
       "0.9655956000414637"
      ]
     },
     "execution_count": 71,
     "metadata": {},
     "output_type": "execute_result"
    }
   ],
   "source": [
    "gs.best_score_"
   ]
  },
  {
   "cell_type": "code",
   "execution_count": 72,
   "id": "e162f622-6790-430b-a95f-df4e609ba882",
   "metadata": {},
   "outputs": [
    {
     "data": {
      "text/plain": [
       "{'criterion': 'friedman_mse',\n",
       " 'learning_rate': 0.1,\n",
       " 'loss': 'squared_error',\n",
       " 'max_depth': 5,\n",
       " 'max_features': 'sqrt',\n",
       " 'n_estimators': 250}"
      ]
     },
     "execution_count": 72,
     "metadata": {},
     "output_type": "execute_result"
    }
   ],
   "source": [
    "gs.best_params_"
   ]
  },
  {
   "cell_type": "code",
   "execution_count": 73,
   "id": "6ecaab65-dff1-43ed-b5ae-62e08b06f13f",
   "metadata": {},
   "outputs": [
    {
     "ename": "AttributeError",
     "evalue": "'GridSearchCV' object has no attribute 'best'",
     "output_type": "error",
     "traceback": [
      "\u001b[1;31m---------------------------------------------------------------------------\u001b[0m",
      "\u001b[1;31mAttributeError\u001b[0m                            Traceback (most recent call last)",
      "Cell \u001b[1;32mIn[73], line 1\u001b[0m\n\u001b[1;32m----> 1\u001b[0m \u001b[43mgs\u001b[49m\u001b[38;5;241;43m.\u001b[39;49m\u001b[43mbest\u001b[49m\n",
      "\u001b[1;31mAttributeError\u001b[0m: 'GridSearchCV' object has no attribute 'best'"
     ]
    }
   ],
   "source": [
    "gs.best"
   ]
  },
  {
   "cell_type": "markdown",
   "id": "7707ace5-5705-47d7-ba58-9110ab4f8937",
   "metadata": {},
   "source": [
    "## Testing"
   ]
  },
  {
   "cell_type": "code",
   "execution_count": 74,
   "id": "9b0d9a11-4a48-4a3b-91c8-93e60a2ef9d4",
   "metadata": {},
   "outputs": [],
   "source": [
    "interpolation = pd.read_csv(\"splits/inter_total.csv\") \n",
    "interpolation.drop([\"index_number\"], axis=1, inplace=True)\n",
    "extrapolation = pd.read_csv(\"splits/extrapolation.csv\")\n",
    "extrapolation.drop([\"index_number\"], axis=1, inplace=True)"
   ]
  },
  {
   "cell_type": "code",
   "execution_count": 75,
   "id": "d2020f0f-09ca-4791-a89f-f431b579ca2f",
   "metadata": {},
   "outputs": [],
   "source": [
    "X_test_inter = interpolation.iloc[:, :4]\n",
    "X_test_extra = extrapolation.iloc[:, :4]\n",
    "y_test_inter = interpolation.iloc[:, -1]\n",
    "y_test_extra = extrapolation.iloc[:, -1]"
   ]
  },
  {
   "cell_type": "code",
   "execution_count": 76,
   "id": "30267bbd-4774-4c60-a9c5-194524861bee",
   "metadata": {},
   "outputs": [
    {
     "data": {
      "text/plain": [
       "0.9972527922176481"
      ]
     },
     "execution_count": 76,
     "metadata": {},
     "output_type": "execute_result"
    }
   ],
   "source": [
    "gs.best_estimator_.score(X_test_inter, y_test_inter)"
   ]
  },
  {
   "cell_type": "code",
   "execution_count": 77,
   "id": "50549dcc-9596-439c-80ca-d493df64de3d",
   "metadata": {},
   "outputs": [],
   "source": [
    "pred_inter = gs.best_estimator_.predict(X_test_inter)"
   ]
  },
  {
   "cell_type": "code",
   "execution_count": 78,
   "id": "cd6a5254-0e49-4ede-acb4-a686bd6307f2",
   "metadata": {},
   "outputs": [
    {
     "name": "stdout",
     "output_type": "stream",
     "text": [
      "Test Inter\n",
      "MSE: 0.0008981306587055064, MAE: 0.023623548620465014, R2: 0.9972527922176481\n"
     ]
    }
   ],
   "source": [
    "print(\"Test Inter\")\n",
    "print(f\"MSE: {mean_squared_error(y_pred=pred_inter, y_true=y_test_inter)}, MAE: {mean_absolute_error(y_pred=pred_inter, y_true=y_test_inter)}, R2: {r2_score(y_pred=pred_inter, y_true=y_test_inter)}\")"
   ]
  },
  {
   "cell_type": "code",
   "execution_count": 79,
   "id": "9b0f37d1-73ad-4b97-b5ec-eb1c5b000d27",
   "metadata": {},
   "outputs": [
    {
     "data": {
      "text/plain": [
       "0.4440279926920183"
      ]
     },
     "execution_count": 79,
     "metadata": {},
     "output_type": "execute_result"
    }
   ],
   "source": [
    "gs.best_estimator_.score(X_test_extra, y_test_extra)"
   ]
  },
  {
   "cell_type": "code",
   "execution_count": 80,
   "id": "2631dd4d-da78-4d83-959a-dc8be02d3f52",
   "metadata": {},
   "outputs": [],
   "source": [
    "pred = gs.best_estimator_.predict(X_test_extra)"
   ]
  },
  {
   "cell_type": "code",
   "execution_count": 81,
   "id": "154919a5-ccf4-491c-a97a-bf8fb5ab4d7c",
   "metadata": {},
   "outputs": [
    {
     "name": "stdout",
     "output_type": "stream",
     "text": [
      "Test Extra\n",
      "MSE: 3.7524433183144277, MAE: 0.2954383027864377, R2: 0.4440279926920183\n"
     ]
    }
   ],
   "source": [
    "print(\"Test Extra\")\n",
    "print(f\"MSE: {mean_squared_error(y_pred=pred, y_true=y_test_extra)}, MAE: {mean_absolute_error(y_pred=pred, y_true=y_test_extra)}, R2: {r2_score(y_pred=pred, y_true=y_test_extra)}\")"
   ]
  }
 ],
 "metadata": {
  "kernelspec": {
   "display_name": "Python 3 (ipykernel)",
   "language": "python",
   "name": "python3"
  },
  "language_info": {
   "codemirror_mode": {
    "name": "ipython",
    "version": 3
   },
   "file_extension": ".py",
   "mimetype": "text/x-python",
   "name": "python",
   "nbconvert_exporter": "python",
   "pygments_lexer": "ipython3",
   "version": "3.11.3"
  }
 },
 "nbformat": 4,
 "nbformat_minor": 5
}
