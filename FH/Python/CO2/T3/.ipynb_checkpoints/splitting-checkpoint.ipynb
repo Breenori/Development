{
 "cells": [
  {
   "cell_type": "code",
   "execution_count": 9,
   "id": "69b7d96a-c841-4e8e-8458-7223730e327b",
   "metadata": {},
   "outputs": [],
   "source": [
    "import pandas as pd\n",
    "import numpy as np\n",
    "import matplotlib.pyplot as plt\n",
    "import plotly.express as px\n",
    "import seaborn as sns\n",
    "from sklearn.model_selection import train_test_split"
   ]
  },
  {
   "cell_type": "code",
   "execution_count": 6,
   "id": "642a1d14-aea9-4d40-8bea-65b576ef26ec",
   "metadata": {
    "scrolled": true
   },
   "outputs": [
    {
     "data": {
      "text/html": [
       "<div>\n",
       "<style scoped>\n",
       "    .dataframe tbody tr th:only-of-type {\n",
       "        vertical-align: middle;\n",
       "    }\n",
       "\n",
       "    .dataframe tbody tr th {\n",
       "        vertical-align: top;\n",
       "    }\n",
       "\n",
       "    .dataframe thead th {\n",
       "        text-align: right;\n",
       "    }\n",
       "</style>\n",
       "<table border=\"1\" class=\"dataframe\">\n",
       "  <thead>\n",
       "    <tr style=\"text-align: right;\">\n",
       "      <th></th>\n",
       "      <th>x1</th>\n",
       "      <th>x2</th>\n",
       "      <th>x3</th>\n",
       "      <th>x4</th>\n",
       "      <th>y</th>\n",
       "    </tr>\n",
       "    <tr>\n",
       "      <th>index_number</th>\n",
       "      <th></th>\n",
       "      <th></th>\n",
       "      <th></th>\n",
       "      <th></th>\n",
       "      <th></th>\n",
       "    </tr>\n",
       "  </thead>\n",
       "  <tbody>\n",
       "    <tr>\n",
       "      <th>0</th>\n",
       "      <td>-1.100000</td>\n",
       "      <td>1.0</td>\n",
       "      <td>0.5</td>\n",
       "      <td>0.05</td>\n",
       "      <td>2.039985</td>\n",
       "    </tr>\n",
       "    <tr>\n",
       "      <th>1</th>\n",
       "      <td>-1.063333</td>\n",
       "      <td>1.0</td>\n",
       "      <td>0.5</td>\n",
       "      <td>0.05</td>\n",
       "      <td>2.004431</td>\n",
       "    </tr>\n",
       "    <tr>\n",
       "      <th>2</th>\n",
       "      <td>-1.026667</td>\n",
       "      <td>1.0</td>\n",
       "      <td>0.5</td>\n",
       "      <td>0.05</td>\n",
       "      <td>1.968877</td>\n",
       "    </tr>\n",
       "    <tr>\n",
       "      <th>3</th>\n",
       "      <td>-0.990000</td>\n",
       "      <td>1.0</td>\n",
       "      <td>0.5</td>\n",
       "      <td>0.05</td>\n",
       "      <td>1.933323</td>\n",
       "    </tr>\n",
       "    <tr>\n",
       "      <th>4</th>\n",
       "      <td>-0.953333</td>\n",
       "      <td>1.0</td>\n",
       "      <td>0.5</td>\n",
       "      <td>0.05</td>\n",
       "      <td>1.897769</td>\n",
       "    </tr>\n",
       "    <tr>\n",
       "      <th>...</th>\n",
       "      <td>...</td>\n",
       "      <td>...</td>\n",
       "      <td>...</td>\n",
       "      <td>...</td>\n",
       "      <td>...</td>\n",
       "    </tr>\n",
       "    <tr>\n",
       "      <th>134979</th>\n",
       "      <td>0.286670</td>\n",
       "      <td>0.2</td>\n",
       "      <td>2.4</td>\n",
       "      <td>1.30</td>\n",
       "      <td>0.118869</td>\n",
       "    </tr>\n",
       "    <tr>\n",
       "      <th>134980</th>\n",
       "      <td>0.340000</td>\n",
       "      <td>0.2</td>\n",
       "      <td>2.4</td>\n",
       "      <td>1.30</td>\n",
       "      <td>0.109318</td>\n",
       "    </tr>\n",
       "    <tr>\n",
       "      <th>134981</th>\n",
       "      <td>0.393330</td>\n",
       "      <td>0.2</td>\n",
       "      <td>2.4</td>\n",
       "      <td>1.30</td>\n",
       "      <td>0.098362</td>\n",
       "    </tr>\n",
       "    <tr>\n",
       "      <th>134982</th>\n",
       "      <td>0.446670</td>\n",
       "      <td>0.2</td>\n",
       "      <td>2.4</td>\n",
       "      <td>1.30</td>\n",
       "      <td>0.084682</td>\n",
       "    </tr>\n",
       "    <tr>\n",
       "      <th>134983</th>\n",
       "      <td>0.500000</td>\n",
       "      <td>0.2</td>\n",
       "      <td>2.4</td>\n",
       "      <td>1.30</td>\n",
       "      <td>0.067896</td>\n",
       "    </tr>\n",
       "  </tbody>\n",
       "</table>\n",
       "<p>134984 rows × 5 columns</p>\n",
       "</div>"
      ],
      "text/plain": [
       "                    x1   x2   x3    x4         y\n",
       "index_number                                    \n",
       "0            -1.100000  1.0  0.5  0.05  2.039985\n",
       "1            -1.063333  1.0  0.5  0.05  2.004431\n",
       "2            -1.026667  1.0  0.5  0.05  1.968877\n",
       "3            -0.990000  1.0  0.5  0.05  1.933323\n",
       "4            -0.953333  1.0  0.5  0.05  1.897769\n",
       "...                ...  ...  ...   ...       ...\n",
       "134979        0.286670  0.2  2.4  1.30  0.118869\n",
       "134980        0.340000  0.2  2.4  1.30  0.109318\n",
       "134981        0.393330  0.2  2.4  1.30  0.098362\n",
       "134982        0.446670  0.2  2.4  1.30  0.084682\n",
       "134983        0.500000  0.2  2.4  1.30  0.067896\n",
       "\n",
       "[134984 rows x 5 columns]"
      ]
     },
     "execution_count": 6,
     "metadata": {},
     "output_type": "execute_result"
    }
   ],
   "source": [
    "data = pd.read_csv(\"invex_data.csv\", sep=\";\")\n",
    "data.set_index(\"index_number\", drop=True, inplace=True)\n",
    "data"
   ]
  },
  {
   "cell_type": "code",
   "execution_count": 18,
   "id": "4b9264c7-6120-41c7-8729-eac15a88f1ee",
   "metadata": {},
   "outputs": [
    {
     "data": {
      "text/plain": [
       "(11658, 5)"
      ]
     },
     "execution_count": 18,
     "metadata": {},
     "output_type": "execute_result"
    }
   ],
   "source": [
    "interpolation_center = data[(data[\"x1\"] > -0.63) & (data[\"x1\"] < 0.5) & (data[\"x2\"] > 0.2) & (data[\"x2\"] < 1) & (data[\"x3\"] > 0.9) & (data[\"x3\"] < 1.9) & (data[\"x4\"] > 0.35) & (data[\"x4\"] < 0.85)]\n",
    "interpolation_center.shape"
   ]
  },
  {
   "cell_type": "code",
   "execution_count": 19,
   "id": "2559c176-f4a6-483d-ac39-8c7ffd9d339c",
   "metadata": {},
   "outputs": [
    {
     "data": {
      "text/plain": [
       "(6344, 5)"
      ]
     },
     "execution_count": 19,
     "metadata": {},
     "output_type": "execute_result"
    }
   ],
   "source": [
    "interpolation_lower = data[(data[\"x1\"] > -1.063) & (data[\"x1\"] < -0.07) & (data[\"x2\"] > 0.3) & (data[\"x2\"] < 0.7) & (data[\"x3\"] > 0.6) & (data[\"x3\"] < 1.5) & (data[\"x4\"] > 0.1) & (data[\"x4\"] < 0.65)]\n",
    "interpolation_lower.shape"
   ]
  },
  {
   "cell_type": "code",
   "execution_count": 20,
   "id": "e535e59d-c8d2-4d7b-84b1-e17585e3b981",
   "metadata": {},
   "outputs": [
    {
     "data": {
      "text/plain": [
       "(1760, 5)"
      ]
     },
     "execution_count": 20,
     "metadata": {},
     "output_type": "execute_result"
    }
   ],
   "source": [
    "interpolation_upper = data[(data[\"x1\"] > -0.08) & (data[\"x1\"] < 1.063) & (data[\"x2\"] > 0.5) & (data[\"x2\"] < 0.9) & (data[\"x3\"] > 1.3) & (data[\"x3\"] < 2.2) & (data[\"x4\"] > 0.55) & (data[\"x4\"] < 1.2)]\n",
    "interpolation_upper.shape"
   ]
  },
  {
   "cell_type": "code",
   "execution_count": 23,
   "id": "04b786ae-f607-4415-bce4-eda85cd79172",
   "metadata": {},
   "outputs": [
    {
     "data": {
      "text/plain": [
       "(0, 5)"
      ]
     },
     "execution_count": 23,
     "metadata": {},
     "output_type": "execute_result"
    }
   ],
   "source": [
    "extrapolation = data[)(data[\"x1\"] < -1.1) | (data[\"x1\"] > 1.1)) & ((data[\"x2\"] < 0.2) | (data[\"x2\"] > 1)) & ((data[\"x3\"] < 0.5) | (data[\"x3\"] > 2.4)) & ((data[\"x4\"] < 0.05) | (data[\"x4\"] > 1.3))]\n",
    "extrapolation.shape"
   ]
  }
 ],
 "metadata": {
  "kernelspec": {
   "display_name": "Python 3 (ipykernel)",
   "language": "python",
   "name": "python3"
  },
  "language_info": {
   "codemirror_mode": {
    "name": "ipython",
    "version": 3
   },
   "file_extension": ".py",
   "mimetype": "text/x-python",
   "name": "python",
   "nbconvert_exporter": "python",
   "pygments_lexer": "ipython3",
   "version": "3.11.3"
  }
 },
 "nbformat": 4,
 "nbformat_minor": 5
}
