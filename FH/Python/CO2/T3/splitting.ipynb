{
 "cells": [
  {
   "cell_type": "code",
   "execution_count": 111,
   "id": "69b7d96a-c841-4e8e-8458-7223730e327b",
   "metadata": {},
   "outputs": [],
   "source": [
    "import pandas as pd\n",
    "import numpy as np"
   ]
  },
  {
   "cell_type": "code",
   "execution_count": 92,
   "id": "642a1d14-aea9-4d40-8bea-65b576ef26ec",
   "metadata": {
    "scrolled": true
   },
   "outputs": [
    {
     "data": {
      "text/html": [
       "<div>\n",
       "<style scoped>\n",
       "    .dataframe tbody tr th:only-of-type {\n",
       "        vertical-align: middle;\n",
       "    }\n",
       "\n",
       "    .dataframe tbody tr th {\n",
       "        vertical-align: top;\n",
       "    }\n",
       "\n",
       "    .dataframe thead th {\n",
       "        text-align: right;\n",
       "    }\n",
       "</style>\n",
       "<table border=\"1\" class=\"dataframe\">\n",
       "  <thead>\n",
       "    <tr style=\"text-align: right;\">\n",
       "      <th></th>\n",
       "      <th>index_number</th>\n",
       "      <th>x1</th>\n",
       "      <th>x2</th>\n",
       "      <th>x3</th>\n",
       "      <th>x4</th>\n",
       "      <th>y</th>\n",
       "    </tr>\n",
       "  </thead>\n",
       "  <tbody>\n",
       "    <tr>\n",
       "      <th>0</th>\n",
       "      <td>0</td>\n",
       "      <td>-1.100000</td>\n",
       "      <td>1.0</td>\n",
       "      <td>0.5</td>\n",
       "      <td>0.05</td>\n",
       "      <td>2.039985</td>\n",
       "    </tr>\n",
       "    <tr>\n",
       "      <th>1</th>\n",
       "      <td>1</td>\n",
       "      <td>-1.063333</td>\n",
       "      <td>1.0</td>\n",
       "      <td>0.5</td>\n",
       "      <td>0.05</td>\n",
       "      <td>2.004431</td>\n",
       "    </tr>\n",
       "    <tr>\n",
       "      <th>2</th>\n",
       "      <td>2</td>\n",
       "      <td>-1.026667</td>\n",
       "      <td>1.0</td>\n",
       "      <td>0.5</td>\n",
       "      <td>0.05</td>\n",
       "      <td>1.968877</td>\n",
       "    </tr>\n",
       "    <tr>\n",
       "      <th>3</th>\n",
       "      <td>3</td>\n",
       "      <td>-0.990000</td>\n",
       "      <td>1.0</td>\n",
       "      <td>0.5</td>\n",
       "      <td>0.05</td>\n",
       "      <td>1.933323</td>\n",
       "    </tr>\n",
       "    <tr>\n",
       "      <th>4</th>\n",
       "      <td>4</td>\n",
       "      <td>-0.953333</td>\n",
       "      <td>1.0</td>\n",
       "      <td>0.5</td>\n",
       "      <td>0.05</td>\n",
       "      <td>1.897769</td>\n",
       "    </tr>\n",
       "    <tr>\n",
       "      <th>...</th>\n",
       "      <td>...</td>\n",
       "      <td>...</td>\n",
       "      <td>...</td>\n",
       "      <td>...</td>\n",
       "      <td>...</td>\n",
       "      <td>...</td>\n",
       "    </tr>\n",
       "    <tr>\n",
       "      <th>134979</th>\n",
       "      <td>134979</td>\n",
       "      <td>0.286670</td>\n",
       "      <td>0.2</td>\n",
       "      <td>2.4</td>\n",
       "      <td>1.30</td>\n",
       "      <td>0.118869</td>\n",
       "    </tr>\n",
       "    <tr>\n",
       "      <th>134980</th>\n",
       "      <td>134980</td>\n",
       "      <td>0.340000</td>\n",
       "      <td>0.2</td>\n",
       "      <td>2.4</td>\n",
       "      <td>1.30</td>\n",
       "      <td>0.109318</td>\n",
       "    </tr>\n",
       "    <tr>\n",
       "      <th>134981</th>\n",
       "      <td>134981</td>\n",
       "      <td>0.393330</td>\n",
       "      <td>0.2</td>\n",
       "      <td>2.4</td>\n",
       "      <td>1.30</td>\n",
       "      <td>0.098362</td>\n",
       "    </tr>\n",
       "    <tr>\n",
       "      <th>134982</th>\n",
       "      <td>134982</td>\n",
       "      <td>0.446670</td>\n",
       "      <td>0.2</td>\n",
       "      <td>2.4</td>\n",
       "      <td>1.30</td>\n",
       "      <td>0.084682</td>\n",
       "    </tr>\n",
       "    <tr>\n",
       "      <th>134983</th>\n",
       "      <td>134983</td>\n",
       "      <td>0.500000</td>\n",
       "      <td>0.2</td>\n",
       "      <td>2.4</td>\n",
       "      <td>1.30</td>\n",
       "      <td>0.067896</td>\n",
       "    </tr>\n",
       "  </tbody>\n",
       "</table>\n",
       "<p>134984 rows × 6 columns</p>\n",
       "</div>"
      ],
      "text/plain": [
       "        index_number        x1   x2   x3    x4         y\n",
       "0                  0 -1.100000  1.0  0.5  0.05  2.039985\n",
       "1                  1 -1.063333  1.0  0.5  0.05  2.004431\n",
       "2                  2 -1.026667  1.0  0.5  0.05  1.968877\n",
       "3                  3 -0.990000  1.0  0.5  0.05  1.933323\n",
       "4                  4 -0.953333  1.0  0.5  0.05  1.897769\n",
       "...              ...       ...  ...  ...   ...       ...\n",
       "134979        134979  0.286670  0.2  2.4  1.30  0.118869\n",
       "134980        134980  0.340000  0.2  2.4  1.30  0.109318\n",
       "134981        134981  0.393330  0.2  2.4  1.30  0.098362\n",
       "134982        134982  0.446670  0.2  2.4  1.30  0.084682\n",
       "134983        134983  0.500000  0.2  2.4  1.30  0.067896\n",
       "\n",
       "[134984 rows x 6 columns]"
      ]
     },
     "execution_count": 92,
     "metadata": {},
     "output_type": "execute_result"
    }
   ],
   "source": [
    "data = pd.read_csv(\"invex_data.csv\", sep=\";\")\n",
    "data"
   ]
  },
  {
   "cell_type": "code",
   "execution_count": 93,
   "id": "50aa28ea-1e85-4d60-a8b7-9f37b02d9854",
   "metadata": {},
   "outputs": [
    {
     "data": {
      "text/html": [
       "<div>\n",
       "<style scoped>\n",
       "    .dataframe tbody tr th:only-of-type {\n",
       "        vertical-align: middle;\n",
       "    }\n",
       "\n",
       "    .dataframe tbody tr th {\n",
       "        vertical-align: top;\n",
       "    }\n",
       "\n",
       "    .dataframe thead th {\n",
       "        text-align: right;\n",
       "    }\n",
       "</style>\n",
       "<table border=\"1\" class=\"dataframe\">\n",
       "  <thead>\n",
       "    <tr style=\"text-align: right;\">\n",
       "      <th></th>\n",
       "      <th>index_number</th>\n",
       "      <th>x1</th>\n",
       "      <th>x2</th>\n",
       "      <th>x3</th>\n",
       "      <th>x4</th>\n",
       "      <th>y</th>\n",
       "    </tr>\n",
       "  </thead>\n",
       "  <tbody>\n",
       "    <tr>\n",
       "      <th>count</th>\n",
       "      <td>134984.000000</td>\n",
       "      <td>134984.000000</td>\n",
       "      <td>134984.000000</td>\n",
       "      <td>134984.000000</td>\n",
       "      <td>134984.000000</td>\n",
       "      <td>134984.000000</td>\n",
       "    </tr>\n",
       "    <tr>\n",
       "      <th>mean</th>\n",
       "      <td>67491.500000</td>\n",
       "      <td>-0.088878</td>\n",
       "      <td>0.608134</td>\n",
       "      <td>1.341975</td>\n",
       "      <td>0.454326</td>\n",
       "      <td>0.977837</td>\n",
       "    </tr>\n",
       "    <tr>\n",
       "      <th>std</th>\n",
       "      <td>38966.668705</td>\n",
       "      <td>0.551793</td>\n",
       "      <td>0.252047</td>\n",
       "      <td>0.548326</td>\n",
       "      <td>0.323041</td>\n",
       "      <td>1.681096</td>\n",
       "    </tr>\n",
       "    <tr>\n",
       "      <th>min</th>\n",
       "      <td>0.000000</td>\n",
       "      <td>-1.100000</td>\n",
       "      <td>0.200000</td>\n",
       "      <td>0.500000</td>\n",
       "      <td>0.050000</td>\n",
       "      <td>-0.663545</td>\n",
       "    </tr>\n",
       "    <tr>\n",
       "      <th>25%</th>\n",
       "      <td>33745.750000</td>\n",
       "      <td>-0.533333</td>\n",
       "      <td>0.400000</td>\n",
       "      <td>0.900000</td>\n",
       "      <td>0.200000</td>\n",
       "      <td>0.302693</td>\n",
       "    </tr>\n",
       "    <tr>\n",
       "      <th>50%</th>\n",
       "      <td>67491.500000</td>\n",
       "      <td>-0.086667</td>\n",
       "      <td>0.600000</td>\n",
       "      <td>1.300000</td>\n",
       "      <td>0.400000</td>\n",
       "      <td>0.731353</td>\n",
       "    </tr>\n",
       "    <tr>\n",
       "      <th>75%</th>\n",
       "      <td>101237.250000</td>\n",
       "      <td>0.366667</td>\n",
       "      <td>0.800000</td>\n",
       "      <td>1.800000</td>\n",
       "      <td>0.650000</td>\n",
       "      <td>1.306305</td>\n",
       "    </tr>\n",
       "    <tr>\n",
       "      <th>max</th>\n",
       "      <td>134983.000000</td>\n",
       "      <td>1.100000</td>\n",
       "      <td>1.000000</td>\n",
       "      <td>2.400000</td>\n",
       "      <td>1.300000</td>\n",
       "      <td>48.850572</td>\n",
       "    </tr>\n",
       "  </tbody>\n",
       "</table>\n",
       "</div>"
      ],
      "text/plain": [
       "        index_number             x1             x2             x3   \n",
       "count  134984.000000  134984.000000  134984.000000  134984.000000  \\\n",
       "mean    67491.500000      -0.088878       0.608134       1.341975   \n",
       "std     38966.668705       0.551793       0.252047       0.548326   \n",
       "min         0.000000      -1.100000       0.200000       0.500000   \n",
       "25%     33745.750000      -0.533333       0.400000       0.900000   \n",
       "50%     67491.500000      -0.086667       0.600000       1.300000   \n",
       "75%    101237.250000       0.366667       0.800000       1.800000   \n",
       "max    134983.000000       1.100000       1.000000       2.400000   \n",
       "\n",
       "                  x4              y  \n",
       "count  134984.000000  134984.000000  \n",
       "mean        0.454326       0.977837  \n",
       "std         0.323041       1.681096  \n",
       "min         0.050000      -0.663545  \n",
       "25%         0.200000       0.302693  \n",
       "50%         0.400000       0.731353  \n",
       "75%         0.650000       1.306305  \n",
       "max         1.300000      48.850572  "
      ]
     },
     "execution_count": 93,
     "metadata": {},
     "output_type": "execute_result"
    }
   ],
   "source": [
    "data.describe()"
   ]
  },
  {
   "cell_type": "code",
   "execution_count": 94,
   "id": "4b9264c7-6120-41c7-8729-eac15a88f1ee",
   "metadata": {},
   "outputs": [
    {
     "data": {
      "text/plain": [
       "(11658, 6)"
      ]
     },
     "execution_count": 94,
     "metadata": {},
     "output_type": "execute_result"
    }
   ],
   "source": [
    "interpolation_center = data[(data[\"x1\"] > -0.63) & (data[\"x1\"] < 0.5) & (data[\"x2\"] > 0.2) & (data[\"x2\"] < 1) & (data[\"x3\"] > 0.9) & (data[\"x3\"] < 1.9) & (data[\"x4\"] > 0.35) & (data[\"x4\"] < 0.85)]\n",
    "interpolation_center.shape"
   ]
  },
  {
   "cell_type": "code",
   "execution_count": 95,
   "id": "2559c176-f4a6-483d-ac39-8c7ffd9d339c",
   "metadata": {},
   "outputs": [
    {
     "data": {
      "text/plain": [
       "(6344, 6)"
      ]
     },
     "execution_count": 95,
     "metadata": {},
     "output_type": "execute_result"
    }
   ],
   "source": [
    "interpolation_lower = data[(data[\"x1\"] > -1.063) & (data[\"x1\"] < -0.07) & (data[\"x2\"] > 0.3) & (data[\"x2\"] < 0.7) & (data[\"x3\"] > 0.6) & (data[\"x3\"] < 1.5) & (data[\"x4\"] > 0.1) & (data[\"x4\"] < 0.65)]\n",
    "interpolation_lower.shape"
   ]
  },
  {
   "cell_type": "code",
   "execution_count": 96,
   "id": "e535e59d-c8d2-4d7b-84b1-e17585e3b981",
   "metadata": {},
   "outputs": [
    {
     "data": {
      "text/plain": [
       "(1760, 6)"
      ]
     },
     "execution_count": 96,
     "metadata": {},
     "output_type": "execute_result"
    }
   ],
   "source": [
    "interpolation_upper = data[(data[\"x1\"] > -0.08) & (data[\"x1\"] < 1.063) & (data[\"x2\"] > 0.5) & (data[\"x2\"] < 0.9) & (data[\"x3\"] > 1.3) & (data[\"x3\"] < 2.2) & (data[\"x4\"] > 0.55) & (data[\"x4\"] < 1.2)]\n",
    "interpolation_upper.shape"
   ]
  },
  {
   "cell_type": "code",
   "execution_count": 97,
   "id": "60b5338e-5f7d-497e-b7f0-998bec97db21",
   "metadata": {},
   "outputs": [
    {
     "data": {
      "text/plain": [
       "(18244, 6)"
      ]
     },
     "execution_count": 97,
     "metadata": {},
     "output_type": "execute_result"
    }
   ],
   "source": [
    "interpolation_total = pd.concat([interpolation_lower, interpolation_center, interpolation_upper])\n",
    "interpolation_total.drop_duplicates(inplace=True)\n",
    "interpolation_total.shape"
   ]
  },
  {
   "cell_type": "code",
   "execution_count": 98,
   "id": "04b786ae-f607-4415-bce4-eda85cd79172",
   "metadata": {},
   "outputs": [
    {
     "data": {
      "text/plain": [
       "(85517, 6)"
      ]
     },
     "execution_count": 98,
     "metadata": {},
     "output_type": "execute_result"
    }
   ],
   "source": [
    "extrapolation_excl = data[((data[\"x1\"] > -1.1) & (data[\"x1\"] < 1.1)) & ((data[\"x2\"] > 0.2) & (data[\"x2\"] < 1)) & ((data[\"x3\"] > 0.5) & (data[\"x3\"] < 2.4)) & ((data[\"x4\"] > 0.05) & (data[\"x4\"] < 1.3))]\n",
    "extrapolation_excl.shape"
   ]
  },
  {
   "cell_type": "code",
   "execution_count": 99,
   "id": "471901a5-dda9-463c-bdd0-2788175882c7",
   "metadata": {},
   "outputs": [
    {
     "data": {
      "text/html": [
       "<div>\n",
       "<style scoped>\n",
       "    .dataframe tbody tr th:only-of-type {\n",
       "        vertical-align: middle;\n",
       "    }\n",
       "\n",
       "    .dataframe tbody tr th {\n",
       "        vertical-align: top;\n",
       "    }\n",
       "\n",
       "    .dataframe thead th {\n",
       "        text-align: right;\n",
       "    }\n",
       "</style>\n",
       "<table border=\"1\" class=\"dataframe\">\n",
       "  <thead>\n",
       "    <tr style=\"text-align: right;\">\n",
       "      <th></th>\n",
       "      <th>index_number</th>\n",
       "      <th>x1</th>\n",
       "      <th>x2</th>\n",
       "      <th>x3</th>\n",
       "      <th>x4</th>\n",
       "      <th>y</th>\n",
       "    </tr>\n",
       "  </thead>\n",
       "  <tbody>\n",
       "    <tr>\n",
       "      <th>15991</th>\n",
       "      <td>15991</td>\n",
       "      <td>-1.050000</td>\n",
       "      <td>0.9</td>\n",
       "      <td>0.6</td>\n",
       "      <td>0.1</td>\n",
       "      <td>2.039177</td>\n",
       "    </tr>\n",
       "    <tr>\n",
       "      <th>15992</th>\n",
       "      <td>15992</td>\n",
       "      <td>-1.000000</td>\n",
       "      <td>0.9</td>\n",
       "      <td>0.6</td>\n",
       "      <td>0.1</td>\n",
       "      <td>1.983465</td>\n",
       "    </tr>\n",
       "    <tr>\n",
       "      <th>15993</th>\n",
       "      <td>15993</td>\n",
       "      <td>-0.966667</td>\n",
       "      <td>0.9</td>\n",
       "      <td>0.6</td>\n",
       "      <td>0.1</td>\n",
       "      <td>1.946539</td>\n",
       "    </tr>\n",
       "    <tr>\n",
       "      <th>15994</th>\n",
       "      <td>15994</td>\n",
       "      <td>-0.933333</td>\n",
       "      <td>0.9</td>\n",
       "      <td>0.6</td>\n",
       "      <td>0.1</td>\n",
       "      <td>1.909795</td>\n",
       "    </tr>\n",
       "    <tr>\n",
       "      <th>15995</th>\n",
       "      <td>15995</td>\n",
       "      <td>-0.900000</td>\n",
       "      <td>0.9</td>\n",
       "      <td>0.6</td>\n",
       "      <td>0.1</td>\n",
       "      <td>1.873238</td>\n",
       "    </tr>\n",
       "    <tr>\n",
       "      <th>...</th>\n",
       "      <td>...</td>\n",
       "      <td>...</td>\n",
       "      <td>...</td>\n",
       "      <td>...</td>\n",
       "      <td>...</td>\n",
       "      <td>...</td>\n",
       "    </tr>\n",
       "    <tr>\n",
       "      <th>123275</th>\n",
       "      <td>123275</td>\n",
       "      <td>0.393330</td>\n",
       "      <td>0.3</td>\n",
       "      <td>2.2</td>\n",
       "      <td>1.2</td>\n",
       "      <td>0.129059</td>\n",
       "    </tr>\n",
       "    <tr>\n",
       "      <th>123276</th>\n",
       "      <td>123276</td>\n",
       "      <td>0.446670</td>\n",
       "      <td>0.3</td>\n",
       "      <td>2.2</td>\n",
       "      <td>1.2</td>\n",
       "      <td>0.109949</td>\n",
       "    </tr>\n",
       "    <tr>\n",
       "      <th>123277</th>\n",
       "      <td>123277</td>\n",
       "      <td>0.500000</td>\n",
       "      <td>0.3</td>\n",
       "      <td>2.2</td>\n",
       "      <td>1.2</td>\n",
       "      <td>0.087518</td>\n",
       "    </tr>\n",
       "    <tr>\n",
       "      <th>123278</th>\n",
       "      <td>123278</td>\n",
       "      <td>0.546875</td>\n",
       "      <td>0.3</td>\n",
       "      <td>2.2</td>\n",
       "      <td>1.2</td>\n",
       "      <td>0.063065</td>\n",
       "    </tr>\n",
       "    <tr>\n",
       "      <th>123279</th>\n",
       "      <td>123279</td>\n",
       "      <td>0.600000</td>\n",
       "      <td>0.3</td>\n",
       "      <td>2.2</td>\n",
       "      <td>1.2</td>\n",
       "      <td>0.035330</td>\n",
       "    </tr>\n",
       "  </tbody>\n",
       "</table>\n",
       "<p>85517 rows × 6 columns</p>\n",
       "</div>"
      ],
      "text/plain": [
       "        index_number        x1   x2   x3   x4         y\n",
       "15991          15991 -1.050000  0.9  0.6  0.1  2.039177\n",
       "15992          15992 -1.000000  0.9  0.6  0.1  1.983465\n",
       "15993          15993 -0.966667  0.9  0.6  0.1  1.946539\n",
       "15994          15994 -0.933333  0.9  0.6  0.1  1.909795\n",
       "15995          15995 -0.900000  0.9  0.6  0.1  1.873238\n",
       "...              ...       ...  ...  ...  ...       ...\n",
       "123275        123275  0.393330  0.3  2.2  1.2  0.129059\n",
       "123276        123276  0.446670  0.3  2.2  1.2  0.109949\n",
       "123277        123277  0.500000  0.3  2.2  1.2  0.087518\n",
       "123278        123278  0.546875  0.3  2.2  1.2  0.063065\n",
       "123279        123279  0.600000  0.3  2.2  1.2  0.035330\n",
       "\n",
       "[85517 rows x 6 columns]"
      ]
     },
     "execution_count": 99,
     "metadata": {},
     "output_type": "execute_result"
    }
   ],
   "source": [
    "extrapolation_excl"
   ]
  },
  {
   "cell_type": "code",
   "execution_count": 107,
   "id": "2d12745c-ae2c-4012-9d1a-79ade90a5540",
   "metadata": {},
   "outputs": [
    {
     "data": {
      "text/plain": [
       "(49467, 6)"
      ]
     },
     "execution_count": 107,
     "metadata": {},
     "output_type": "execute_result"
    }
   ],
   "source": [
    "extrapolation = data.copy(deep=True)\n",
    "extrapolation.drop(extrapolation_excl.index_number, inplace=True)\n",
    "extrapolation.shape"
   ]
  },
  {
   "cell_type": "code",
   "execution_count": 108,
   "id": "8411c667-4482-4ede-a58f-0d40ceaf5d5a",
   "metadata": {},
   "outputs": [
    {
     "data": {
      "text/plain": [
       "(67273, 6)"
      ]
     },
     "execution_count": 108,
     "metadata": {},
     "output_type": "execute_result"
    }
   ],
   "source": [
    "training = data.copy(deep=True)\n",
    "training.drop(extrapolation.index_number, inplace=True)\n",
    "training.drop(interpolation_total.index_number, inplace=True)\n",
    "training.shape"
   ]
  },
  {
   "cell_type": "code",
   "execution_count": 112,
   "id": "6b5a9e1d-2a6c-46b0-a4a2-34bc1ff03695",
   "metadata": {},
   "outputs": [],
   "source": [
    "interpolation_center.to_csv(\"splits/inter_center.csv\", index=False)\n",
    "interpolation_lower.to_csv(\"splits/inter_lower.csv\", index=False)\n",
    "interpolation_upper.to_csv(\"splits/inter_upper.csv\", index=False)\n",
    "interpolation_total.to_csv(\"splits/inter_total.csv\", index=False)\n",
    "extrapolation.to_csv(\"splits/extrapolation.csv\", index=False)\n",
    "training.to_csv(\"splits/training.csv\", index=False)"
   ]
  }
 ],
 "metadata": {
  "kernelspec": {
   "display_name": "Python 3 (ipykernel)",
   "language": "python",
   "name": "python3"
  },
  "language_info": {
   "codemirror_mode": {
    "name": "ipython",
    "version": 3
   },
   "file_extension": ".py",
   "mimetype": "text/x-python",
   "name": "python",
   "nbconvert_exporter": "python",
   "pygments_lexer": "ipython3",
   "version": "3.8.8"
  }
 },
 "nbformat": 4,
 "nbformat_minor": 5
}
