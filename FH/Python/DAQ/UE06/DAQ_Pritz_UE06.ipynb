{
 "cells": [
  {
   "cell_type": "code",
   "execution_count": 4,
   "metadata": {},
   "outputs": [],
   "source": [
    "import pandas as pd\n",
    "import numpy as np\n",
    "from os import listdir\n",
    "from os.path import exists\n",
    "import re"
   ]
  },
  {
   "cell_type": "code",
   "execution_count": 41,
   "metadata": {},
   "outputs": [
    {
     "name": "stdout",
     "output_type": "stream",
     "text": [
      "Wonder | R.J. Palacio $16.99  | ISBN: 9781524720193\n",
      "The Immortalists | Chloe Benjamin $26.00  | ISBN: 9780735213180\n",
      "Astrophysics for People in a Hurry | Neil deGrasse Tyson $18.95  | ISBN: 9780393609394\n",
      "The Whistler | John Grisham $9.99  | ISBN: 9781101967683\n",
      "Pachinko | Min Jin Lee $15.99  | ISBN: 9781455563920\n",
      "The Silk Roads | Peter Frankopan $20.00  | ISBN: 9781101912379\n",
      "Turtles All the Way Down | John Green $19.99  | ISBN: 9780525555360\n",
      "The Underground Railroad | Colson Whitehead $16.95, ISBN: 9780345804327\n",
      "The Silk Roads | Peter Frankopan $20.00 | ISBN: 9781101912379\n",
      "The Great Alone | Kristin Hannah $28.99 | ISBN: 9780312577230\n",
      "Astrophysics for People in a Hurry | Neil deGrasse Tyson $18.95 | ISBN: 9780393609394\n",
      "Ready Player One | Ernest Cline $9.99 | ISBN: 9780804190145\n",
      "Wonder | R.J. Palacio $16.99 | ISBN: 9781524720193\n",
      "Turtles All the Way Down | John Green $19.99 | ISBN: 9780525555360\n",
      "The Underground Railroad | Colson Whitehead $16.95 | ISBN: 9780345804327\n",
      "The Stranger in the Woods: The Extraordinary Story of the Last True Hermit | Michael Finkel $16.00 | ISBN: 9781101911532\n",
      "The Great Alone | Kristin Hannah $28.99 | ISBN: 9780312577230\n",
      "Astrophysics for People in a Hurry | Neil deGrasse Tyson $18.95 | ISBN: 9780393609394\n",
      "Ready Player One | Ernest Cline $9.99 | ISBN: 9780804190145\n",
      "Wonder | R.J. Palacio $16.99 | ISBN: 9781524720193\n",
      "Turtles All the Way Down | John Green $19.99 | ISBN: 9780525555360\n"
     ]
    }
   ],
   "source": [
    "folderpath = \"bestsellerdata\"\n",
    "\n",
    "data = pd.DataFrame()\n",
    "\n",
    "for path in listdir(folderpath):\n",
    "    if path.endswith(\".xlsx\"):\n",
    "        weekMatch = re.search(\"(\\d{2}-\\d{2}-\\d{2})\", path)\n",
    "        sheets = dict()\n",
    "        filedata = pd.read_excel(f\"{folderpath}/{path}\", sheet_name=None)\n",
    "        if weekMatch:\n",
    "            week = weekMatch.group(1)\n",
    "            sheets[week] = pd.DataFrame()\n",
    "            for sheetname in filedata.keys():\n",
    "                df = filedata[sheetname]\n",
    "                for column in df.columns.values:\n",
    "                    if column == \"Info\":\n",
    "                        infoMatch = re.search(\"\\w\")\n",
    "                        print(df.loc[1,column])\n",
    "        elif re.search(\"(\\d{2}-\\d{2})\", path):\n",
    "            for sheetname in filedata.keys():\n",
    "                sheets[sheetname] = filedata[sheetname] "
   ]
  }
 ],
 "metadata": {
  "kernelspec": {
   "display_name": "Python 3",
   "language": "python",
   "name": "python3"
  },
  "language_info": {
   "codemirror_mode": {
    "name": "ipython",
    "version": 3
   },
   "file_extension": ".py",
   "mimetype": "text/x-python",
   "name": "python",
   "nbconvert_exporter": "python",
   "pygments_lexer": "ipython3",
   "version": "3.11.0"
  },
  "orig_nbformat": 4
 },
 "nbformat": 4,
 "nbformat_minor": 2
}
