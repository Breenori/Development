{
 "cells": [
  {
   "cell_type": "markdown",
   "id": "9e9b704d-1fe0-4131-8f0a-59199305cdec",
   "metadata": {},
   "source": [
    "### Exercise 1: Pandas"
   ]
  },
  {
   "cell_type": "markdown",
   "id": "ea65eaf2-dca2-4666-aebb-ec2b595210d0",
   "metadata": {},
   "source": [
    "The second exercise should help you to deepen the experiences of web scraping that you gained in the course."
   ]
  },
  {
   "cell_type": "markdown",
   "id": "2383f1a1-879c-4ef1-a398-58dafd7a559a",
   "metadata": {},
   "source": [
    "#### a) Select a website of your choice and parse some information from the site (links, headers, images, etc.)"
   ]
  },
  {
   "cell_type": "code",
   "execution_count": null,
   "id": "25ced81d-add8-4a33-9a50-c2efcf8259ef",
   "metadata": {},
   "outputs": [],
   "source": []
  }
 ],
 "metadata": {
  "kernelspec": {
   "display_name": "Python 3 (ipykernel)",
   "language": "python",
   "name": "python3"
  },
  "language_info": {
   "codemirror_mode": {
    "name": "ipython",
    "version": 3
   },
   "file_extension": ".py",
   "mimetype": "text/x-python",
   "name": "python",
   "nbconvert_exporter": "python",
   "pygments_lexer": "ipython3",
   "version": "3.9.13"
  }
 },
 "nbformat": 4,
 "nbformat_minor": 5
}
