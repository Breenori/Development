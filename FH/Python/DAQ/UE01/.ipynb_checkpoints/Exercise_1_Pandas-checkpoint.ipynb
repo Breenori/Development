{
 "cells": [
  {
   "cell_type": "markdown",
   "metadata": {},
   "source": [
    "### Exercise 1: Pandas"
   ]
  },
  {
   "cell_type": "markdown",
   "metadata": {},
   "source": [
    "The first exercise should help you to deepen the experiences of Pandas that you gained in the course. It contains multiple sub-exercises for each topic."
   ]
  },
  {
   "cell_type": "markdown",
   "metadata": {},
   "source": [
    "#### a) Load data and get an overview"
   ]
  },
  {
   "cell_type": "markdown",
   "metadata": {},
   "source": [
    "Load the data \"student.csv\" to a DataFrame and get an overview of the data. Display your results and explain your insights of the data"
   ]
  },
  {
   "cell_type": "code",
   "execution_count": null,
   "metadata": {},
   "outputs": [],
   "source": []
  },
  {
   "cell_type": "markdown",
   "metadata": {},
   "source": [
    "#### b) Indexing and selection of data"
   ]
  },
  {
   "cell_type": "markdown",
   "metadata": {},
   "source": [
    "Select all students, that have \"at_home\" as Mjob and \"teacher\" as Fjob. Additionaly get the studytime of those students.\\\n",
    "Select all students, that have zero failures. Are there more students that have zero failures than those who have at least one?\\\n",
    "Select all students with a uneven ID.\\\n",
    "Select all students that have an even amount of famrel.\\\n",
    "Is there any student, who is not paid, has no activities and no internet?\\\n",
    "\\\n",
    "Use loc, iloc, [] and/or direct attribute access"
   ]
  },
  {
   "cell_type": "markdown",
   "metadata": {},
   "source": [
    "#### c) Merge, join and concatenate"
   ]
  },
  {
   "cell_type": "markdown",
   "metadata": {},
   "source": [
    "Load the data \"student_1.csv\" and \"student_2.csv\" and combine the two datasets in a correct way. Save the new DataFrame to use it later."
   ]
  },
  {
   "cell_type": "markdown",
   "metadata": {},
   "source": [
    "#### d) Categorical Data and Grouping"
   ]
  },
  {
   "cell_type": "markdown",
   "metadata": {},
   "source": [
    "Select three columns that are - in your opinion - categorical data and transform them to a categorical column. Rename the values of two of the columns in \\\n",
    "a) numerical values\\\n",
    "b) add a prefix"
   ]
  }
 ],
 "metadata": {
  "kernelspec": {
   "display_name": "Python 3 (ipykernel)",
   "language": "python",
   "name": "python3"
  },
  "language_info": {
   "codemirror_mode": {
    "name": "ipython",
    "version": 3
   },
   "file_extension": ".py",
   "mimetype": "text/x-python",
   "name": "python",
   "nbconvert_exporter": "python",
   "pygments_lexer": "ipython3",
   "version": "3.9.13"
  }
 },
 "nbformat": 4,
 "nbformat_minor": 4
}
