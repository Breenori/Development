{
 "cells": [
  {
   "cell_type": "markdown",
   "id": "9e9b704d-1fe0-4131-8f0a-59199305cdec",
   "metadata": {},
   "source": [
    "### Exercise 1: Pandas"
   ]
  },
  {
   "cell_type": "markdown",
   "id": "ea65eaf2-dca2-4666-aebb-ec2b595210d0",
   "metadata": {},
   "source": [
    "The second exercise should help you to deepen the experiences of web scraping that you gained in the course."
   ]
  },
  {
   "cell_type": "markdown",
   "id": "2383f1a1-879c-4ef1-a398-58dafd7a559a",
   "metadata": {},
   "source": [
    "#### a) Select a website of your choice and parse some information from the site (links, headers, images, etc.)"
   ]
  },
  {
   "cell_type": "code",
   "execution_count": 1,
   "id": "25ced81d-add8-4a33-9a50-c2efcf8259ef",
   "metadata": {
    "tags": []
   },
   "outputs": [],
   "source": [
    "import requests\n",
    "from bs4 import BeautifulSoup\n",
    "\n",
    "url = r'https://minecraft.fandom.com/de/wiki/Lama'\n",
    "response = requests.get(url)\n",
    "\n",
    "soup = BeautifulSoup(response.text, 'html.parser')"
   ]
  },
  {
   "cell_type": "code",
   "execution_count": 11,
   "id": "0353ec1e-a9e2-4e6f-ab7b-3100f5f2ac7f",
   "metadata": {
    "tags": []
   },
   "outputs": [
    {
     "name": "stdout",
     "output_type": "stream",
     "text": [
      "p Das Lama ist ein zähmbares Tier, das für den Transport großer Mengen an Gütern genutzt werden kann. Es ist in den Bergen und der Savannenhochebene beheimatet und tritt in vier verschiedenen Farben auf. In den Bergen ist es entweder weiß oder weiß mit grauen Flecken, in der Savannenhochebene ist es braun oder beige gefärbt. Der Hals ist relativ lang und dick, Schnauze und Ohren stehen deutlich hervor.\n",
      " \n",
      "\n",
      "ul Lamas verfügen, wie Pferde, über unterschiedlich viel Lebensenergie.\n",
      "Man kann ein Lama durch Rechtsklick besteigen. Wilde Lamas kann man nur besteigen, wenn man nichts in der Hand hält.\n",
      "Wie bei Pferden zähmt man ein Lama, indem man es solange reitet, bis es einen nicht mehr abwirft. Dann steigen rote Herzpartikel auf.\n",
      "Das Inventar eines gezähmten Lamas kann beim Reiten durch das Öffnen des Inventars (standardmäßig E) oder durch gleichzeitigem Schleichen und Rechtsklicken auf das Lama eingesehen werden.\n",
      "Gezähmte Lamas können durch Rechtsklick mit einer Truhe ausgerüstet werden. Das Inventar besitzt dann zwischen drei und 15 Slots, in dem beliebige Gegenstände platziert werden können. Beim Tod droppt das Lama sowohl den Inhalt der Truhe als auch die Truhe selbst.\n",
      "Gezähmte Lamas können außerdem entweder durch Rechtsklick oder im Lamainventar mit einem Teppich ausgestattet werden. Dadurch erhält das Lama in Abhängigkeit von der Farbe des Teppichs eine spezielle Dekoration. Beim Tod des Lamas wird dieser Teppich gedroppt.\n",
      "Lamas können beim Reiten nicht gesteuert werden, selbst dann nicht, wenn sie dekoriert sind. \n",
      "\n",
      "ul Wenn ein wildes oder gezähmtes Lama von einem Spieler, einer Kreatur oder einem anderen Lama angegriffen wird, dann wendet es sich dem Angreifer zu und spuckt ihn einmal an. Dieser Angriff verursacht ein halbes Herz Schaden.\n",
      "Sobald ein Wolf in die Nähe eines Lamas kommt, beginnt das Lama den Wolf anzugreifen. Bei Hunden passiert das nicht.\n",
      "Wenn man ein Lama mit einer Leine führt, versuchen alle Lamas in der Nähe, hinter diesem Lama eine Karawane zu bilden.\n",
      "Eine Karawane besteht aus maximal zehn Lamas.\n",
      "Lamas müssen nicht gezähmt sein, um eine Karawane zu bilden.\n",
      "Auch Jungtiere nehmen an der Karawanenbildung teil.\n",
      "Ein Spieler kann mehrere Karawanen gleichzeitig führen, indem er mehrere Lamas anleint.\n",
      "Karawanen ermöglichen den Transport einer großen Anzahl von Gegenständen.\n",
      "Wenn ein Lama zu einer Karawane gehört, greift es Wölfe nicht an. Karawanen-Lamas sind passiv gegenüber allen Kreaturen. \n",
      "\n",
      "ul Lamas spawnen natürlicherweise in den Bergen und allen ihren Varianten in Gruppen von bis zu sechs Tieren. Sie kommen außerdem in der Savannenhochebene vor, dort beinhalten die gespawnten Gruppen maximal vier Tiere.\n",
      "Lamas können, wie Pferde, nur gezüchtet werden, wenn sie gezähmt sind. Um sie in Paarungsbereitschaft zu versetzen, gibt man ihnen Strohballen. Daraufhin wenden sich die Elterntiere einander zu, Herzpartikel steigen auf und nach einiger Zeit erscheint ein Jungtier zwischen den Elterntieren. \n",
      "\n",
      "p Die Lamaspucke ist ein bewegliches Objekt und kann auch mit dem Befehl /summon  minecraft:llama_spit beschworen werden. Sie besteht aus einigen kleinen Würfeln, fliegt wie andere Geschosse durch die Luft und zieht eine Partikelspur hinter sich her. Beim Aufprall zerplatzt sie.\n",
      " \n",
      "\n",
      "ul \n",
      "\n",
      "\n",
      "\n",
      "Eine Herde von Lamas lebt in den Bergen\n",
      "\n",
      "\n",
      "\n",
      "\n",
      "\n",
      "\n",
      "Lamas treten mit vier verschiedenen Fellfärbungen auf\n",
      "\n",
      "\n",
      "\n",
      "\n",
      "\n",
      "\n",
      "Lamas mit allen 16 möglichen Dekorationen\n",
      "\n",
      "\n",
      "\n",
      " \n",
      "\n",
      "p Am 26. Juli 2016 postete Jeb auf Twitter eine Umfrage, bei der die Auswahl zwischen Lamas und Alpakas gegeben war. Er schrieb dazu lediglich:\n",
      " \n",
      "\n",
      "p Somit war nicht klar, wofür diese Umfrage überhaupt gedacht war. Dennoch stimmten mehr als 20.000 Personen ab und das Lama gewann mit 58% der Stimmen.\n",
      " \n",
      "\n",
      "p Auf der MineCon 2016, die Mitte September stattfand, kam dann die Bestätigung, dass in dieser Umfrage tatsächlich über eine neue Funktion für Minecraft abgestimmt worden war: Lamas wurde offiziell vorgestellt und Jeb ging sogar noch einmal kurz auf das Umfragenergebnis ein.[3]\n",
      " \n",
      "\n",
      "p Im Rahmen der MineCon Earth im folgenden Jahr wurde noch einmal in einem Behind The Scenes-Video zur Entwicklung der Lamas, einschließlich der Twitter-Umfrage, Bezug genommen. Es begleitet Agnes Larsson, die Programmiererin der Lamas, bei einem Ausflug, um reale Lamas zu untersuchen.\n",
      " \n",
      "\n"
     ]
    }
   ],
   "source": [
    "elements = soup.find(\"div\", {\"class\": \"mw-parser-output\"}).find_all([\"ul\", \"ol\",\"p\"], recursive=False)\n",
    "\n",
    "for element in elements:\n",
    "    if len(element.get_text().strip()) > 0:\n",
    "        print(element.name, element.get_text(), \"\\n\")"
   ]
  }
 ],
 "metadata": {
  "kernelspec": {
   "display_name": "Python 3 (ipykernel)",
   "language": "python",
   "name": "python3"
  },
  "language_info": {
   "codemirror_mode": {
    "name": "ipython",
    "version": 3
   },
   "file_extension": ".py",
   "mimetype": "text/x-python",
   "name": "python",
   "nbconvert_exporter": "python",
   "pygments_lexer": "ipython3",
   "version": "3.11.0"
  }
 },
 "nbformat": 4,
 "nbformat_minor": 5
}
