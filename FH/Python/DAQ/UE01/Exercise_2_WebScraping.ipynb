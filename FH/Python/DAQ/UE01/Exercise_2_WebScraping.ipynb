{
 "cells": [
  {
   "cell_type": "markdown",
   "id": "9e9b704d-1fe0-4131-8f0a-59199305cdec",
   "metadata": {},
   "source": [
    "### Exercise 1: Pandas"
   ]
  },
  {
   "cell_type": "markdown",
   "id": "ea65eaf2-dca2-4666-aebb-ec2b595210d0",
   "metadata": {},
   "source": [
    "The second exercise should help you to deepen the experiences of web scraping that you gained in the course."
   ]
  },
  {
   "cell_type": "markdown",
   "id": "2383f1a1-879c-4ef1-a398-58dafd7a559a",
   "metadata": {},
   "source": [
    "#### a) Select a website of your choice and parse some information from the site (links, headers, images, etc.)"
   ]
  },
  {
   "cell_type": "code",
   "execution_count": 10,
   "id": "25ced81d-add8-4a33-9a50-c2efcf8259ef",
   "metadata": {
    "tags": []
   },
   "outputs": [],
   "source": [
    "import requests\n",
    "from bs4 import BeautifulSoup\n",
    "\n",
    "url = r'https://bindingofisaacrebirth.fandom.com/wiki/Completion_Marks'\n",
    "response = requests.get(url)\n",
    "\n",
    "soup = BeautifulSoup(response.text, 'html.parser')"
   ]
  },
  {
   "cell_type": "code",
   "execution_count": 39,
   "id": "0353ec1e-a9e2-4e6f-ab7b-3100f5f2ac7f",
   "metadata": {
    "tags": []
   },
   "outputs": [
    {
     "name": "stdout",
     "output_type": "stream",
     "text": [
      "Rewards as 'The Lost':\n",
      "\t- Mom's Heartor It Lives  (Heart): -0- Baby\n",
      "\t- Isaac  (Cross): Isaac's Heart\n",
      "\t- ???  (Polaroid): The Body\n",
      "\t- Satan  (Inverted Cross): The Mind\n",
      "\t- The Lamb  (Negative): The Soul\n",
      "\t- Mega Satan  (Brimstone): White Baby\n",
      "\t- Boss Rush  (Star): The D100\n",
      "\t- Hush  (Hush's Face): Sworn Protector\n",
      "\t- Ultra Greed  (Cent Sign): Zodiac\n",
      "\t- Ultra Greedier  (Cent Sign): Dad's Lost Coin\n",
      "\t- Delirium  (Wrinkled Paper): Holy Card\n",
      "\t- Mother  (Knife): Lost Soul\n",
      "\t- The Beast  (Dad's Note): Hungry Soul\n",
      "\t- (All Above)  (All Hard Mode Marks): Godhead\n"
     ]
    }
   ],
   "source": [
    "rows = soup.find(\"table\", {\"class\": \"wikitable\"}).find(\"tbody\").find_all(\"tr\")\n",
    "\n",
    "print(\"Rewards as 'The Lost':\")\n",
    "for row in rows:\n",
    "    cells = row.find_all(\"td\")\n",
    "    if len(cells) > 0:\n",
    "        boss = cells[1].get_text().replace(\"\\n\", \" \")\n",
    "        completionmark = cells[0].get_text().strip()\n",
    "        item = cells[12].find(\"img\")[\"alt\"]\n",
    "        print(f\"\\t- {boss} ({completionmark}): {item}\")"
   ]
  }
 ],
 "metadata": {
  "kernelspec": {
   "display_name": "Python 3 (ipykernel)",
   "language": "python",
   "name": "python3"
  },
  "language_info": {
   "codemirror_mode": {
    "name": "ipython",
    "version": 3
   },
   "file_extension": ".py",
   "mimetype": "text/x-python",
   "name": "python",
   "nbconvert_exporter": "python",
   "pygments_lexer": "ipython3",
   "version": "3.11.0"
  }
 },
 "nbformat": 4,
 "nbformat_minor": 5
}
