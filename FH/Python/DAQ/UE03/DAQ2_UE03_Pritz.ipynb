{
 "cells": [
  {
   "cell_type": "markdown",
   "id": "1cfe5e29-4e85-4725-9007-2965a884c8ec",
   "metadata": {},
   "source": [
    "# Exercise 03 - Pandas\n",
    "Aufwand: 5h\n",
    "\n",
    "Python-Version: 3.11\n",
    "\n",
    "IDE: Jupyter Lab"
   ]
  },
  {
   "cell_type": "markdown",
   "id": "fd6bd53b-c752-42e3-b447-174dfce5341f",
   "metadata": {
    "jp-MarkdownHeadingCollapsed": true,
    "tags": []
   },
   "source": [
    "## 1)"
   ]
  },
  {
   "cell_type": "markdown",
   "id": "1a121a3a-1d1a-4062-92e2-3a329a8c5fd5",
   "metadata": {},
   "source": [
    "Lesen Sie die Daten mit Hilfe von Python ein. Achten Sie hierbei auf die Formatierung der Dateien wie\n",
    "Trennzeichen und Dezimalseparator.\n",
    "Fügen Sie anschließend alle Dateien zu einem Datensatz zusammen. Dieser soll die Daten anschließend\n",
    "chronologisch für alle verfügbaren Tage beinhalten."
   ]
  },
  {
   "cell_type": "code",
   "execution_count": 1,
   "id": "ec2d97cc-7682-42da-9e98-ab9e0e4538ea",
   "metadata": {},
   "outputs": [],
   "source": [
    "import numpy as np\n",
    "import pandas as pd\n",
    "import os"
   ]
  },
  {
   "cell_type": "markdown",
   "id": "989dff1d-8b15-4d20-98d3-386e225268b4",
   "metadata": {},
   "source": [
    "Im untenstehenden Code wird durch den Ordner iteriert und die Zeilen in den Dateien durch \"concat\" zusammengeführt."
   ]
  },
  {
   "cell_type": "code",
   "execution_count": 2,
   "id": "303c6702-935a-4620-bab7-ee1bab086816",
   "metadata": {},
   "outputs": [
    {
     "data": {
      "text/html": [
       "<div>\n",
       "<style scoped>\n",
       "    .dataframe tbody tr th:only-of-type {\n",
       "        vertical-align: middle;\n",
       "    }\n",
       "\n",
       "    .dataframe tbody tr th {\n",
       "        vertical-align: top;\n",
       "    }\n",
       "\n",
       "    .dataframe thead th {\n",
       "        text-align: right;\n",
       "    }\n",
       "</style>\n",
       "<table border=\"1\" class=\"dataframe\">\n",
       "  <thead>\n",
       "    <tr style=\"text-align: right;\">\n",
       "      <th></th>\n",
       "      <th>Glucose</th>\n",
       "      <th>Insuline</th>\n",
       "      <th>CH</th>\n",
       "      <th>Date</th>\n",
       "      <th>Minutes</th>\n",
       "      <th>ID</th>\n",
       "    </tr>\n",
       "  </thead>\n",
       "  <tbody>\n",
       "    <tr>\n",
       "      <th>0</th>\n",
       "      <td>140.0</td>\n",
       "      <td>0.095800</td>\n",
       "      <td>0.0</td>\n",
       "      <td>2014/03/27</td>\n",
       "      <td>5</td>\n",
       "      <td>1</td>\n",
       "    </tr>\n",
       "    <tr>\n",
       "      <th>1</th>\n",
       "      <td>139.0</td>\n",
       "      <td>0.067675</td>\n",
       "      <td>0.0</td>\n",
       "      <td>2014/03/27</td>\n",
       "      <td>10</td>\n",
       "      <td>2</td>\n",
       "    </tr>\n",
       "    <tr>\n",
       "      <th>2</th>\n",
       "      <td>139.0</td>\n",
       "      <td>0.062988</td>\n",
       "      <td>0.0</td>\n",
       "      <td>2014/03/27</td>\n",
       "      <td>15</td>\n",
       "      <td>3</td>\n",
       "    </tr>\n",
       "    <tr>\n",
       "      <th>3</th>\n",
       "      <td>141.0</td>\n",
       "      <td>0.060644</td>\n",
       "      <td>0.0</td>\n",
       "      <td>2014/03/27</td>\n",
       "      <td>20</td>\n",
       "      <td>4</td>\n",
       "    </tr>\n",
       "    <tr>\n",
       "      <th>4</th>\n",
       "      <td>144.0</td>\n",
       "      <td>0.059472</td>\n",
       "      <td>0.0</td>\n",
       "      <td>2014/03/27</td>\n",
       "      <td>25</td>\n",
       "      <td>5</td>\n",
       "    </tr>\n",
       "    <tr>\n",
       "      <th>...</th>\n",
       "      <td>...</td>\n",
       "      <td>...</td>\n",
       "      <td>...</td>\n",
       "      <td>...</td>\n",
       "      <td>...</td>\n",
       "      <td>...</td>\n",
       "    </tr>\n",
       "    <tr>\n",
       "      <th>256</th>\n",
       "      <td>58.0</td>\n",
       "      <td>0.000000</td>\n",
       "      <td>0.0</td>\n",
       "      <td>2014/04/05</td>\n",
       "      <td>1420</td>\n",
       "      <td>3452</td>\n",
       "    </tr>\n",
       "    <tr>\n",
       "      <th>257</th>\n",
       "      <td>57.0</td>\n",
       "      <td>0.000000</td>\n",
       "      <td>0.0</td>\n",
       "      <td>2014/04/05</td>\n",
       "      <td>1425</td>\n",
       "      <td>3453</td>\n",
       "    </tr>\n",
       "    <tr>\n",
       "      <th>258</th>\n",
       "      <td>56.0</td>\n",
       "      <td>0.000000</td>\n",
       "      <td>0.0</td>\n",
       "      <td>2014/04/05</td>\n",
       "      <td>1430</td>\n",
       "      <td>3454</td>\n",
       "    </tr>\n",
       "    <tr>\n",
       "      <th>259</th>\n",
       "      <td>56.0</td>\n",
       "      <td>0.000000</td>\n",
       "      <td>0.0</td>\n",
       "      <td>2014/04/05</td>\n",
       "      <td>1435</td>\n",
       "      <td>3455</td>\n",
       "    </tr>\n",
       "    <tr>\n",
       "      <th>260</th>\n",
       "      <td>-1.0</td>\n",
       "      <td>0.095800</td>\n",
       "      <td>0.0</td>\n",
       "      <td>2014/04/05</td>\n",
       "      <td>1440</td>\n",
       "      <td>3456</td>\n",
       "    </tr>\n",
       "  </tbody>\n",
       "</table>\n",
       "<p>2739 rows × 6 columns</p>\n",
       "</div>"
      ],
      "text/plain": [
       "     Glucose  Insuline   CH        Date  Minutes    ID\n",
       "0      140.0  0.095800  0.0  2014/03/27        5     1\n",
       "1      139.0  0.067675  0.0  2014/03/27       10     2\n",
       "2      139.0  0.062988  0.0  2014/03/27       15     3\n",
       "3      141.0  0.060644  0.0  2014/03/27       20     4\n",
       "4      144.0  0.059472  0.0  2014/03/27       25     5\n",
       "..       ...       ...  ...         ...      ...   ...\n",
       "256     58.0  0.000000  0.0  2014/04/05     1420  3452\n",
       "257     57.0  0.000000  0.0  2014/04/05     1425  3453\n",
       "258     56.0  0.000000  0.0  2014/04/05     1430  3454\n",
       "259     56.0  0.000000  0.0  2014/04/05     1435  3455\n",
       "260     -1.0  0.095800  0.0  2014/04/05     1440  3456\n",
       "\n",
       "[2739 rows x 6 columns]"
      ]
     },
     "execution_count": 2,
     "metadata": {},
     "output_type": "execute_result"
    }
   ],
   "source": [
    "# start with reading in one file\n",
    "initial_filepath = f\"src/{os.listdir('src')[0]}\"\n",
    "data = pd.read_csv(initial_filepath, delimiter=\",\", decimal=\".\")\n",
    "\n",
    "# automatically read in all other files\n",
    "for filepath in os.listdir(\"src\")[1:]:\n",
    "    if filepath not in initial_filepath:\n",
    "        data_add = pd.read_csv(f\"src/{filepath}\", delimiter=\",\", decimal=\".\")\n",
    "        data = pd.concat([data, data_add])\n",
    "        \n",
    "data.sort_values(by=[\"Date\", \"Minutes\"], inplace=True)\n",
    "data"
   ]
  },
  {
   "cell_type": "markdown",
   "id": "2319c321-24b2-41e5-9185-895a01acfde2",
   "metadata": {
    "jp-MarkdownHeadingCollapsed": true,
    "tags": []
   },
   "source": [
    "## 2)"
   ]
  },
  {
   "cell_type": "markdown",
   "id": "b674cca6-e05b-4a67-9887-0f313c98fcb5",
   "metadata": {},
   "source": [
    "Der erste und wichtigste Schritt in der Datenverarbeitung ist, sich einen Überblick über die zur\n",
    "Verfügung gestellten Daten zu verschaffen. Erstellen Sie dafür eine Statistik, welche den gegebenen\n",
    "Datensatz charakterisiert, also Informationen über fehlende Werte, Mittelwerte, minimale bzw.\n",
    "maximale Werte pro Features, Verteilung der einzelnen Features etc. liefert. Bereiten Sie die ermittelten\n",
    "Zahlen entsprechend auf, z.B. mit Plots und / oder Tabellen. Begründen und beschreiben Sie ihr\n",
    "Vorgehen ausführlich."
   ]
  },
  {
   "cell_type": "code",
   "execution_count": 3,
   "id": "743383de-3de1-4f7c-9b68-c5a7d7278d79",
   "metadata": {},
   "outputs": [
    {
     "data": {
      "text/html": [
       "<div>\n",
       "<style scoped>\n",
       "    .dataframe tbody tr th:only-of-type {\n",
       "        vertical-align: middle;\n",
       "    }\n",
       "\n",
       "    .dataframe tbody tr th {\n",
       "        vertical-align: top;\n",
       "    }\n",
       "\n",
       "    .dataframe thead th {\n",
       "        text-align: right;\n",
       "    }\n",
       "</style>\n",
       "<table border=\"1\" class=\"dataframe\">\n",
       "  <thead>\n",
       "    <tr style=\"text-align: right;\">\n",
       "      <th></th>\n",
       "      <th>Glucose</th>\n",
       "      <th>Insuline</th>\n",
       "      <th>CH</th>\n",
       "      <th>Minutes</th>\n",
       "      <th>ID</th>\n",
       "    </tr>\n",
       "  </thead>\n",
       "  <tbody>\n",
       "    <tr>\n",
       "      <th>count</th>\n",
       "      <td>2601.000000</td>\n",
       "      <td>2601.000000</td>\n",
       "      <td>2739.000000</td>\n",
       "      <td>2739.000000</td>\n",
       "      <td>2739.000000</td>\n",
       "    </tr>\n",
       "    <tr>\n",
       "      <th>mean</th>\n",
       "      <td>168.469050</td>\n",
       "      <td>0.412337</td>\n",
       "      <td>0.048375</td>\n",
       "      <td>723.010223</td>\n",
       "      <td>1544.856152</td>\n",
       "    </tr>\n",
       "    <tr>\n",
       "      <th>std</th>\n",
       "      <td>61.239648</td>\n",
       "      <td>1.065895</td>\n",
       "      <td>0.494617</td>\n",
       "      <td>416.600979</td>\n",
       "      <td>1000.966215</td>\n",
       "    </tr>\n",
       "    <tr>\n",
       "      <th>min</th>\n",
       "      <td>-1.000000</td>\n",
       "      <td>0.000000</td>\n",
       "      <td>0.000000</td>\n",
       "      <td>5.000000</td>\n",
       "      <td>1.000000</td>\n",
       "    </tr>\n",
       "    <tr>\n",
       "      <th>25%</th>\n",
       "      <td>123.000000</td>\n",
       "      <td>0.046386</td>\n",
       "      <td>0.000000</td>\n",
       "      <td>360.000000</td>\n",
       "      <td>715.500000</td>\n",
       "    </tr>\n",
       "    <tr>\n",
       "      <th>50%</th>\n",
       "      <td>166.000000</td>\n",
       "      <td>0.083445</td>\n",
       "      <td>0.000000</td>\n",
       "      <td>725.000000</td>\n",
       "      <td>1426.000000</td>\n",
       "    </tr>\n",
       "    <tr>\n",
       "      <th>75%</th>\n",
       "      <td>215.000000</td>\n",
       "      <td>0.130238</td>\n",
       "      <td>0.000000</td>\n",
       "      <td>1085.000000</td>\n",
       "      <td>2149.500000</td>\n",
       "    </tr>\n",
       "    <tr>\n",
       "      <th>max</th>\n",
       "      <td>297.000000</td>\n",
       "      <td>9.641700</td>\n",
       "      <td>11.000000</td>\n",
       "      <td>1440.000000</td>\n",
       "      <td>3456.000000</td>\n",
       "    </tr>\n",
       "  </tbody>\n",
       "</table>\n",
       "</div>"
      ],
      "text/plain": [
       "           Glucose     Insuline           CH      Minutes           ID\n",
       "count  2601.000000  2601.000000  2739.000000  2739.000000  2739.000000\n",
       "mean    168.469050     0.412337     0.048375   723.010223  1544.856152\n",
       "std      61.239648     1.065895     0.494617   416.600979  1000.966215\n",
       "min      -1.000000     0.000000     0.000000     5.000000     1.000000\n",
       "25%     123.000000     0.046386     0.000000   360.000000   715.500000\n",
       "50%     166.000000     0.083445     0.000000   725.000000  1426.000000\n",
       "75%     215.000000     0.130238     0.000000  1085.000000  2149.500000\n",
       "max     297.000000     9.641700    11.000000  1440.000000  3456.000000"
      ]
     },
     "execution_count": 3,
     "metadata": {},
     "output_type": "execute_result"
    }
   ],
   "source": [
    "data.describe()"
   ]
  },
  {
   "cell_type": "markdown",
   "id": "c69f4625-9941-43d3-849d-7aa45e1523ae",
   "metadata": {},
   "source": [
    "Aus der Tabelle ist ersichtlich, dass der Glukose-Messwert deutlich mehr streut, und sich zusätzliche Missing Values mit \"-1\" im Datensatz befinden. Insulin streut wesentlich weniger. Außerdem haben die beiden Spalten einige Missing Values bzw. NaN-Werte. Das sieht man auch in der Ausgabe unten."
   ]
  },
  {
   "cell_type": "code",
   "execution_count": 4,
   "id": "d8b772b4-b36d-40c5-9e03-a78aa5b2d2c6",
   "metadata": {},
   "outputs": [
    {
     "data": {
      "text/plain": [
       "Glucose     138\n",
       "Insuline    138\n",
       "CH            0\n",
       "Date          0\n",
       "Minutes       0\n",
       "ID            0\n",
       "dtype: int64"
      ]
     },
     "execution_count": 4,
     "metadata": {},
     "output_type": "execute_result"
    }
   ],
   "source": [
    "data.isna().sum()"
   ]
  },
  {
   "cell_type": "markdown",
   "id": "5ac31935-591b-4f36-84bc-206960576b5b",
   "metadata": {},
   "source": [
    "Zur Vollständigkeit, wird die Verteilung der Werte für Insulin und Glukose nochmals veranschaulicht:"
   ]
  },
  {
   "cell_type": "code",
   "execution_count": 5,
   "id": "235afb9e-94a9-41f9-9ae8-e498dffb2115",
   "metadata": {},
   "outputs": [
    {
     "data": {
      "text/plain": [
       "(array([  3.,  28., 255., 303., 395., 553., 340., 341., 192., 191.]),\n",
       " array([ -1. ,  28.8,  58.6,  88.4, 118.2, 148. , 177.8, 207.6, 237.4,\n",
       "        267.2, 297. ]),\n",
       " <BarContainer object of 10 artists>)"
      ]
     },
     "execution_count": 5,
     "metadata": {},
     "output_type": "execute_result"
    },
    {
     "data": {
      "image/png": "[encoded data removed]",
      "text/plain": [
       "<Figure size 640x480 with 1 Axes>"
      ]
     },
     "metadata": {},
     "output_type": "display_data"
    }
   ],
   "source": [
    "import matplotlib.pyplot as plt\n",
    "\n",
    "plt.title(\"Glucose\")\n",
    "plt.hist(data[\"Glucose\"].to_numpy())"
   ]
  },
  {
   "cell_type": "code",
   "execution_count": 6,
   "id": "6c06e40f-45e1-4fc6-84de-f9cd28d68f38",
   "metadata": {},
   "outputs": [
    {
     "data": {
      "text/plain": [
       "(array([2.2e+03, 9.9e+01, 9.8e+01, 2.9e+01, 3.7e+01, 3.2e+01, 1.2e+01,\n",
       "        2.5e+01, 1.0e+01, 1.2e+01, 2.2e+01, 0.0e+00, 4.0e+00, 1.1e+01,\n",
       "        3.0e+00, 1.0e+00, 1.0e+00, 0.0e+00, 0.0e+00, 5.0e+00]),\n",
       " array([0.      , 0.482085, 0.96417 , 1.446255, 1.92834 , 2.410425,\n",
       "        2.89251 , 3.374595, 3.85668 , 4.338765, 4.82085 , 5.302935,\n",
       "        5.78502 , 6.267105, 6.74919 , 7.231275, 7.71336 , 8.195445,\n",
       "        8.67753 , 9.159615, 9.6417  ]),\n",
       " <BarContainer object of 20 artists>)"
      ]
     },
     "execution_count": 6,
     "metadata": {},
     "output_type": "execute_result"
    },
    {
     "data": {
      "image/png": "[encoded data removed]",
      "text/plain": [
       "<Figure size 640x480 with 1 Axes>"
      ]
     },
     "metadata": {},
     "output_type": "display_data"
    }
   ],
   "source": [
    "plt.title(\"Insuline\")\n",
    "plt.hist(data[\"Insuline\"].to_numpy(), bins=20)"
   ]
  },
  {
   "cell_type": "markdown",
   "id": "69f0a6dd-6a5b-4806-921a-b09a41026e1a",
   "metadata": {
    "jp-MarkdownHeadingCollapsed": true,
    "tags": []
   },
   "source": [
    "## 3)"
   ]
  },
  {
   "cell_type": "markdown",
   "id": "fb4d0fb1-8ba6-4f56-b1f3-41a828277514",
   "metadata": {},
   "source": [
    "Die Datenformate sind in der Rohform in der Form „JJJJ/MM/TT“ in einer Spalte sowie die Uhrzeit in\n",
    "Minuten seit Tagesbeginn in einer weiteren Spalte aufgeführt. Überführen Sie diese beiden Spalten in\n",
    "eine neue, sinnvoll formatierte Spalte „Timestamp“."
   ]
  },
  {
   "cell_type": "code",
   "execution_count": 7,
   "id": "d4f07e58-0da5-4b4d-9eaf-0ef5c0c9d098",
   "metadata": {},
   "outputs": [
    {
     "data": {
      "text/plain": [
       "Glucose      float64\n",
       "Insuline     float64\n",
       "CH           float64\n",
       "Date          object\n",
       "Minutes        int64\n",
       "ID             int64\n",
       "Timestamp     object\n",
       "dtype: object"
      ]
     },
     "execution_count": 7,
     "metadata": {},
     "output_type": "execute_result"
    }
   ],
   "source": [
    "data[\"Timestamp\"] = data[\"Date\"]\n",
    "data.dtypes"
   ]
  },
  {
   "cell_type": "markdown",
   "id": "c06f0775-389e-41ab-8a05-837b11f03c2a",
   "metadata": {},
   "source": [
    "Die Umwandlung auf Timestamps geschieht über die Methode \"to_datetime\", der sicherheitshalber das Datums-Format mitgegeben wird."
   ]
  },
  {
   "cell_type": "code",
   "execution_count": 8,
   "id": "221a418d-ed32-4017-bf00-f46d34109c1e",
   "metadata": {},
   "outputs": [
    {
     "data": {
      "text/plain": [
       "Glucose             float64\n",
       "Insuline            float64\n",
       "CH                  float64\n",
       "Date                 object\n",
       "Minutes               int64\n",
       "ID                    int64\n",
       "Timestamp    datetime64[ns]\n",
       "dtype: object"
      ]
     },
     "execution_count": 8,
     "metadata": {},
     "output_type": "execute_result"
    }
   ],
   "source": [
    "data.Timestamp = pd.to_datetime(data.Timestamp, format=\"%Y/%m/%d\")\n",
    "data.dtypes"
   ]
  },
  {
   "cell_type": "code",
   "execution_count": 9,
   "id": "9080a26d-9369-402b-8814-e94747704be3",
   "metadata": {},
   "outputs": [
    {
     "data": {
      "text/html": [
       "<div>\n",
       "<style scoped>\n",
       "    .dataframe tbody tr th:only-of-type {\n",
       "        vertical-align: middle;\n",
       "    }\n",
       "\n",
       "    .dataframe tbody tr th {\n",
       "        vertical-align: top;\n",
       "    }\n",
       "\n",
       "    .dataframe thead th {\n",
       "        text-align: right;\n",
       "    }\n",
       "</style>\n",
       "<table border=\"1\" class=\"dataframe\">\n",
       "  <thead>\n",
       "    <tr style=\"text-align: right;\">\n",
       "      <th></th>\n",
       "      <th>Glucose</th>\n",
       "      <th>Insuline</th>\n",
       "      <th>CH</th>\n",
       "      <th>Date</th>\n",
       "      <th>Minutes</th>\n",
       "      <th>ID</th>\n",
       "      <th>Timestamp</th>\n",
       "    </tr>\n",
       "  </thead>\n",
       "  <tbody>\n",
       "    <tr>\n",
       "      <th>0</th>\n",
       "      <td>140.0</td>\n",
       "      <td>0.095800</td>\n",
       "      <td>0.0</td>\n",
       "      <td>2014/03/27</td>\n",
       "      <td>5</td>\n",
       "      <td>1</td>\n",
       "      <td>2014-03-27</td>\n",
       "    </tr>\n",
       "    <tr>\n",
       "      <th>1</th>\n",
       "      <td>139.0</td>\n",
       "      <td>0.067675</td>\n",
       "      <td>0.0</td>\n",
       "      <td>2014/03/27</td>\n",
       "      <td>10</td>\n",
       "      <td>2</td>\n",
       "      <td>2014-03-27</td>\n",
       "    </tr>\n",
       "    <tr>\n",
       "      <th>2</th>\n",
       "      <td>139.0</td>\n",
       "      <td>0.062988</td>\n",
       "      <td>0.0</td>\n",
       "      <td>2014/03/27</td>\n",
       "      <td>15</td>\n",
       "      <td>3</td>\n",
       "      <td>2014-03-27</td>\n",
       "    </tr>\n",
       "    <tr>\n",
       "      <th>3</th>\n",
       "      <td>141.0</td>\n",
       "      <td>0.060644</td>\n",
       "      <td>0.0</td>\n",
       "      <td>2014/03/27</td>\n",
       "      <td>20</td>\n",
       "      <td>4</td>\n",
       "      <td>2014-03-27</td>\n",
       "    </tr>\n",
       "    <tr>\n",
       "      <th>4</th>\n",
       "      <td>144.0</td>\n",
       "      <td>0.059472</td>\n",
       "      <td>0.0</td>\n",
       "      <td>2014/03/27</td>\n",
       "      <td>25</td>\n",
       "      <td>5</td>\n",
       "      <td>2014-03-27</td>\n",
       "    </tr>\n",
       "  </tbody>\n",
       "</table>\n",
       "</div>"
      ],
      "text/plain": [
       "   Glucose  Insuline   CH        Date  Minutes  ID  Timestamp\n",
       "0    140.0  0.095800  0.0  2014/03/27        5   1 2014-03-27\n",
       "1    139.0  0.067675  0.0  2014/03/27       10   2 2014-03-27\n",
       "2    139.0  0.062988  0.0  2014/03/27       15   3 2014-03-27\n",
       "3    141.0  0.060644  0.0  2014/03/27       20   4 2014-03-27\n",
       "4    144.0  0.059472  0.0  2014/03/27       25   5 2014-03-27"
      ]
     },
     "execution_count": 9,
     "metadata": {},
     "output_type": "execute_result"
    }
   ],
   "source": [
    "data.head()"
   ]
  },
  {
   "cell_type": "markdown",
   "id": "d9e38afb-3e0f-4fbe-a110-8984ea09e93c",
   "metadata": {},
   "source": [
    "Durch den Datentyp bzw. die obenstehende Tabelle ist die Umwandlung ersichtlich."
   ]
  },
  {
   "cell_type": "markdown",
   "id": "585fd936-9ea5-43cd-94e9-c37224634841",
   "metadata": {
    "jp-MarkdownHeadingCollapsed": true,
    "tags": []
   },
   "source": [
    "## 4)"
   ]
  },
  {
   "cell_type": "markdown",
   "id": "854b398e-4595-41f4-9c85-8824b8636a36",
   "metadata": {},
   "source": [
    "Der Timestamp sollte durchgängig alle fünf Minuten eine Messung beinhalten. Durch Messfehler kann\n",
    "es sein, dass ein kompletter Datensatz für eine Messung inklusive des Timestamps nicht vorhanden ist\n",
    "– es also größere Sprünge als fünf Minuten gibt. Falls dem so ist, finden Sie diese Fehler und fügen Sie\n",
    "eine neue Zeile für die fehlenden Zeitschritte mit passendem Timestamp ein. Alle anderen Werte der\n",
    "Zeile sind dann natürlich nicht bekannt."
   ]
  },
  {
   "cell_type": "markdown",
   "id": "f66c6cd8-6ac3-484f-b056-788fc9012e13",
   "metadata": {},
   "source": [
    "Die Erkennung von fehlenden Zeilen wurde über ein Sliding-Window der Größe 2 gemacht. Für jede Zeile wurde geschaut, ob sich die Minuten in der nächsten Zeile nur um 5 ändern oder nicht. Falls ja, wird eine neue Zeile angelegt und in einer Liste vermerkt. Spezialfälle sind jene Windows, bei denen sich der Timestamp ändert. Um das Iterieren über den Container nicht zu behindern, werden die neuen Zeilen erst im Nachhinein hinzugefügt und der Dataframe danach wieder sortiert."
   ]
  },
  {
   "cell_type": "code",
   "execution_count": 10,
   "id": "16ecdd8d-cdce-4f8a-b135-a5935d415c51",
   "metadata": {},
   "outputs": [
    {
     "data": {
      "text/html": [
       "<div>\n",
       "<style scoped>\n",
       "    .dataframe tbody tr th:only-of-type {\n",
       "        vertical-align: middle;\n",
       "    }\n",
       "\n",
       "    .dataframe tbody tr th {\n",
       "        vertical-align: top;\n",
       "    }\n",
       "\n",
       "    .dataframe thead th {\n",
       "        text-align: right;\n",
       "    }\n",
       "</style>\n",
       "<table border=\"1\" class=\"dataframe\">\n",
       "  <thead>\n",
       "    <tr style=\"text-align: right;\">\n",
       "      <th></th>\n",
       "      <th>Glucose</th>\n",
       "      <th>Insuline</th>\n",
       "      <th>CH</th>\n",
       "      <th>Minutes</th>\n",
       "      <th>ID</th>\n",
       "    </tr>\n",
       "  </thead>\n",
       "  <tbody>\n",
       "    <tr>\n",
       "      <th>count</th>\n",
       "      <td>2598.000000</td>\n",
       "      <td>2601.000000</td>\n",
       "      <td>2739.000000</td>\n",
       "      <td>2868.000000</td>\n",
       "      <td>2739.000000</td>\n",
       "    </tr>\n",
       "    <tr>\n",
       "      <th>mean</th>\n",
       "      <td>168.664742</td>\n",
       "      <td>0.412337</td>\n",
       "      <td>0.048375</td>\n",
       "      <td>722.923640</td>\n",
       "      <td>1544.856152</td>\n",
       "    </tr>\n",
       "    <tr>\n",
       "      <th>std</th>\n",
       "      <td>61.003377</td>\n",
       "      <td>1.065895</td>\n",
       "      <td>0.494617</td>\n",
       "      <td>415.748853</td>\n",
       "      <td>1000.966215</td>\n",
       "    </tr>\n",
       "    <tr>\n",
       "      <th>min</th>\n",
       "      <td>56.000000</td>\n",
       "      <td>0.000000</td>\n",
       "      <td>0.000000</td>\n",
       "      <td>5.000000</td>\n",
       "      <td>1.000000</td>\n",
       "    </tr>\n",
       "    <tr>\n",
       "      <th>25%</th>\n",
       "      <td>123.000000</td>\n",
       "      <td>0.046386</td>\n",
       "      <td>0.000000</td>\n",
       "      <td>363.750000</td>\n",
       "      <td>715.500000</td>\n",
       "    </tr>\n",
       "    <tr>\n",
       "      <th>50%</th>\n",
       "      <td>166.000000</td>\n",
       "      <td>0.083445</td>\n",
       "      <td>0.000000</td>\n",
       "      <td>725.000000</td>\n",
       "      <td>1426.000000</td>\n",
       "    </tr>\n",
       "    <tr>\n",
       "      <th>75%</th>\n",
       "      <td>215.000000</td>\n",
       "      <td>0.130238</td>\n",
       "      <td>0.000000</td>\n",
       "      <td>1081.250000</td>\n",
       "      <td>2149.500000</td>\n",
       "    </tr>\n",
       "    <tr>\n",
       "      <th>max</th>\n",
       "      <td>297.000000</td>\n",
       "      <td>9.641700</td>\n",
       "      <td>11.000000</td>\n",
       "      <td>1440.000000</td>\n",
       "      <td>3456.000000</td>\n",
       "    </tr>\n",
       "  </tbody>\n",
       "</table>\n",
       "</div>"
      ],
      "text/plain": [
       "           Glucose     Insuline           CH      Minutes           ID\n",
       "count  2598.000000  2601.000000  2739.000000  2868.000000  2739.000000\n",
       "mean    168.664742     0.412337     0.048375   722.923640  1544.856152\n",
       "std      61.003377     1.065895     0.494617   415.748853  1000.966215\n",
       "min      56.000000     0.000000     0.000000     5.000000     1.000000\n",
       "25%     123.000000     0.046386     0.000000   363.750000   715.500000\n",
       "50%     166.000000     0.083445     0.000000   725.000000  1426.000000\n",
       "75%     215.000000     0.130238     0.000000  1081.250000  2149.500000\n",
       "max     297.000000     9.641700    11.000000  1440.000000  3456.000000"
      ]
     },
     "execution_count": 10,
     "metadata": {},
     "output_type": "execute_result"
    }
   ],
   "source": [
    "missing_rows = []\n",
    "for window in data.rolling(window=2):\n",
    "    if len(window) == 2:\n",
    "        prevd, nextd = window[\"Timestamp\"]\n",
    "        prevv, nextv = window[\"Minutes\"]\n",
    "        \n",
    "        # check if day was skipped and correct values\n",
    "        if prevd != nextd:\n",
    "            nextv += 1440\n",
    "        \n",
    "        diff = np.abs(nextv - prevv)\n",
    "        \n",
    "        # Two successive days should only differ by five minutes.\n",
    "        if diff != 5:\n",
    "            new_row = {\n",
    "                \"Glucose\": pd.NA,\n",
    "                \"Insuline\": pd.NA,\n",
    "                \"CH\": pd.NA,\n",
    "                \"Date\": str(prevd) if prevv != 1440 else str(nextd),\n",
    "                \"Minutes\": prevv+5 if prevv != 1440 else 5,\n",
    "                \"Timestamp\": prevd if prevv != 1440 else nextd\n",
    "            }\n",
    "            missing_rows.append(new_row)\n",
    "            \n",
    "# Copy the data, then append new rows\n",
    "corrected_data = data.copy(deep=True)\n",
    "for missing_row in missing_rows:\n",
    "    corrected_data.loc[len(corrected_data)] = missing_row\n",
    "    \n",
    "# sort them by timestamp and minutes, and while we're at it, also deal with the \"-1\"s.\n",
    "corrected_data.sort_values(by=[\"Timestamp\", \"Minutes\"], inplace=True)\n",
    "corrected_data.Glucose.replace(-1, np.nan, inplace=True)\n",
    "corrected_data.describe()"
   ]
  },
  {
   "cell_type": "code",
   "execution_count": 11,
   "id": "416e64a6-d6fa-4162-966d-015350b8da93",
   "metadata": {},
   "outputs": [
    {
     "name": "stdout",
     "output_type": "stream",
     "text": [
      "2739 2868\n"
     ]
    }
   ],
   "source": [
    "print(len(data), len(corrected_data))"
   ]
  },
  {
   "cell_type": "markdown",
   "id": "70826314-684b-4911-a2bc-fc4a4851095e",
   "metadata": {
    "jp-MarkdownHeadingCollapsed": true,
    "tags": []
   },
   "source": [
    "## 5)"
   ]
  },
  {
   "cell_type": "markdown",
   "id": "fde55dac-7931-4ab2-8b3d-f3a4ded25fde",
   "metadata": {},
   "source": [
    "Generieren Sie die „Missingness Matrix“ und plotten Sie diese."
   ]
  },
  {
   "cell_type": "markdown",
   "id": "9ee27882-6aad-4c1c-bf11-fb005322bc74",
   "metadata": {},
   "source": [
    "Für diese Aufgabe kann die bestehende Library \"missingno\" verwendet werden, die zudem auch nach einem coolen Pokémon benannt ist. :)"
   ]
  },
  {
   "cell_type": "code",
   "execution_count": 12,
   "id": "15ead70e-d8bd-4698-acbd-6e9dd893374a",
   "metadata": {},
   "outputs": [
    {
     "data": {
      "text/plain": [
       "<Axes: >"
      ]
     },
     "execution_count": 12,
     "metadata": {},
     "output_type": "execute_result"
    },
    {
     "data": {
      "image/png": "[encoded data removed]",
      "text/plain": [
       "<Figure size 2500x1000 with 2 Axes>"
      ]
     },
     "metadata": {},
     "output_type": "display_data"
    }
   ],
   "source": [
    "import missingno\n",
    "\n",
    "missingno.matrix(corrected_data)"
   ]
  },
  {
   "cell_type": "markdown",
   "id": "c764c763-fabb-4136-b3a6-8326ceee74b0",
   "metadata": {},
   "source": [
    "In der obenstehenden Grafik ist ersichtlich, bei welchen Zeilen (Id) bzw. wo sich die Missing-Values aufhalten. "
   ]
  },
  {
   "cell_type": "markdown",
   "id": "ba0a01aa-5004-4c17-8888-964ceaf11cb9",
   "metadata": {
    "jp-MarkdownHeadingCollapsed": true,
    "tags": []
   },
   "source": [
    "## 6)"
   ]
  },
  {
   "cell_type": "markdown",
   "id": "3b4c819e-aeeb-47f8-b244-d7abc175ad42",
   "metadata": {},
   "source": [
    "Implementieren Sie ein Skript / Programm in dem Sie folgende „Missing Value Strategien“ für den\n",
    "Glukosewert sowie den Insulinwert ausimplementieren:\n",
    "\n",
    "a. Zeilenweises Entfernen von Missing Values"
   ]
  },
  {
   "cell_type": "code",
   "execution_count": 13,
   "id": "130100c9-ff1e-4efa-b2b6-ee7eb2cb2ccc",
   "metadata": {},
   "outputs": [],
   "source": [
    "# Drop all rows containing \"NA\"\n",
    "dropped = corrected_data.dropna()"
   ]
  },
  {
   "cell_type": "markdown",
   "id": "2c881b30-1b98-4926-acf0-58ca451e0715",
   "metadata": {},
   "source": [
    "b. Ersetzung durch Mittelwerte"
   ]
  },
  {
   "cell_type": "code",
   "execution_count": 14,
   "id": "ade9d48b-34e9-4d35-bc08-754fa150e794",
   "metadata": {},
   "outputs": [
    {
     "name": "stdout",
     "output_type": "stream",
     "text": [
      "Glucose      270\n",
      "Insuline     267\n",
      "CH           129\n",
      "Date           0\n",
      "Minutes        0\n",
      "ID           129\n",
      "Timestamp      0\n",
      "dtype: int64\n",
      "---------------\n",
      "Glucose        0\n",
      "Insuline       0\n",
      "CH           129\n",
      "Date           0\n",
      "Minutes        0\n",
      "ID           129\n",
      "Timestamp      0\n",
      "dtype: int64\n"
     ]
    }
   ],
   "source": [
    "# Replace value in all rows containing \"NA\" with mean\n",
    "mean = corrected_data.copy(deep=True)\n",
    "print(mean.isna().sum())\n",
    "mean[\"Glucose\"] = mean[\"Glucose\"].replace(np.nan, np.mean(mean.Glucose))\n",
    "mean[\"Insuline\"] = mean[\"Insuline\"].replace(np.nan, np.mean(mean.Insuline))\n",
    "print(\"---------------\")\n",
    "print(mean.isna().sum())"
   ]
  },
  {
   "cell_type": "markdown",
   "id": "f6d24e3f-1bf3-445e-b3b6-95bc9c4b6d4d",
   "metadata": {},
   "source": [
    "c. Ersetzung durch einen zufälligen Wert"
   ]
  },
  {
   "cell_type": "code",
   "execution_count": 15,
   "id": "33b96c54-19ee-456e-bb15-6ade54af6248",
   "metadata": {},
   "outputs": [
    {
     "name": "stdout",
     "output_type": "stream",
     "text": [
      "Glucose      270\n",
      "Insuline     267\n",
      "CH           129\n",
      "Date           0\n",
      "Minutes        0\n",
      "ID           129\n",
      "Timestamp      0\n",
      "dtype: int64\n",
      "---------------\n",
      "Glucose        0\n",
      "Insuline       0\n",
      "CH           129\n",
      "Date           0\n",
      "Minutes        0\n",
      "ID           129\n",
      "Timestamp      0\n",
      "dtype: int64\n"
     ]
    }
   ],
   "source": [
    "# Replace value in all rows containing \"NA\" with random values\n",
    "rand = corrected_data.copy(deep=True)\n",
    "print(rand.isna().sum())\n",
    "rand_gluc = np.random.normal(loc=np.mean(rand.Glucose), scale = np.std(rand.Glucose), size=rand.Glucose.isna().sum())\n",
    "rand_insu = np.random.normal(loc=np.mean(rand.Insuline), scale = np.std(rand.Insuline), size=rand.Insuline.isna().sum())\n",
    "rand.loc[rand.Glucose.isnull(), \"Glucose\"] = rand_gluc\n",
    "rand.loc[rand.Insuline.isnull(), \"Insuline\"] = rand_insu\n",
    "print(\"---------------\")\n",
    "print(rand.isna().sum())"
   ]
  },
  {
   "cell_type": "markdown",
   "id": "7b01dca3-f40b-4001-bd16-982ada5c18d8",
   "metadata": {},
   "source": [
    "Hier wurde im Vorhinein eine Liste an randomisierten Werten erzeugt, und dann alle NaN-Werte damit überschrieben. Die randomisierten Werte stammen aus einer Verteilung, die zu den Daten gehören könnte."
   ]
  },
  {
   "cell_type": "markdown",
   "id": "2e964fd2-fd02-4803-9ae6-1ded1bb03f2d",
   "metadata": {},
   "source": [
    "d. Interpolation durch Regression"
   ]
  },
  {
   "cell_type": "code",
   "execution_count": 16,
   "id": "ae94d1f3-037c-448d-84c9-47e5b3e14afd",
   "metadata": {},
   "outputs": [
    {
     "name": "stdout",
     "output_type": "stream",
     "text": [
      "Glucose        1\n",
      "Insuline       0\n",
      "CH           129\n",
      "Date           0\n",
      "Minutes        0\n",
      "ID           129\n",
      "Timestamp      0\n",
      "dtype: int64\n"
     ]
    }
   ],
   "source": [
    "# Replace value in all rows containing \"NA\" with interpolated values\n",
    "interp = corrected_data.copy(deep=True).reset_index(drop=True)\n",
    "interp.Glucose = interp.Glucose.interpolate(method='polynomial', order=15)\n",
    "interp.Insuline = interp.Insuline.interpolate(method='polynomial', order=5)\n",
    "print(interp.isna().sum())"
   ]
  },
  {
   "cell_type": "code",
   "execution_count": 17,
   "id": "713d6e42-908a-48aa-85cf-5b623faafb5e",
   "metadata": {},
   "outputs": [
    {
     "data": {
      "text/plain": [
       "nan"
      ]
     },
     "execution_count": 17,
     "metadata": {},
     "output_type": "execute_result"
    }
   ],
   "source": [
    "interp.Glucose[len(interp.Glucose)-1]"
   ]
  },
  {
   "cell_type": "markdown",
   "id": "311061e3-fd5e-404f-8ba8-f1bd86aac46f",
   "metadata": {},
   "source": [
    "Hierbei wurde, anhand von einer vorherigen Analyse der Daten, entsprechend der Grad der Polynome gewählt. Glukose wirkt sehr hochdimensional, während Insulin meist nur wenige Änderungen im Steigungsverhalten aufweist. Hierbei ist auch zu beachten, dass eine Interpolation für 1 Element nicht möglich ist. Das kommt daher, dass das Element an letzter Stelle steht, und somit eine Extrapolation wäre, wie im oberen Feld zu sehen ist."
   ]
  },
  {
   "cell_type": "markdown",
   "id": "60788de8-deee-4f99-97f0-3f772065b9aa",
   "metadata": {
    "jp-MarkdownHeadingCollapsed": true,
    "tags": []
   },
   "source": [
    "## 7)"
   ]
  },
  {
   "cell_type": "code",
   "execution_count": 18,
   "id": "2947d0ba-f7ac-4f9f-b24a-cc39ed0f81cf",
   "metadata": {},
   "outputs": [],
   "source": [
    "dropped.to_csv(\"out/drop_strategy.csv\", sep=\",\", decimal=\".\", index=False)\n",
    "mean.to_csv(\"out/mean_strategy.csv\", sep=\",\", decimal=\".\", index=False)\n",
    "rand.to_csv(\"out/rand_strategy.csv\", sep=\",\", decimal=\".\", index=False)\n",
    "interp.to_csv(\"out/interp_strategy.csv\", sep=\",\", decimal=\".\", index=False)"
   ]
  },
  {
   "cell_type": "markdown",
   "id": "61af2e34-4c63-4dc1-aeb2-12f2194c7975",
   "metadata": {},
   "source": [
    "Jedes File wird mit \",\" als Separator, und \".\" als Dezimalzeichen gespeichert."
   ]
  }
 ],
 "metadata": {
  "kernelspec": {
   "display_name": "Python (MLTeaching)",
   "language": "python",
   "name": "mlteaching"
  },
  "language_info": {
   "codemirror_mode": {
    "name": "ipython",
    "version": 3
   },
   "file_extension": ".py",
   "mimetype": "text/x-python",
   "name": "python",
   "nbconvert_exporter": "python",
   "pygments_lexer": "ipython3",
   "version": "3.8.8"
  }
 },
 "nbformat": 4,
 "nbformat_minor": 5
}
