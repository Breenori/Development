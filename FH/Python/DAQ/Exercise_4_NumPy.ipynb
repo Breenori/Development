{
 "cells": [
  {
   "cell_type": "markdown",
   "metadata": {},
   "source": [
    "### Exercise 3: NumPy"
   ]
  },
  {
   "cell_type": "markdown",
   "metadata": {},
   "source": [
    "Please solve the following exercises. If necessary provide test cases:\\\n",
    "a) Create a NumPy Array \"a\" of size 50 with random numbers between 0 and 100.\\\n",
    "b) Create a NumPy Array \"b\" of size 10*10 with random numbers less than 0.\\\n",
    "c) Calculate the sum and average of each column and each row of \"b\".\\\n",
    "d) Print all values of \"a\" that are greater than 1 but smaller than 6. How many percent of the numbers are in that range?\\\n",
    "e) Create a NumPy Array \"c\" of size 30 with the repeating sequence \"1, 2, 3, 4\".\\\n",
    "f) Create a 3×3 NumPy Array \"d\" of all True’s\\\n",
    "g) Extract all odd numbers from \"a\".\\\n",
    "h) Write a NumPy program to get the powers of an array values element-wise. (First element to the power of the second element, second element to the power of the third element, ...).\\\n",
    "i) Write a NumPy program to multiply a 5x3 matrix by a 3x2 matrix and create a real matrix product.\\\n",
    "j) Write a NumPy program to convert angles from degrees to radians for all elements in a given array.\\\n",
    "k) Find all the peaks in \"a\". Peaks are points surrounded by smaller values on both sides.\\\n",
    "l) Given an array of a non-continuous sequence of dates. Make it a continuous sequence of dates, by filling in the missing dates.\\\n",
    "m) Create a rank array of the same shape as \"b\".\\\n",
    "n) Write a function that has a 2D array as input parameter. If this matrix is squared and its shape is a square number return sliced arrays (horizontal and vertical) with size of the square root of the dimenstions. If this matrix is not squared return an information why the operation could not be performed.\\\n",
    "o) Provide an overview of the frequency of each number of \"b\".\\\n",
    "p) Solve the system of equations:\\\n",
    "$$4x + 3y + 2z = 25$$\n",
    "$$-2x + 2y + 3z = -10$$\n",
    "$$3x -5y + 2z = -4$$"
   ]
  },
  {
   "cell_type": "markdown",
   "metadata": {},
   "source": [
    "Data for exercise l)"
   ]
  },
  {
   "cell_type": "code",
   "execution_count": 2,
   "metadata": {
    "collapsed": true,
    "jupyter": {
     "outputs_hidden": true,
     "source_hidden": true
    },
    "tags": []
   },
   "outputs": [
    {
     "data": {
      "text/plain": [
       "array(['2020-04-01', '2020-04-03', '2020-04-05', '2020-04-07',\n",
       "       '2020-04-09', '2020-04-11', '2020-04-13', '2020-04-15',\n",
       "       '2020-04-17', '2020-04-19', '2020-04-21', '2020-04-23',\n",
       "       '2020-04-25', '2020-04-27', '2020-04-29'], dtype='datetime64[D]')"
      ]
     },
     "execution_count": 2,
     "metadata": {},
     "output_type": "execute_result"
    }
   ],
   "source": [
    "import numpy as np\n",
    "dates = np.arange(np.datetime64('2020-04-01'), np.datetime64('2020-04-30'), 2)\n",
    "dates"
   ]
  },
  {
   "cell_type": "markdown",
   "metadata": {
    "tags": []
   },
   "source": [
    "a)"
   ]
  },
  {
   "cell_type": "code",
   "execution_count": 32,
   "metadata": {
    "collapsed": true,
    "jupyter": {
     "outputs_hidden": true,
     "source_hidden": true
    },
    "tags": []
   },
   "outputs": [
    {
     "data": {
      "text/plain": [
       "array([29, 65, 52, 87, 59, 31, 84, 75, 79, 65, 25, 91, 76, 48,  0, 69, 26,\n",
       "       70, 89, 92, 63, 39, 63, 18, 29, 28, 76, 60, 90,  6, 63, 15, 36, 66,\n",
       "       72, 21, 76, 73, 71, 78, 34, 90, 95, 95,  2, 11,  2, 10, 37,  2])"
      ]
     },
     "execution_count": 32,
     "metadata": {},
     "output_type": "execute_result"
    }
   ],
   "source": [
    "a = np.random.randint(0,100,(50))\n",
    "a"
   ]
  },
  {
   "cell_type": "markdown",
   "metadata": {
    "jupyter": {
     "source_hidden": true
    },
    "tags": []
   },
   "source": [
    "b)"
   ]
  },
  {
   "cell_type": "code",
   "execution_count": 16,
   "metadata": {
    "collapsed": true,
    "jupyter": {
     "outputs_hidden": true
    },
    "tags": []
   },
   "outputs": [
    {
     "data": {
      "text/plain": [
       "array([[ -65,  -60,  -23,  -23,  -70,  -25,  -73,   -3,  -60,  -19],\n",
       "       [ -44,  -66,  -79,  -79,  -40,  -90,   -5,  -21,  -71,  -72],\n",
       "       [ -57,  -48,  -75,  -46,  -89,   -2,  -86,  -31,  -94,  -92],\n",
       "       [ -74,  -89,  -41,  -90,  -29,  -32,  -41,  -60,  -60,  -92],\n",
       "       [-100,  -43,  -28,  -89,  -56,  -35,   -2,  -88,  -22,  -13],\n",
       "       [ -62,  -41,  -14,  -34,  -48,  -84,   -7,  -29,  -48,   -8],\n",
       "       [ -75,   -9,  -59,  -47,  -23,  -80,  -97,  -29,  -14,  -30],\n",
       "       [ -69,  -73,  -76,   -8,  -42,   -5,  -98,  -35,  -89,  -77],\n",
       "       [ -32,  -94,  -86,  -23,  -16,  -82,  -23,  -43,  -23,  -81],\n",
       "       [ -55,  -91,  -68,  -69,  -80,  -82,  -57,  -16,  -79,  -22]])"
      ]
     },
     "execution_count": 16,
     "metadata": {},
     "output_type": "execute_result"
    }
   ],
   "source": [
    "b = np.random.randint(-100,0,(10,10))\n",
    "b"
   ]
  },
  {
   "cell_type": "markdown",
   "metadata": {
    "jupyter": {
     "source_hidden": true
    },
    "tags": []
   },
   "source": [
    "c)"
   ]
  },
  {
   "cell_type": "code",
   "execution_count": 28,
   "metadata": {
    "tags": []
   },
   "outputs": [
    {
     "name": "stdout",
     "output_type": "stream",
     "text": [
      "rowsums  [-421 -567 -620 -608 -476 -375 -463 -572 -503 -619]\n",
      "colsums  [-633 -614 -549 -508 -493 -517 -489 -355 -560 -506]\n",
      "rowavg  [-42.1 -56.7 -62.  -60.8 -47.6 -37.5 -46.3 -57.2 -50.3 -61.9]\n",
      "colavg  [-63.3 -61.4 -54.9 -50.8 -49.3 -51.7 -48.9 -35.5 -56.  -50.6]\n"
     ]
    }
   ],
   "source": [
    "rowsums = b.sum(axis=1)\n",
    "print(\"rowsums \", rowsums)\n",
    "colsums = b.sum(axis=0)\n",
    "print(\"colsums \", colsums)\n",
    "\n",
    "rowavg = b.mean(axis=1)\n",
    "print(\"rowavg \", rowavg)\n",
    "colavg = b.mean(axis=0)\n",
    "print(\"colavg \", colavg)"
   ]
  },
  {
   "cell_type": "markdown",
   "metadata": {
    "tags": []
   },
   "source": [
    "d)"
   ]
  },
  {
   "cell_type": "code",
   "execution_count": 35,
   "metadata": {
    "tags": []
   },
   "outputs": [
    {
     "name": "stdout",
     "output_type": "stream",
     "text": [
      "[2 2 2]\n",
      "6.0 % are between 1 and 6\n"
     ]
    }
   ],
   "source": [
    "arr = a[(a > 1) & (a < 6)]\n",
    "ratio = len(arr)/len(a)\n",
    "print(arr)\n",
    "print(ratio*100,\"% are between 1 and 6\")"
   ]
  },
  {
   "cell_type": "markdown",
   "metadata": {
    "tags": []
   },
   "source": [
    "e)"
   ]
  },
  {
   "cell_type": "code",
   "execution_count": 56,
   "metadata": {
    "tags": []
   },
   "outputs": [
    {
     "data": {
      "text/plain": [
       "array([1, 2, 3, 4, 1, 2, 3, 4, 1, 2, 3, 4, 1, 2, 3, 4, 1, 2, 3, 4, 1, 2,\n",
       "       3, 4, 1, 2, 3, 4, 1, 2])"
      ]
     },
     "execution_count": 56,
     "metadata": {},
     "output_type": "execute_result"
    }
   ],
   "source": [
    "c = np.resize([1,2,3,4],30)\n",
    "c"
   ]
  },
  {
   "cell_type": "markdown",
   "metadata": {
    "tags": []
   },
   "source": [
    "f)"
   ]
  },
  {
   "cell_type": "code",
   "execution_count": 41,
   "metadata": {
    "tags": []
   },
   "outputs": [
    {
     "data": {
      "text/plain": [
       "array([[ True,  True,  True],\n",
       "       [ True,  True,  True],\n",
       "       [ True,  True,  True]])"
      ]
     },
     "execution_count": 41,
     "metadata": {},
     "output_type": "execute_result"
    }
   ],
   "source": [
    "np.full((3,3),True)"
   ]
  },
  {
   "cell_type": "markdown",
   "metadata": {
    "tags": []
   },
   "source": [
    "g)"
   ]
  },
  {
   "cell_type": "code",
   "execution_count": 43,
   "metadata": {
    "tags": []
   },
   "outputs": [
    {
     "data": {
      "text/plain": [
       "array([29, 65, 87, 59, 31, 75, 79, 65, 25, 91, 69, 89, 63, 39, 63, 29, 63,\n",
       "       15, 21, 73, 71, 95, 95, 11, 37])"
      ]
     },
     "execution_count": 43,
     "metadata": {},
     "output_type": "execute_result"
    }
   ],
   "source": [
    "a[a%2 != 0]"
   ]
  },
  {
   "cell_type": "markdown",
   "metadata": {},
   "source": [
    "h)"
   ]
  },
  {
   "cell_type": "code",
   "execution_count": 60,
   "metadata": {
    "tags": []
   },
   "outputs": [
    {
     "data": {
      "text/plain": [
       "array([   1,    8,   81, 1024])"
      ]
     },
     "execution_count": 60,
     "metadata": {},
     "output_type": "execute_result"
    }
   ],
   "source": [
    "inarr = np.array([1,2,3,4,5])\n",
    "powers = np.power(inarr[:-1], inarr[1:])\n",
    "powers"
   ]
  },
  {
   "cell_type": "markdown",
   "metadata": {},
   "source": [
    "i)"
   ]
  },
  {
   "cell_type": "code",
   "execution_count": 67,
   "metadata": {
    "tags": []
   },
   "outputs": [],
   "source": [
    "a = np.array([[1,2,3], \n",
    "              [4,5,6], \n",
    "              [7,8,9], \n",
    "              [10, 11, 12], \n",
    "              [13, 14, 15]])\n",
    "b = np.array([[1, 2],\n",
    "             [3, 4],\n",
    "             [5, 6]])\n",
    "\n",
    "#c = np.product(a,b)"
   ]
  },
  {
   "cell_type": "markdown",
   "metadata": {},
   "source": [
    "j)"
   ]
  },
  {
   "cell_type": "code",
   "execution_count": 103,
   "metadata": {
    "tags": []
   },
   "outputs": [
    {
     "data": {
      "text/plain": [
       "array([ 28.64788976,  57.29577951,  85.94366927, 114.59155903])"
      ]
     },
     "execution_count": 103,
     "metadata": {},
     "output_type": "execute_result"
    }
   ],
   "source": [
    "radians = np.array([0.5, 1, 1.5, 2])\n",
    "np.rad2deg(radians)"
   ]
  },
  {
   "cell_type": "markdown",
   "metadata": {},
   "source": [
    "k)"
   ]
  },
  {
   "cell_type": "code",
   "execution_count": 109,
   "metadata": {
    "tags": []
   },
   "outputs": [
    {
     "name": "stdout",
     "output_type": "stream",
     "text": [
      "2\n",
      "4\n",
      "7\n",
      "9\n",
      "13\n",
      "16\n",
      "20\n",
      "25\n",
      "30\n",
      "34\n",
      "41\n",
      "43\n",
      "45\n"
     ]
    }
   ],
   "source": [
    "a = np.random.randint(0,100,(50))\n",
    "for i in range(len(a)-1):\n",
    "    if (a[i] > a[i-1]) and (a[i] > a[i+1]):\n",
    "        print(i)"
   ]
  },
  {
   "cell_type": "markdown",
   "metadata": {},
   "source": [
    "l)"
   ]
  },
  {
   "cell_type": "code",
   "execution_count": 78,
   "metadata": {
    "tags": []
   },
   "outputs": [],
   "source": [
    "from datetime import datetime, timedelta\n",
    "dates = np.arange(datetime(2020,3,1), datetime(2020,3,31), timedelta(days=2)).astype(datetime)"
   ]
  },
  {
   "cell_type": "code",
   "execution_count": 92,
   "metadata": {
    "tags": []
   },
   "outputs": [
    {
     "name": "stdout",
     "output_type": "stream",
     "text": [
      "15 28\n",
      "[datetime.datetime(2020, 3, 1, 0, 0) datetime.datetime(2020, 3, 3, 0, 0)\n",
      " datetime.datetime(2020, 3, 5, 0, 0) datetime.datetime(2020, 3, 7, 0, 0)\n",
      " datetime.datetime(2020, 3, 9, 0, 0) datetime.datetime(2020, 3, 11, 0, 0)\n",
      " datetime.datetime(2020, 3, 13, 0, 0) datetime.datetime(2020, 3, 15, 0, 0)\n",
      " datetime.datetime(2020, 3, 17, 0, 0) datetime.datetime(2020, 3, 19, 0, 0)\n",
      " datetime.datetime(2020, 3, 21, 0, 0) datetime.datetime(2020, 3, 23, 0, 0)\n",
      " datetime.datetime(2020, 3, 25, 0, 0) datetime.datetime(2020, 3, 27, 0, 0)\n",
      " datetime.datetime(2020, 3, 29, 0, 0)]\n",
      "---------------\n",
      "[datetime.datetime(2020, 3, 1, 0, 0) datetime.datetime(2020, 3, 2, 0, 0)\n",
      " datetime.datetime(2020, 3, 3, 0, 0) datetime.datetime(2020, 3, 4, 0, 0)\n",
      " datetime.datetime(2020, 3, 5, 0, 0) datetime.datetime(2020, 3, 6, 0, 0)\n",
      " datetime.datetime(2020, 3, 7, 0, 0) datetime.datetime(2020, 3, 8, 0, 0)\n",
      " datetime.datetime(2020, 3, 9, 0, 0) datetime.datetime(2020, 3, 10, 0, 0)\n",
      " datetime.datetime(2020, 3, 11, 0, 0) datetime.datetime(2020, 3, 12, 0, 0)\n",
      " datetime.datetime(2020, 3, 13, 0, 0) datetime.datetime(2020, 3, 14, 0, 0)\n",
      " datetime.datetime(2020, 3, 15, 0, 0) datetime.datetime(2020, 3, 16, 0, 0)\n",
      " datetime.datetime(2020, 3, 17, 0, 0) datetime.datetime(2020, 3, 18, 0, 0)\n",
      " datetime.datetime(2020, 3, 19, 0, 0) datetime.datetime(2020, 3, 20, 0, 0)\n",
      " datetime.datetime(2020, 3, 21, 0, 0) datetime.datetime(2020, 3, 22, 0, 0)\n",
      " datetime.datetime(2020, 3, 23, 0, 0) datetime.datetime(2020, 3, 24, 0, 0)\n",
      " datetime.datetime(2020, 3, 25, 0, 0) datetime.datetime(2020, 3, 26, 0, 0)\n",
      " datetime.datetime(2020, 3, 27, 0, 0) datetime.datetime(2020, 3, 28, 0, 0)]\n"
     ]
    }
   ],
   "source": [
    "dates_full = np.arange(np.min(dates), np.max(dates), timedelta(days=1)).astype(datetime)\n",
    "print(len(dates), len(dates_full))\n",
    "print(dates)\n",
    "print(\"---------------\")\n",
    "print(dates_full)"
   ]
  },
  {
   "cell_type": "markdown",
   "metadata": {},
   "source": [
    "m)"
   ]
  },
  {
   "cell_type": "code",
   "execution_count": 98,
   "metadata": {
    "tags": []
   },
   "outputs": [
    {
     "name": "stdout",
     "output_type": "stream",
     "text": [
      "[[0 5 7 9 2 6 3 1 8 4]\n",
      " [2 9 3 8 4 0 5 6 1 7]\n",
      " [1 9 5 2 3 6 8 7 0 4]\n",
      " [2 4 9 3 7 1 5 8 6 0]\n",
      " [1 3 4 9 0 2 6 5 8 7]\n",
      " [2 1 6 5 4 0 9 3 7 8]\n",
      " [7 9 1 3 4 2 8 0 6 5]\n",
      " [6 4 3 2 9 1 8 0 7 5]\n",
      " [9 3 1 2 8 7 4 5 0 6]\n",
      " [1 2 7 6 3 4 9 5 8 0]]\n"
     ]
    }
   ],
   "source": [
    "b = np.random.randint(-100,0,(10,10))\n",
    "ranks = np.argsort(b)[::-1]\n",
    "print(ranks)"
   ]
  },
  {
   "cell_type": "markdown",
   "metadata": {},
   "source": [
    "n)"
   ]
  },
  {
   "cell_type": "code",
   "execution_count": null,
   "metadata": {},
   "outputs": [],
   "source": [
    "import math\n",
    "\n",
    "def is_square(i: int) -> bool:\n",
    "    return i == math.isqrt(i) ** 2\n",
    "\n",
    "def slice_matrix(matrix: np.ndarray):\n",
    "    if len(matrix.shape)==2 and matrix.shape[0] == matrix.shape[1]:\n",
    "        shape = matrix.shape[0] * matrix.shape[1]\n",
    "        if is_square(shape)\n",
    "        sq = np.sqrt(matrix.shape[0])\n",
    "        return matrix[:sq, :sq]\n",
    "    else:\n",
    "        print(\"Operation only possible for square matrix.\")\n",
    "        return None"
   ]
  },
  {
   "cell_type": "markdown",
   "metadata": {},
   "source": [
    "o)"
   ]
  },
  {
   "cell_type": "code",
   "execution_count": 100,
   "metadata": {
    "tags": []
   },
   "outputs": [
    {
     "name": "stdout",
     "output_type": "stream",
     "text": [
      "[-100  -99  -97  -96  -92  -91  -90  -89  -88  -87  -86  -84  -83  -82\n",
      "  -81  -80  -79  -78  -76  -75  -72  -70  -68  -66  -64  -62  -61  -60\n",
      "  -59  -57  -56  -53  -52  -50  -49  -48  -47  -43  -42  -33  -32  -31\n",
      "  -29  -28  -27  -25  -24  -23  -21  -20  -19  -18  -17  -16  -10   -9\n",
      "   -8   -6   -5   -4   -3   -1]\n",
      "[1 2 1 1 1 1 1 2 1 4 2 1 1 1 1 1 1 3 2 1 2 3 2 1 3 2 1 2 1 2 4 1 2 1 1 2 1\n",
      " 1 2 2 2 1 1 3 2 2 2 1 2 2 1 2 1 2 1 1 2 1 2 1 1 2]\n"
     ]
    }
   ],
   "source": [
    "unique, counts = np.unique(b, return_counts=True)\n",
    "print(unique)\n",
    "print(counts)"
   ]
  },
  {
   "cell_type": "markdown",
   "metadata": {},
   "source": [
    "p)"
   ]
  },
  {
   "cell_type": "code",
   "execution_count": 101,
   "metadata": {
    "tags": []
   },
   "outputs": [
    {
     "data": {
      "text/plain": [
       "array([ 5.,  3., -2.])"
      ]
     },
     "execution_count": 101,
     "metadata": {},
     "output_type": "execute_result"
    }
   ],
   "source": [
    "coeff = np.array([[4,3,2], [-2,2,3], [3,-5,2]])\n",
    "y = np.array([25,-10,-4])\n",
    "\n",
    "X = np.linalg.solve(coeff,y)\n",
    "X"
   ]
  }
 ],
 "metadata": {
  "kernelspec": {
   "display_name": "Python 3",
   "language": "python",
   "name": "python3"
  },
  "language_info": {
   "codemirror_mode": {
    "name": "ipython",
    "version": 3
   },
   "file_extension": ".py",
   "mimetype": "text/x-python",
   "name": "python",
   "nbconvert_exporter": "python",
   "pygments_lexer": "ipython3",
   "version": "3.11.0 (main, Oct 24 2022, 18:26:48) [MSC v.1933 64 bit (AMD64)]"
  },
  "vscode": {
   "interpreter": {
    "hash": "81f913009838bfd2ecb5df30f094e0a7d1cbed9ff19dd9327f0ce49fca28b328"
   }
  }
 },
 "nbformat": 4,
 "nbformat_minor": 4
}
